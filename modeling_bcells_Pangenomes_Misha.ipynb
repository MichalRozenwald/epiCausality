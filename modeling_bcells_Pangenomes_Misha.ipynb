{
  "cells": [
    {
      "cell_type": "markdown",
      "metadata": {
        "id": "view-in-github",
        "colab_type": "text"
      },
      "source": [
        "<a href=\"https://colab.research.google.com/github/MichalRozenwald/epiCausality/blob/main/modeling_bcells_Pangenomes_Misha.ipynb\" target=\"_parent\"><img src=\"https://colab.research.google.com/assets/colab-badge.svg\" alt=\"Open In Colab\"/></a>"
      ]
    },
    {
      "cell_type": "code",
      "source": [
        "# from google.colab import drive\n",
        "# drive.mount('/content/drive')"
      ],
      "metadata": {
        "colab": {
          "base_uri": "https://localhost:8080/"
        },
        "id": "XKV8Nh0byOfO",
        "outputId": "b85c30e2-d424-4ebc-ae14-689981edc132"
      },
      "execution_count": 2,
      "outputs": [
        {
          "output_type": "stream",
          "name": "stdout",
          "text": [
            "Drive already mounted at /content/drive; to attempt to forcibly remount, call drive.mount(\"/content/drive\", force_remount=True).\n"
          ]
        }
      ]
    },
    {
      "cell_type": "code",
      "source": [
        "!mkdir Data"
      ],
      "metadata": {
        "id": "kHAZ4yBOuReG"
      },
      "execution_count": 1,
      "outputs": []
    },
    {
      "cell_type": "code",
      "source": [
        "! unzip /content/Data/bindata_samples-20240511T173500Z-001.zip"
      ],
      "metadata": {
        "colab": {
          "base_uri": "https://localhost:8080/"
        },
        "id": "6BskJAh6vAJ-",
        "outputId": "00d7739b-cedc-4abd-d0cb-439ffaf977b4"
      },
      "execution_count": 2,
      "outputs": [
        {
          "output_type": "stream",
          "name": "stdout",
          "text": [
            "Archive:  /content/Data/bindata_samples-20240511T173500Z-001.zip\n",
            "  inflating: bindata_samples/sim_408A.csv  \n",
            "  inflating: bindata_samples/sim_408.csv  \n",
            "  inflating: bindata_samples/sim_597.csv  \n",
            "  inflating: bindata_samples/sim_408B.csv  \n",
            "  inflating: bindata_samples/sim_published.csv  \n"
          ]
        }
      ]
    },
    {
      "cell_type": "code",
      "source": [
        "! unzip /content/Data/neighbor_samples-20240511T173503Z-001.zip"
      ],
      "metadata": {
        "colab": {
          "base_uri": "https://localhost:8080/"
        },
        "id": "emDyp4LdvGpL",
        "outputId": "44f9dea2-52df-4619-9de8-9ade75136f5f"
      },
      "execution_count": 4,
      "outputs": [
        {
          "output_type": "stream",
          "name": "stdout",
          "text": [
            "Archive:  /content/Data/neighbor_samples-20240511T173503Z-001.zip\n",
            "  inflating: neighbor_samples/sim_408B.csv  \n",
            "  inflating: neighbor_samples/sim_597.csv  \n",
            "  inflating: neighbor_samples/sim_408.csv  \n",
            "  inflating: neighbor_samples/sim_published.csv  \n",
            "  inflating: neighbor_samples/sim_408A.csv  \n"
          ]
        }
      ]
    },
    {
      "cell_type": "markdown",
      "source": [
        "> mv both unziped  folders into the Data foldes"
      ],
      "metadata": {
        "id": "p7IBg_j3vRIE"
      }
    },
    {
      "cell_type": "code",
      "execution_count": 5,
      "metadata": {
        "id": "VoQ0Sj0fyGJ2"
      },
      "outputs": [],
      "source": [
        "from os.path import join\n",
        "import numpy as np\n",
        "import pandas as pd\n",
        "from sklearn.model_selection import train_test_split\n",
        "\n",
        "path = join(\"Data\")\n",
        "sim1all = pd.read_csv(join(path, \"bindata_samples\", \"sim_597.csv\"))\n",
        "sim1neigh = pd.read_csv(join(path, \"neighbor_samples\", \"sim_597.csv\"))\n",
        "\n",
        "sim2allA = pd.read_csv(join(path, \"bindata_samples\", \"sim_408A.csv\"))\n",
        "sim2neighA = pd.read_csv(join(path, \"neighbor_samples\", \"sim_408A.csv\"))\n",
        "sim2allB = pd.read_csv(join(path, \"bindata_samples\", \"sim_408B.csv\"))\n",
        "sim2neighB = pd.read_csv(join(path, \"neighbor_samples\", \"sim_408B.csv\"))\n",
        "half = sim2neighA.shape[0]//2\n",
        "sim2allF = pd.concat([sim2allA[:half], sim2allB[half:]], axis=0)\n",
        "sim2neighF = pd.concat([sim2neighA[:half], sim2neighB[half:]], axis=0)\n"
      ]
    },
    {
      "cell_type": "code",
      "execution_count": 6,
      "metadata": {
        "id": "UsHwkmdnyGJ6"
      },
      "outputs": [],
      "source": [
        "# Class 1 is 597, class 0 is 408\n",
        "N1, N2 = sim1all.shape[0], sim2allF.shape[0]\n",
        "# X = np.concatenate((sim1all, sim2allF))\n",
        "X = np.concatenate((sim1neigh, sim2neighF))\n",
        "Y = np.concatenate((np.ones(N1), np.zeros(N2)))\n",
        "\n",
        "train_idx, test_idx = train_test_split(np.arange(N1+N2), train_size=.75,random_state=42)\n",
        "X_train, X_test = X[train_idx], X[test_idx]\n",
        "Y_train, Y_test = Y[train_idx], Y[test_idx]\n"
      ]
    },
    {
      "cell_type": "code",
      "source": [
        "Y_train.shape, Y_test.shape"
      ],
      "metadata": {
        "colab": {
          "base_uri": "https://localhost:8080/"
        },
        "id": "vbUt1nchvX88",
        "outputId": "a221e94f-1b5f-4e7b-b6da-1b0e179ac535"
      },
      "execution_count": 7,
      "outputs": [
        {
          "output_type": "execute_result",
          "data": {
            "text/plain": [
              "((150000,), (50000,))"
            ]
          },
          "metadata": {},
          "execution_count": 7
        }
      ]
    },
    {
      "cell_type": "code",
      "source": [
        "X_train.shape, X_test.shape"
      ],
      "metadata": {
        "colab": {
          "base_uri": "https://localhost:8080/"
        },
        "id": "78unxKbtvaup",
        "outputId": "18dbfbf0-31e9-45e4-963b-46b611868848"
      },
      "execution_count": 8,
      "outputs": [
        {
          "output_type": "execute_result",
          "data": {
            "text/plain": [
              "((150000, 10), (50000, 10))"
            ]
          },
          "metadata": {},
          "execution_count": 8
        }
      ]
    },
    {
      "cell_type": "markdown",
      "metadata": {
        "id": "FvywrYCiyGJ7"
      },
      "source": [
        "- neighbor sampling (better): 77% on all models (NN, RF, GBM, CART). was only 70% on GLM\n",
        "- bindata sampling: ~70% on all models"
      ]
    },
    {
      "cell_type": "code",
      "execution_count": 9,
      "metadata": {
        "colab": {
          "base_uri": "https://localhost:8080/"
        },
        "id": "BNvwmDYXyGJ8",
        "outputId": "37896b70-7f2f-47ee-fdb1-3e0107bb7ae1"
      },
      "outputs": [
        {
          "output_type": "stream",
          "name": "stdout",
          "text": [
            "GLM: 0.70\n",
            "####\n",
            "Tree: 0.77\n",
            "####\n",
            "NN: 0.77\n",
            "####\n",
            "RF: 0.77\n",
            "####\n",
            "GBM: 0.77\n"
          ]
        }
      ],
      "source": [
        "from sklearn.linear_model import LogisticRegression\n",
        "from sklearn.ensemble import RandomForestClassifier, GradientBoostingClassifier\n",
        "from sklearn.tree import DecisionTreeClassifier\n",
        "from sklearn.svm import SVC\n",
        "def predict(f, X, Y):\n",
        "    return np.mean(f.predict(X)==Y)\n",
        "\n",
        "model = LogisticRegression().fit(X_train,Y_train)\n",
        "print(\"GLM: {:.2f}\".format(predict(model, X_test, Y_test)))\n",
        "\n",
        "print(\"####\")\n",
        "model = DecisionTreeClassifier().fit(X_train,Y_train)\n",
        "print(\"Tree: {:.2f}\".format(predict(model, X_test, Y_test)))\n",
        "\n",
        "print(\"####\")\n",
        "from sklearn.neural_network import MLPClassifier\n",
        "model = MLPClassifier(hidden_layer_sizes=(15,)).fit(X_train, Y_train)\n",
        "print(\"NN: {:.2f}\".format(predict(model, X_test, Y_test)))\n",
        "# model = SVC().fit(X_train,Y_train)\n",
        "# print(np.mean(model.predict(X_test)==Y_test))\n",
        "print(\"####\")\n",
        "model = RandomForestClassifier().fit(X_train,Y_train)\n",
        "print(\"RF: {:.2f}\".format(predict(model, X_test, Y_test)))\n",
        "print(\"####\")\n",
        "model = GradientBoostingClassifier().fit(X_train,Y_train)\n",
        "print(\"GBM: {:.2f}\".format(predict(model, X_test, Y_test)))\n",
        "\n"
      ]
    },
    {
      "cell_type": "code",
      "execution_count": 10,
      "metadata": {
        "colab": {
          "base_uri": "https://localhost:8080/",
          "height": 865
        },
        "id": "KekXTzLjyGJ-",
        "outputId": "8aa7515d-ea25-41a4-d7a2-dd041b50797d"
      },
      "outputs": [
        {
          "output_type": "stream",
          "name": "stdout",
          "text": [
            "Epoch 1/10\n",
            "4688/4688 [==============================] - 14s 3ms/step - loss: 0.1617 - val_loss: 0.1552\n",
            "Epoch 2/10\n",
            "4688/4688 [==============================] - 15s 3ms/step - loss: 0.1569 - val_loss: 0.1557\n",
            "Epoch 3/10\n",
            "4688/4688 [==============================] - 13s 3ms/step - loss: 0.1560 - val_loss: 0.1544\n",
            "Epoch 4/10\n",
            "4688/4688 [==============================] - 16s 3ms/step - loss: 0.1554 - val_loss: 0.1535\n",
            "Epoch 5/10\n",
            "4688/4688 [==============================] - 13s 3ms/step - loss: 0.1552 - val_loss: 0.1557\n",
            "Epoch 6/10\n",
            "4688/4688 [==============================] - 13s 3ms/step - loss: 0.1549 - val_loss: 0.1539\n",
            "Epoch 7/10\n",
            "4688/4688 [==============================] - 15s 3ms/step - loss: 0.1548 - val_loss: 0.1543\n",
            "Epoch 8/10\n",
            "4688/4688 [==============================] - 13s 3ms/step - loss: 0.1548 - val_loss: 0.1537\n",
            "Epoch 9/10\n",
            "4688/4688 [==============================] - 15s 3ms/step - loss: 0.1547 - val_loss: 0.1533\n",
            "Epoch 10/10\n",
            "4688/4688 [==============================] - 14s 3ms/step - loss: 0.1546 - val_loss: 0.1530\n"
          ]
        },
        {
          "output_type": "display_data",
          "data": {
            "text/plain": [
              "<Figure size 640x480 with 1 Axes>"
            ],
            "image/png": "[encoded data removed]"
          },
          "metadata": {}
        },
        {
          "output_type": "stream",
          "name": "stdout",
          "text": [
            "1563/1563 [==============================] - 2s 1ms/step\n",
            "1D CNN: 50.21%\n"
          ]
        }
      ],
      "source": [
        "x_train, x_test = X_train, X_test\n",
        "y_train, y_test = Y_train, Y_test\n",
        "\n",
        "\n",
        "import numpy as np\n",
        "import matplotlib.pyplot as plt\n",
        "from keras.models import Sequential\n",
        "from keras.layers import Conv1D, MaxPooling1D, Flatten, Dense\n",
        "from sklearn.model_selection import train_test_split\n",
        "\n",
        "# # Create dummy data\n",
        "# x = np.random.rand(1200, 10, 1)\n",
        "# y = np.random.rand(1200) * 100\n",
        "\n",
        "\n",
        "# # Split the data into training and test sets\n",
        "# X_train, X_test => x_train, x_test, y_train, y_test = train_test_split(x, y, test_size=0.2, random_state=42)\n",
        "\n",
        "# Build the 1D CNN model\n",
        "model = Sequential([\n",
        "    Conv1D(32, kernel_size=3, activation='relu', input_shape=(10, 1)),\n",
        "    MaxPooling1D(pool_size=2),\n",
        "    Flatten(),\n",
        "    Dense(100, activation='relu'),\n",
        "    Dense(1)\n",
        "])\n",
        "\n",
        "# Compile the model\n",
        "model.compile(optimizer='adam', loss='mse')\n",
        "\n",
        "# Train the model and save history\n",
        "history = model.fit(x_train, y_train, epochs=10, batch_size=32, validation_data=(x_test, y_test))\n",
        "\n",
        "# Plot the training and validation loss\n",
        "plt.plot(history.history['loss'], label='Train MSE')\n",
        "plt.plot(history.history['val_loss'], label='Test MSE')\n",
        "plt.title('Model MSE')\n",
        "plt.ylabel('Mean Squared Error')\n",
        "plt.xlabel('Epoch')\n",
        "plt.legend(loc='upper right')\n",
        "plt.show()\n",
        "\n",
        "\n",
        "def predict_reg(f, X, Y):\n",
        "    preds = f.predict(X)\n",
        "    preds012 = np.round(preds / 50) # 100-->2; 50-->1; 0-->0\n",
        "    return np.mean(preds012*50==Y)*100\n",
        "\n",
        "print(\"1D CNN: {:.2f}%\".format(predict_reg(model, x_test, y_test)))\n"
      ]
    },
    {
      "cell_type": "code",
      "source": [
        "# history"
      ],
      "metadata": {
        "colab": {
          "base_uri": "https://localhost:8080/"
        },
        "id": "b-Q28Wr9wgrD",
        "outputId": "5f568ace-b3fc-490c-9b76-912935c66dba"
      },
      "execution_count": 13,
      "outputs": [
        {
          "output_type": "execute_result",
          "data": {
            "text/plain": [
              "<keras.src.callbacks.History at 0x787931846f80>"
            ]
          },
          "metadata": {},
          "execution_count": 13
        }
      ]
    },
    {
      "cell_type": "code",
      "source": [
        "# Train mode\n",
        "n_epochs = 3\n",
        "\n",
        "# Train the model and save history\n",
        "history_next = model.fit(x_train, y_train, epochs=n_epochs, batch_size=32, validation_data=(x_test, y_test))\n"
      ],
      "metadata": {
        "colab": {
          "base_uri": "https://localhost:8080/"
        },
        "id": "2L6YVJCww1vm",
        "outputId": "993c4ac8-693b-4974-aad0-848688d2d96a"
      },
      "execution_count": 15,
      "outputs": [
        {
          "output_type": "stream",
          "name": "stdout",
          "text": [
            "Epoch 1/3\n",
            "4688/4688 [==============================] - 26s 6ms/step - loss: 0.1545 - val_loss: 0.1536\n",
            "Epoch 2/3\n",
            "4688/4688 [==============================] - 13s 3ms/step - loss: 0.1545 - val_loss: 0.1532\n",
            "Epoch 3/3\n",
            "4688/4688 [==============================] - 13s 3ms/step - loss: 0.1544 - val_loss: 0.1539\n"
          ]
        }
      ]
    },
    {
      "cell_type": "code",
      "source": [
        "\n",
        "# Train the model and save history\n",
        "history = model.fit(x_train, y_train, epochs=100, batch_size=32, validation_data=(x_test, y_test))\n",
        "\n",
        "# Plot the training and validation loss\n",
        "plt.plot(history.history['loss'], label='Train MSE')\n",
        "plt.plot(history.history['val_loss'], label='Test MSE')\n",
        "plt.title('Model MSE')\n",
        "plt.ylabel('Mean Squared Error')\n",
        "plt.xlabel('Epoch')\n",
        "plt.legend(loc='upper right')\n",
        "plt.show()\n",
        "\n",
        "\n",
        "def predict_reg(f, X, Y):\n",
        "    preds = f.predict(X)\n",
        "    preds012 = np.round(preds / 50) # 100-->2; 50-->1; 0-->0\n",
        "    return np.mean(preds012*50==Y)*100\n",
        "\n",
        "print(\"1D CNN: {:.2f}%\".format(predict_reg(model, x_test, y_test)))\n"
      ],
      "metadata": {
        "colab": {
          "base_uri": "https://localhost:8080/",
          "height": 1000
        },
        "id": "6_24SxOhxnDj",
        "outputId": "724ec7da-523a-4f5e-a477-f4540c4f4555"
      },
      "execution_count": 16,
      "outputs": [
        {
          "output_type": "stream",
          "name": "stdout",
          "text": [
            "Epoch 1/100\n",
            "4688/4688 [==============================] - 16s 4ms/step - loss: 0.1544 - val_loss: 0.1533\n",
            "Epoch 2/100\n",
            "4688/4688 [==============================] - 16s 3ms/step - loss: 0.1544 - val_loss: 0.1529\n",
            "Epoch 3/100\n",
            "4688/4688 [==============================] - 13s 3ms/step - loss: 0.1543 - val_loss: 0.1530\n",
            "Epoch 4/100\n",
            "4688/4688 [==============================] - 13s 3ms/step - loss: 0.1544 - val_loss: 0.1536\n",
            "Epoch 5/100\n",
            "4688/4688 [==============================] - 14s 3ms/step - loss: 0.1543 - val_loss: 0.1533\n",
            "Epoch 6/100\n",
            "4688/4688 [==============================] - 13s 3ms/step - loss: 0.1543 - val_loss: 0.1531\n",
            "Epoch 7/100\n",
            "4688/4688 [==============================] - 14s 3ms/step - loss: 0.1543 - val_loss: 0.1531\n",
            "Epoch 8/100\n",
            "4688/4688 [==============================] - 14s 3ms/step - loss: 0.1542 - val_loss: 0.1534\n",
            "Epoch 9/100\n",
            "4688/4688 [==============================] - 14s 3ms/step - loss: 0.1542 - val_loss: 0.1531\n",
            "Epoch 10/100\n",
            "4688/4688 [==============================] - 14s 3ms/step - loss: 0.1541 - val_loss: 0.1529\n",
            "Epoch 11/100\n",
            "4688/4688 [==============================] - 13s 3ms/step - loss: 0.1542 - val_loss: 0.1529\n",
            "Epoch 12/100\n",
            "4688/4688 [==============================] - 13s 3ms/step - loss: 0.1541 - val_loss: 0.1529\n",
            "Epoch 13/100\n",
            "4688/4688 [==============================] - 14s 3ms/step - loss: 0.1541 - val_loss: 0.1529\n",
            "Epoch 14/100\n",
            "4688/4688 [==============================] - 14s 3ms/step - loss: 0.1541 - val_loss: 0.1531\n",
            "Epoch 15/100\n",
            "4688/4688 [==============================] - 14s 3ms/step - loss: 0.1542 - val_loss: 0.1529\n",
            "Epoch 16/100\n",
            "4688/4688 [==============================] - 14s 3ms/step - loss: 0.1541 - val_loss: 0.1528\n",
            "Epoch 17/100\n",
            "4688/4688 [==============================] - 13s 3ms/step - loss: 0.1541 - val_loss: 0.1532\n",
            "Epoch 18/100\n",
            "4688/4688 [==============================] - 15s 3ms/step - loss: 0.1541 - val_loss: 0.1531\n",
            "Epoch 19/100\n",
            "4688/4688 [==============================] - 13s 3ms/step - loss: 0.1541 - val_loss: 0.1529\n",
            "Epoch 20/100\n",
            "4688/4688 [==============================] - 14s 3ms/step - loss: 0.1540 - val_loss: 0.1531\n",
            "Epoch 21/100\n",
            "4688/4688 [==============================] - 13s 3ms/step - loss: 0.1540 - val_loss: 0.1530\n",
            "Epoch 22/100\n",
            "4688/4688 [==============================] - 14s 3ms/step - loss: 0.1541 - val_loss: 0.1529\n",
            "Epoch 23/100\n",
            "4688/4688 [==============================] - 17s 4ms/step - loss: 0.1541 - val_loss: 0.1533\n",
            "Epoch 24/100\n",
            "4688/4688 [==============================] - 13s 3ms/step - loss: 0.1541 - val_loss: 0.1527\n",
            "Epoch 25/100\n",
            "4688/4688 [==============================] - 13s 3ms/step - loss: 0.1540 - val_loss: 0.1531\n",
            "Epoch 26/100\n",
            "4688/4688 [==============================] - 14s 3ms/step - loss: 0.1540 - val_loss: 0.1530\n",
            "Epoch 27/100\n",
            "4688/4688 [==============================] - 14s 3ms/step - loss: 0.1540 - val_loss: 0.1529\n",
            "Epoch 28/100\n",
            "4688/4688 [==============================] - 14s 3ms/step - loss: 0.1540 - val_loss: 0.1531\n",
            "Epoch 29/100\n",
            "4688/4688 [==============================] - 14s 3ms/step - loss: 0.1540 - val_loss: 0.1531\n",
            "Epoch 30/100\n",
            "4688/4688 [==============================] - 13s 3ms/step - loss: 0.1540 - val_loss: 0.1533\n",
            "Epoch 31/100\n",
            "4688/4688 [==============================] - 16s 3ms/step - loss: 0.1541 - val_loss: 0.1529\n",
            "Epoch 32/100\n",
            "4688/4688 [==============================] - 13s 3ms/step - loss: 0.1540 - val_loss: 0.1533\n",
            "Epoch 33/100\n",
            "4688/4688 [==============================] - 14s 3ms/step - loss: 0.1540 - val_loss: 0.1527\n",
            "Epoch 34/100\n",
            "4688/4688 [==============================] - 15s 3ms/step - loss: 0.1540 - val_loss: 0.1529\n",
            "Epoch 35/100\n",
            "4688/4688 [==============================] - 14s 3ms/step - loss: 0.1540 - val_loss: 0.1528\n",
            "Epoch 36/100\n",
            "4688/4688 [==============================] - 20s 4ms/step - loss: 0.1540 - val_loss: 0.1530\n",
            "Epoch 37/100\n",
            "4688/4688 [==============================] - 13s 3ms/step - loss: 0.1540 - val_loss: 0.1530\n",
            "Epoch 38/100\n",
            "4688/4688 [==============================] - 13s 3ms/step - loss: 0.1540 - val_loss: 0.1528\n",
            "Epoch 39/100\n",
            "4688/4688 [==============================] - 14s 3ms/step - loss: 0.1539 - val_loss: 0.1529\n",
            "Epoch 40/100\n",
            "4688/4688 [==============================] - 14s 3ms/step - loss: 0.1540 - val_loss: 0.1532\n",
            "Epoch 41/100\n",
            "4688/4688 [==============================] - 14s 3ms/step - loss: 0.1540 - val_loss: 0.1530\n",
            "Epoch 42/100\n",
            "1737/4688 [==========>...................] - ETA: 6s - loss: 0.1543"
          ]
        },
        {
          "output_type": "error",
          "ename": "KeyboardInterrupt",
          "evalue": "",
          "traceback": [
            "\u001b[0;31m---------------------------------------------------------------------------\u001b[0m",
            "\u001b[0;31mKeyboardInterrupt\u001b[0m                         Traceback (most recent call last)",
            "\u001b[0;32m<ipython-input-16-23c5772ea702>\u001b[0m in \u001b[0;36m<cell line: 2>\u001b[0;34m()\u001b[0m\n\u001b[1;32m      1\u001b[0m \u001b[0;31m# Train the model and save history\u001b[0m\u001b[0;34m\u001b[0m\u001b[0;34m\u001b[0m\u001b[0m\n\u001b[0;32m----> 2\u001b[0;31m \u001b[0mhistory\u001b[0m \u001b[0;34m=\u001b[0m \u001b[0mmodel\u001b[0m\u001b[0;34m.\u001b[0m\u001b[0mfit\u001b[0m\u001b[0;34m(\u001b[0m\u001b[0mx_train\u001b[0m\u001b[0;34m,\u001b[0m \u001b[0my_train\u001b[0m\u001b[0;34m,\u001b[0m \u001b[0mepochs\u001b[0m\u001b[0;34m=\u001b[0m\u001b[0;36m100\u001b[0m\u001b[0;34m,\u001b[0m \u001b[0mbatch_size\u001b[0m\u001b[0;34m=\u001b[0m\u001b[0;36m32\u001b[0m\u001b[0;34m,\u001b[0m \u001b[0mvalidation_data\u001b[0m\u001b[0;34m=\u001b[0m\u001b[0;34m(\u001b[0m\u001b[0mx_test\u001b[0m\u001b[0;34m,\u001b[0m \u001b[0my_test\u001b[0m\u001b[0;34m)\u001b[0m\u001b[0;34m)\u001b[0m\u001b[0;34m\u001b[0m\u001b[0;34m\u001b[0m\u001b[0m\n\u001b[0m\u001b[1;32m      3\u001b[0m \u001b[0;34m\u001b[0m\u001b[0m\n\u001b[1;32m      4\u001b[0m \u001b[0;31m# Plot the training and validation loss\u001b[0m\u001b[0;34m\u001b[0m\u001b[0;34m\u001b[0m\u001b[0m\n\u001b[1;32m      5\u001b[0m \u001b[0mplt\u001b[0m\u001b[0;34m.\u001b[0m\u001b[0mplot\u001b[0m\u001b[0;34m(\u001b[0m\u001b[0mhistory\u001b[0m\u001b[0;34m.\u001b[0m\u001b[0mhistory\u001b[0m\u001b[0;34m[\u001b[0m\u001b[0;34m'loss'\u001b[0m\u001b[0;34m]\u001b[0m\u001b[0;34m,\u001b[0m \u001b[0mlabel\u001b[0m\u001b[0;34m=\u001b[0m\u001b[0;34m'Train MSE'\u001b[0m\u001b[0;34m)\u001b[0m\u001b[0;34m\u001b[0m\u001b[0;34m\u001b[0m\u001b[0m\n",
            "\u001b[0;32m/usr/local/lib/python3.10/dist-packages/keras/src/utils/traceback_utils.py\u001b[0m in \u001b[0;36merror_handler\u001b[0;34m(*args, **kwargs)\u001b[0m\n\u001b[1;32m     63\u001b[0m         \u001b[0mfiltered_tb\u001b[0m \u001b[0;34m=\u001b[0m \u001b[0;32mNone\u001b[0m\u001b[0;34m\u001b[0m\u001b[0;34m\u001b[0m\u001b[0m\n\u001b[1;32m     64\u001b[0m         \u001b[0;32mtry\u001b[0m\u001b[0;34m:\u001b[0m\u001b[0;34m\u001b[0m\u001b[0;34m\u001b[0m\u001b[0m\n\u001b[0;32m---> 65\u001b[0;31m             \u001b[0;32mreturn\u001b[0m \u001b[0mfn\u001b[0m\u001b[0;34m(\u001b[0m\u001b[0;34m*\u001b[0m\u001b[0margs\u001b[0m\u001b[0;34m,\u001b[0m \u001b[0;34m**\u001b[0m\u001b[0mkwargs\u001b[0m\u001b[0;34m)\u001b[0m\u001b[0;34m\u001b[0m\u001b[0;34m\u001b[0m\u001b[0m\n\u001b[0m\u001b[1;32m     66\u001b[0m         \u001b[0;32mexcept\u001b[0m \u001b[0mException\u001b[0m \u001b[0;32mas\u001b[0m \u001b[0me\u001b[0m\u001b[0;34m:\u001b[0m\u001b[0;34m\u001b[0m\u001b[0;34m\u001b[0m\u001b[0m\n\u001b[1;32m     67\u001b[0m             \u001b[0mfiltered_tb\u001b[0m \u001b[0;34m=\u001b[0m \u001b[0m_process_traceback_frames\u001b[0m\u001b[0;34m(\u001b[0m\u001b[0me\u001b[0m\u001b[0;34m.\u001b[0m\u001b[0m__traceback__\u001b[0m\u001b[0;34m)\u001b[0m\u001b[0;34m\u001b[0m\u001b[0;34m\u001b[0m\u001b[0m\n",
            "\u001b[0;32m/usr/local/lib/python3.10/dist-packages/keras/src/engine/training.py\u001b[0m in \u001b[0;36mfit\u001b[0;34m(self, x, y, batch_size, epochs, verbose, callbacks, validation_split, validation_data, shuffle, class_weight, sample_weight, initial_epoch, steps_per_epoch, validation_steps, validation_batch_size, validation_freq, max_queue_size, workers, use_multiprocessing)\u001b[0m\n\u001b[1;32m   1805\u001b[0m                         ):\n\u001b[1;32m   1806\u001b[0m                             \u001b[0mcallbacks\u001b[0m\u001b[0;34m.\u001b[0m\u001b[0mon_train_batch_begin\u001b[0m\u001b[0;34m(\u001b[0m\u001b[0mstep\u001b[0m\u001b[0;34m)\u001b[0m\u001b[0;34m\u001b[0m\u001b[0;34m\u001b[0m\u001b[0m\n\u001b[0;32m-> 1807\u001b[0;31m                             \u001b[0mtmp_logs\u001b[0m \u001b[0;34m=\u001b[0m \u001b[0mself\u001b[0m\u001b[0;34m.\u001b[0m\u001b[0mtrain_function\u001b[0m\u001b[0;34m(\u001b[0m\u001b[0miterator\u001b[0m\u001b[0;34m)\u001b[0m\u001b[0;34m\u001b[0m\u001b[0;34m\u001b[0m\u001b[0m\n\u001b[0m\u001b[1;32m   1808\u001b[0m                             \u001b[0;32mif\u001b[0m \u001b[0mdata_handler\u001b[0m\u001b[0;34m.\u001b[0m\u001b[0mshould_sync\u001b[0m\u001b[0;34m:\u001b[0m\u001b[0;34m\u001b[0m\u001b[0;34m\u001b[0m\u001b[0m\n\u001b[1;32m   1809\u001b[0m                                 \u001b[0mcontext\u001b[0m\u001b[0;34m.\u001b[0m\u001b[0masync_wait\u001b[0m\u001b[0;34m(\u001b[0m\u001b[0;34m)\u001b[0m\u001b[0;34m\u001b[0m\u001b[0;34m\u001b[0m\u001b[0m\n",
            "\u001b[0;32m/usr/local/lib/python3.10/dist-packages/tensorflow/python/util/traceback_utils.py\u001b[0m in \u001b[0;36merror_handler\u001b[0;34m(*args, **kwargs)\u001b[0m\n\u001b[1;32m    148\u001b[0m     \u001b[0mfiltered_tb\u001b[0m \u001b[0;34m=\u001b[0m \u001b[0;32mNone\u001b[0m\u001b[0;34m\u001b[0m\u001b[0;34m\u001b[0m\u001b[0m\n\u001b[1;32m    149\u001b[0m     \u001b[0;32mtry\u001b[0m\u001b[0;34m:\u001b[0m\u001b[0;34m\u001b[0m\u001b[0;34m\u001b[0m\u001b[0m\n\u001b[0;32m--> 150\u001b[0;31m       \u001b[0;32mreturn\u001b[0m \u001b[0mfn\u001b[0m\u001b[0;34m(\u001b[0m\u001b[0;34m*\u001b[0m\u001b[0margs\u001b[0m\u001b[0;34m,\u001b[0m \u001b[0;34m**\u001b[0m\u001b[0mkwargs\u001b[0m\u001b[0;34m)\u001b[0m\u001b[0;34m\u001b[0m\u001b[0;34m\u001b[0m\u001b[0m\n\u001b[0m\u001b[1;32m    151\u001b[0m     \u001b[0;32mexcept\u001b[0m \u001b[0mException\u001b[0m \u001b[0;32mas\u001b[0m \u001b[0me\u001b[0m\u001b[0;34m:\u001b[0m\u001b[0;34m\u001b[0m\u001b[0;34m\u001b[0m\u001b[0m\n\u001b[1;32m    152\u001b[0m       \u001b[0mfiltered_tb\u001b[0m \u001b[0;34m=\u001b[0m \u001b[0m_process_traceback_frames\u001b[0m\u001b[0;34m(\u001b[0m\u001b[0me\u001b[0m\u001b[0;34m.\u001b[0m\u001b[0m__traceback__\u001b[0m\u001b[0;34m)\u001b[0m\u001b[0;34m\u001b[0m\u001b[0;34m\u001b[0m\u001b[0m\n",
            "\u001b[0;32m/usr/local/lib/python3.10/dist-packages/tensorflow/python/eager/polymorphic_function/polymorphic_function.py\u001b[0m in \u001b[0;36m__call__\u001b[0;34m(self, *args, **kwds)\u001b[0m\n\u001b[1;32m    830\u001b[0m \u001b[0;34m\u001b[0m\u001b[0m\n\u001b[1;32m    831\u001b[0m       \u001b[0;32mwith\u001b[0m \u001b[0mOptionalXlaContext\u001b[0m\u001b[0;34m(\u001b[0m\u001b[0mself\u001b[0m\u001b[0;34m.\u001b[0m\u001b[0m_jit_compile\u001b[0m\u001b[0;34m)\u001b[0m\u001b[0;34m:\u001b[0m\u001b[0;34m\u001b[0m\u001b[0;34m\u001b[0m\u001b[0m\n\u001b[0;32m--> 832\u001b[0;31m         \u001b[0mresult\u001b[0m \u001b[0;34m=\u001b[0m \u001b[0mself\u001b[0m\u001b[0;34m.\u001b[0m\u001b[0m_call\u001b[0m\u001b[0;34m(\u001b[0m\u001b[0;34m*\u001b[0m\u001b[0margs\u001b[0m\u001b[0;34m,\u001b[0m \u001b[0;34m**\u001b[0m\u001b[0mkwds\u001b[0m\u001b[0;34m)\u001b[0m\u001b[0;34m\u001b[0m\u001b[0;34m\u001b[0m\u001b[0m\n\u001b[0m\u001b[1;32m    833\u001b[0m \u001b[0;34m\u001b[0m\u001b[0m\n\u001b[1;32m    834\u001b[0m       \u001b[0mnew_tracing_count\u001b[0m \u001b[0;34m=\u001b[0m \u001b[0mself\u001b[0m\u001b[0;34m.\u001b[0m\u001b[0mexperimental_get_tracing_count\u001b[0m\u001b[0;34m(\u001b[0m\u001b[0;34m)\u001b[0m\u001b[0;34m\u001b[0m\u001b[0;34m\u001b[0m\u001b[0m\n",
            "\u001b[0;32m/usr/local/lib/python3.10/dist-packages/tensorflow/python/eager/polymorphic_function/polymorphic_function.py\u001b[0m in \u001b[0;36m_call\u001b[0;34m(self, *args, **kwds)\u001b[0m\n\u001b[1;32m    866\u001b[0m       \u001b[0;31m# In this case we have created variables on the first call, so we run the\u001b[0m\u001b[0;34m\u001b[0m\u001b[0;34m\u001b[0m\u001b[0m\n\u001b[1;32m    867\u001b[0m       \u001b[0;31m# defunned version which is guaranteed to never create variables.\u001b[0m\u001b[0;34m\u001b[0m\u001b[0;34m\u001b[0m\u001b[0m\n\u001b[0;32m--> 868\u001b[0;31m       return tracing_compilation.call_function(\n\u001b[0m\u001b[1;32m    869\u001b[0m           \u001b[0margs\u001b[0m\u001b[0;34m,\u001b[0m \u001b[0mkwds\u001b[0m\u001b[0;34m,\u001b[0m \u001b[0mself\u001b[0m\u001b[0;34m.\u001b[0m\u001b[0m_no_variable_creation_config\u001b[0m\u001b[0;34m\u001b[0m\u001b[0;34m\u001b[0m\u001b[0m\n\u001b[1;32m    870\u001b[0m       )\n",
            "\u001b[0;32m/usr/local/lib/python3.10/dist-packages/tensorflow/python/eager/polymorphic_function/tracing_compilation.py\u001b[0m in \u001b[0;36mcall_function\u001b[0;34m(args, kwargs, tracing_options)\u001b[0m\n\u001b[1;32m    137\u001b[0m   \u001b[0mbound_args\u001b[0m \u001b[0;34m=\u001b[0m \u001b[0mfunction\u001b[0m\u001b[0;34m.\u001b[0m\u001b[0mfunction_type\u001b[0m\u001b[0;34m.\u001b[0m\u001b[0mbind\u001b[0m\u001b[0;34m(\u001b[0m\u001b[0;34m*\u001b[0m\u001b[0margs\u001b[0m\u001b[0;34m,\u001b[0m \u001b[0;34m**\u001b[0m\u001b[0mkwargs\u001b[0m\u001b[0;34m)\u001b[0m\u001b[0;34m\u001b[0m\u001b[0;34m\u001b[0m\u001b[0m\n\u001b[1;32m    138\u001b[0m   \u001b[0mflat_inputs\u001b[0m \u001b[0;34m=\u001b[0m \u001b[0mfunction\u001b[0m\u001b[0;34m.\u001b[0m\u001b[0mfunction_type\u001b[0m\u001b[0;34m.\u001b[0m\u001b[0munpack_inputs\u001b[0m\u001b[0;34m(\u001b[0m\u001b[0mbound_args\u001b[0m\u001b[0;34m)\u001b[0m\u001b[0;34m\u001b[0m\u001b[0;34m\u001b[0m\u001b[0m\n\u001b[0;32m--> 139\u001b[0;31m   return function._call_flat(  # pylint: disable=protected-access\n\u001b[0m\u001b[1;32m    140\u001b[0m       \u001b[0mflat_inputs\u001b[0m\u001b[0;34m,\u001b[0m \u001b[0mcaptured_inputs\u001b[0m\u001b[0;34m=\u001b[0m\u001b[0mfunction\u001b[0m\u001b[0;34m.\u001b[0m\u001b[0mcaptured_inputs\u001b[0m\u001b[0;34m\u001b[0m\u001b[0;34m\u001b[0m\u001b[0m\n\u001b[1;32m    141\u001b[0m   )\n",
            "\u001b[0;32m/usr/local/lib/python3.10/dist-packages/tensorflow/python/eager/polymorphic_function/concrete_function.py\u001b[0m in \u001b[0;36m_call_flat\u001b[0;34m(self, tensor_inputs, captured_inputs)\u001b[0m\n\u001b[1;32m   1321\u001b[0m         and executing_eagerly):\n\u001b[1;32m   1322\u001b[0m       \u001b[0;31m# No tape is watching; skip to running the function.\u001b[0m\u001b[0;34m\u001b[0m\u001b[0;34m\u001b[0m\u001b[0m\n\u001b[0;32m-> 1323\u001b[0;31m       \u001b[0;32mreturn\u001b[0m \u001b[0mself\u001b[0m\u001b[0;34m.\u001b[0m\u001b[0m_inference_function\u001b[0m\u001b[0;34m.\u001b[0m\u001b[0mcall_preflattened\u001b[0m\u001b[0;34m(\u001b[0m\u001b[0margs\u001b[0m\u001b[0;34m)\u001b[0m\u001b[0;34m\u001b[0m\u001b[0;34m\u001b[0m\u001b[0m\n\u001b[0m\u001b[1;32m   1324\u001b[0m     forward_backward = self._select_forward_and_backward_functions(\n\u001b[1;32m   1325\u001b[0m         \u001b[0margs\u001b[0m\u001b[0;34m,\u001b[0m\u001b[0;34m\u001b[0m\u001b[0;34m\u001b[0m\u001b[0m\n",
            "\u001b[0;32m/usr/local/lib/python3.10/dist-packages/tensorflow/python/eager/polymorphic_function/atomic_function.py\u001b[0m in \u001b[0;36mcall_preflattened\u001b[0;34m(self, args)\u001b[0m\n\u001b[1;32m    214\u001b[0m   \u001b[0;32mdef\u001b[0m \u001b[0mcall_preflattened\u001b[0m\u001b[0;34m(\u001b[0m\u001b[0mself\u001b[0m\u001b[0;34m,\u001b[0m \u001b[0margs\u001b[0m\u001b[0;34m:\u001b[0m \u001b[0mSequence\u001b[0m\u001b[0;34m[\u001b[0m\u001b[0mcore\u001b[0m\u001b[0;34m.\u001b[0m\u001b[0mTensor\u001b[0m\u001b[0;34m]\u001b[0m\u001b[0;34m)\u001b[0m \u001b[0;34m->\u001b[0m \u001b[0mAny\u001b[0m\u001b[0;34m:\u001b[0m\u001b[0;34m\u001b[0m\u001b[0;34m\u001b[0m\u001b[0m\n\u001b[1;32m    215\u001b[0m     \u001b[0;34m\"\"\"Calls with flattened tensor inputs and returns the structured output.\"\"\"\u001b[0m\u001b[0;34m\u001b[0m\u001b[0;34m\u001b[0m\u001b[0m\n\u001b[0;32m--> 216\u001b[0;31m     \u001b[0mflat_outputs\u001b[0m \u001b[0;34m=\u001b[0m \u001b[0mself\u001b[0m\u001b[0;34m.\u001b[0m\u001b[0mcall_flat\u001b[0m\u001b[0;34m(\u001b[0m\u001b[0;34m*\u001b[0m\u001b[0margs\u001b[0m\u001b[0;34m)\u001b[0m\u001b[0;34m\u001b[0m\u001b[0;34m\u001b[0m\u001b[0m\n\u001b[0m\u001b[1;32m    217\u001b[0m     \u001b[0;32mreturn\u001b[0m \u001b[0mself\u001b[0m\u001b[0;34m.\u001b[0m\u001b[0mfunction_type\u001b[0m\u001b[0;34m.\u001b[0m\u001b[0mpack_output\u001b[0m\u001b[0;34m(\u001b[0m\u001b[0mflat_outputs\u001b[0m\u001b[0;34m)\u001b[0m\u001b[0;34m\u001b[0m\u001b[0;34m\u001b[0m\u001b[0m\n\u001b[1;32m    218\u001b[0m \u001b[0;34m\u001b[0m\u001b[0m\n",
            "\u001b[0;32m/usr/local/lib/python3.10/dist-packages/tensorflow/python/eager/polymorphic_function/atomic_function.py\u001b[0m in \u001b[0;36mcall_flat\u001b[0;34m(self, *args)\u001b[0m\n\u001b[1;32m    249\u001b[0m         \u001b[0;32mwith\u001b[0m \u001b[0mrecord\u001b[0m\u001b[0;34m.\u001b[0m\u001b[0mstop_recording\u001b[0m\u001b[0;34m(\u001b[0m\u001b[0;34m)\u001b[0m\u001b[0;34m:\u001b[0m\u001b[0;34m\u001b[0m\u001b[0;34m\u001b[0m\u001b[0m\n\u001b[1;32m    250\u001b[0m           \u001b[0;32mif\u001b[0m \u001b[0mself\u001b[0m\u001b[0;34m.\u001b[0m\u001b[0m_bound_context\u001b[0m\u001b[0;34m.\u001b[0m\u001b[0mexecuting_eagerly\u001b[0m\u001b[0;34m(\u001b[0m\u001b[0;34m)\u001b[0m\u001b[0;34m:\u001b[0m\u001b[0;34m\u001b[0m\u001b[0;34m\u001b[0m\u001b[0m\n\u001b[0;32m--> 251\u001b[0;31m             outputs = self._bound_context.call_function(\n\u001b[0m\u001b[1;32m    252\u001b[0m                 \u001b[0mself\u001b[0m\u001b[0;34m.\u001b[0m\u001b[0mname\u001b[0m\u001b[0;34m,\u001b[0m\u001b[0;34m\u001b[0m\u001b[0;34m\u001b[0m\u001b[0m\n\u001b[1;32m    253\u001b[0m                 \u001b[0mlist\u001b[0m\u001b[0;34m(\u001b[0m\u001b[0margs\u001b[0m\u001b[0;34m)\u001b[0m\u001b[0;34m,\u001b[0m\u001b[0;34m\u001b[0m\u001b[0;34m\u001b[0m\u001b[0m\n",
            "\u001b[0;32m/usr/local/lib/python3.10/dist-packages/tensorflow/python/eager/context.py\u001b[0m in \u001b[0;36mcall_function\u001b[0;34m(self, name, tensor_inputs, num_outputs)\u001b[0m\n\u001b[1;32m   1484\u001b[0m     \u001b[0mcancellation_context\u001b[0m \u001b[0;34m=\u001b[0m \u001b[0mcancellation\u001b[0m\u001b[0;34m.\u001b[0m\u001b[0mcontext\u001b[0m\u001b[0;34m(\u001b[0m\u001b[0;34m)\u001b[0m\u001b[0;34m\u001b[0m\u001b[0;34m\u001b[0m\u001b[0m\n\u001b[1;32m   1485\u001b[0m     \u001b[0;32mif\u001b[0m \u001b[0mcancellation_context\u001b[0m \u001b[0;32mis\u001b[0m \u001b[0;32mNone\u001b[0m\u001b[0;34m:\u001b[0m\u001b[0;34m\u001b[0m\u001b[0;34m\u001b[0m\u001b[0m\n\u001b[0;32m-> 1486\u001b[0;31m       outputs = execute.execute(\n\u001b[0m\u001b[1;32m   1487\u001b[0m           \u001b[0mname\u001b[0m\u001b[0;34m.\u001b[0m\u001b[0mdecode\u001b[0m\u001b[0;34m(\u001b[0m\u001b[0;34m\"utf-8\"\u001b[0m\u001b[0;34m)\u001b[0m\u001b[0;34m,\u001b[0m\u001b[0;34m\u001b[0m\u001b[0;34m\u001b[0m\u001b[0m\n\u001b[1;32m   1488\u001b[0m           \u001b[0mnum_outputs\u001b[0m\u001b[0;34m=\u001b[0m\u001b[0mnum_outputs\u001b[0m\u001b[0;34m,\u001b[0m\u001b[0;34m\u001b[0m\u001b[0;34m\u001b[0m\u001b[0m\n",
            "\u001b[0;32m/usr/local/lib/python3.10/dist-packages/tensorflow/python/eager/execute.py\u001b[0m in \u001b[0;36mquick_execute\u001b[0;34m(op_name, num_outputs, inputs, attrs, ctx, name)\u001b[0m\n\u001b[1;32m     51\u001b[0m   \u001b[0;32mtry\u001b[0m\u001b[0;34m:\u001b[0m\u001b[0;34m\u001b[0m\u001b[0;34m\u001b[0m\u001b[0m\n\u001b[1;32m     52\u001b[0m     \u001b[0mctx\u001b[0m\u001b[0;34m.\u001b[0m\u001b[0mensure_initialized\u001b[0m\u001b[0;34m(\u001b[0m\u001b[0;34m)\u001b[0m\u001b[0;34m\u001b[0m\u001b[0;34m\u001b[0m\u001b[0m\n\u001b[0;32m---> 53\u001b[0;31m     tensors = pywrap_tfe.TFE_Py_Execute(ctx._handle, device_name, op_name,\n\u001b[0m\u001b[1;32m     54\u001b[0m                                         inputs, attrs, num_outputs)\n\u001b[1;32m     55\u001b[0m   \u001b[0;32mexcept\u001b[0m \u001b[0mcore\u001b[0m\u001b[0;34m.\u001b[0m\u001b[0m_NotOkStatusException\u001b[0m \u001b[0;32mas\u001b[0m \u001b[0me\u001b[0m\u001b[0;34m:\u001b[0m\u001b[0;34m\u001b[0m\u001b[0;34m\u001b[0m\u001b[0m\n",
            "\u001b[0;31mKeyboardInterrupt\u001b[0m: "
          ]
        }
      ]
    },
    {
      "cell_type": "code",
      "source": [
        "print(\"1D CNN: {:.2f}%\".format(predict_reg(model, x_test, y_test)))\n"
      ],
      "metadata": {
        "colab": {
          "base_uri": "https://localhost:8080/"
        },
        "id": "L9y2vcP4z4D7",
        "outputId": "2091403a-e09e-494d-c1f2-0dd3b849c0c5"
      },
      "execution_count": 17,
      "outputs": [
        {
          "output_type": "stream",
          "name": "stdout",
          "text": [
            "1563/1563 [==============================] - 5s 3ms/step\n",
            "1D CNN: 50.21%\n"
          ]
        }
      ]
    },
    {
      "cell_type": "code",
      "source": [
        "# Train mode\n",
        "n_epochs = 16\n",
        "\n",
        "# Train the model and save history\n",
        "history_next = model.fit(x_train, y_train, epochs=n_epochs, batch_size=32, validation_data=(x_test, y_test))\n",
        "\n",
        "# history.history['loss'].append(history_next.history['loss']) #, label='Train MSE')\n",
        "# history.history['val_loss'].append(history_next.history['val_loss'])\n",
        "\n",
        "history.history['loss'] += history_next.history['loss']\n",
        "history.history['val_loss'] += history_next.history['val_loss']\n",
        "# history.history\n",
        "\n",
        "# Plot the training and validation loss\n",
        "plt.plot(history.history['loss'], label='Train MSE')\n",
        "plt.plot(history.history['val_loss'], label='Test MSE')\n",
        "plt.title('Model MSE')\n",
        "plt.ylabel('Mean Squared Error')\n",
        "plt.xlabel('Epoch')\n",
        "plt.legend(loc='upper right')\n",
        "plt.show()\n",
        "\n",
        "\n",
        "def predict_reg(f, X, Y):\n",
        "    preds = f.predict(X)\n",
        "    preds012 = np.round(preds / 50) # 100-->2; 50-->1; 0-->0\n",
        "    return np.mean(preds012*50==Y)*100\n",
        "\n",
        "print(\"1D CNN: {:.2f}%\".format(predict_reg(model, x_test, y_test)))\n"
      ],
      "metadata": {
        "colab": {
          "base_uri": "https://localhost:8080/",
          "height": 1000
        },
        "id": "RRAFPp5Uvz8w",
        "outputId": "b253c84f-57c3-486d-b033-b48cd07706b2"
      },
      "execution_count": 20,
      "outputs": [
        {
          "output_type": "stream",
          "name": "stdout",
          "text": [
            "Epoch 1/16\n",
            "4688/4688 [==============================] - 19s 4ms/step - loss: 0.1539 - val_loss: 0.1531\n",
            "Epoch 2/16\n",
            "4688/4688 [==============================] - 14s 3ms/step - loss: 0.1539 - val_loss: 0.1530\n",
            "Epoch 3/16\n",
            "4688/4688 [==============================] - 16s 3ms/step - loss: 0.1540 - val_loss: 0.1528\n",
            "Epoch 4/16\n",
            "4688/4688 [==============================] - 14s 3ms/step - loss: 0.1539 - val_loss: 0.1531\n",
            "Epoch 5/16\n",
            "4688/4688 [==============================] - 15s 3ms/step - loss: 0.1540 - val_loss: 0.1528\n",
            "Epoch 6/16\n",
            "4688/4688 [==============================] - 15s 3ms/step - loss: 0.1539 - val_loss: 0.1531\n",
            "Epoch 7/16\n",
            "4688/4688 [==============================] - 14s 3ms/step - loss: 0.1539 - val_loss: 0.1533\n",
            "Epoch 8/16\n",
            "4688/4688 [==============================] - 14s 3ms/step - loss: 0.1539 - val_loss: 0.1530\n",
            "Epoch 9/16\n",
            "4688/4688 [==============================] - 14s 3ms/step - loss: 0.1539 - val_loss: 0.1528\n",
            "Epoch 10/16\n",
            "4688/4688 [==============================] - 14s 3ms/step - loss: 0.1539 - val_loss: 0.1529\n",
            "Epoch 11/16\n",
            "4688/4688 [==============================] - 14s 3ms/step - loss: 0.1539 - val_loss: 0.1528\n",
            "Epoch 12/16\n",
            "4688/4688 [==============================] - 14s 3ms/step - loss: 0.1539 - val_loss: 0.1528\n",
            "Epoch 13/16\n",
            "4688/4688 [==============================] - 17s 4ms/step - loss: 0.1539 - val_loss: 0.1528\n",
            "Epoch 14/16\n",
            "4688/4688 [==============================] - 15s 3ms/step - loss: 0.1539 - val_loss: 0.1535\n",
            "Epoch 15/16\n",
            "4688/4688 [==============================] - 14s 3ms/step - loss: 0.1539 - val_loss: 0.1529\n",
            "Epoch 16/16\n",
            "4688/4688 [==============================] - 14s 3ms/step - loss: 0.1539 - val_loss: 0.1531\n"
          ]
        },
        {
          "output_type": "display_data",
          "data": {
            "text/plain": [
              "<Figure size 640x480 with 1 Axes>"
            ],
            "image/png": "[encoded data removed]"
          },
          "metadata": {}
        },
        {
          "output_type": "stream",
          "name": "stdout",
          "text": [
            "1563/1563 [==============================] - 2s 2ms/step\n",
            "1D CNN: 50.21%\n"
          ]
        }
      ]
    },
    {
      "cell_type": "code",
      "source": [
        "# Train mode\n",
        "n_epochs = 16\n",
        "\n",
        "# Train the model and save history\n",
        "history_next = model.fit(x_train, y_train, epochs=n_epochs, batch_size=32, validation_data=(x_test, y_test))\n",
        "\n",
        "# history.history['loss'].append(history_next.history['loss']) #, label='Train MSE')\n",
        "# history.history['val_loss'].append(history_next.history['val_loss'])\n",
        "\n",
        "history.history['loss'] += history_next.history['loss']\n",
        "history.history['val_loss'] += history_next.history['val_loss']\n",
        "# history.history\n",
        "\n",
        "# Plot the training and validation loss\n",
        "plt.plot(history.history['loss'], label='Train MSE')\n",
        "plt.plot(history.history['val_loss'], label='Test MSE')\n",
        "plt.title('Model MSE')\n",
        "plt.ylabel('Mean Squared Error')\n",
        "plt.xlabel('Epoch')\n",
        "plt.legend(loc='upper right')\n",
        "plt.show()\n",
        "\n",
        "\n",
        "def predict_reg(f, X, Y):\n",
        "    preds = f.predict(X)\n",
        "    preds012 = np.round(preds / 50) # 100-->2; 50-->1; 0-->0\n",
        "    return np.mean(preds012*50==Y)*100\n",
        "\n",
        "print(\"1D CNN: {:.2f}%\".format(predict_reg(model, x_test, y_test)))\n"
      ],
      "metadata": {
        "colab": {
          "base_uri": "https://localhost:8080/",
          "height": 1000
        },
        "id": "H17t99bYwaLI",
        "outputId": "6d451291-285c-4c26-ab4f-f3051dfbf07c"
      },
      "execution_count": 21,
      "outputs": [
        {
          "output_type": "stream",
          "name": "stdout",
          "text": [
            "Epoch 1/16\n",
            "4688/4688 [==============================] - 18s 4ms/step - loss: 0.1539 - val_loss: 0.1529\n",
            "Epoch 2/16\n",
            "4688/4688 [==============================] - 15s 3ms/step - loss: 0.1539 - val_loss: 0.1529\n",
            "Epoch 3/16\n",
            "4688/4688 [==============================] - 14s 3ms/step - loss: 0.1539 - val_loss: 0.1529\n",
            "Epoch 4/16\n",
            "4688/4688 [==============================] - 15s 3ms/step - loss: 0.1539 - val_loss: 0.1531\n",
            "Epoch 5/16\n",
            "4688/4688 [==============================] - 14s 3ms/step - loss: 0.1539 - val_loss: 0.1531\n",
            "Epoch 6/16\n",
            "4688/4688 [==============================] - 14s 3ms/step - loss: 0.1539 - val_loss: 0.1529\n",
            "Epoch 7/16\n",
            "4688/4688 [==============================] - 14s 3ms/step - loss: 0.1539 - val_loss: 0.1538\n",
            "Epoch 8/16\n",
            "4688/4688 [==============================] - 14s 3ms/step - loss: 0.1539 - val_loss: 0.1530\n",
            "Epoch 9/16\n",
            "4688/4688 [==============================] - 17s 4ms/step - loss: 0.1539 - val_loss: 0.1529\n",
            "Epoch 10/16\n",
            "4688/4688 [==============================] - 15s 3ms/step - loss: 0.1539 - val_loss: 0.1537\n",
            "Epoch 11/16\n",
            "4688/4688 [==============================] - 14s 3ms/step - loss: 0.1539 - val_loss: 0.1527\n",
            "Epoch 12/16\n",
            "4688/4688 [==============================] - 13s 3ms/step - loss: 0.1539 - val_loss: 0.1529\n",
            "Epoch 13/16\n",
            "4688/4688 [==============================] - 16s 3ms/step - loss: 0.1539 - val_loss: 0.1536\n",
            "Epoch 14/16\n",
            "4688/4688 [==============================] - 14s 3ms/step - loss: 0.1539 - val_loss: 0.1531\n",
            "Epoch 15/16\n",
            "4688/4688 [==============================] - 14s 3ms/step - loss: 0.1539 - val_loss: 0.1531\n",
            "Epoch 16/16\n",
            "4688/4688 [==============================] - 14s 3ms/step - loss: 0.1539 - val_loss: 0.1529\n"
          ]
        },
        {
          "output_type": "display_data",
          "data": {
            "text/plain": [
              "<Figure size 640x480 with 1 Axes>"
            ],
            "image/png": "[encoded data removed]"
          },
          "metadata": {}
        },
        {
          "output_type": "stream",
          "name": "stdout",
          "text": [
            "1563/1563 [==============================] - 2s 1ms/step\n",
            "1D CNN: 50.21%\n"
          ]
        }
      ]
    },
    {
      "cell_type": "code",
      "source": [],
      "metadata": {
        "id": "lUDZlMBu69t3"
      },
      "execution_count": null,
      "outputs": []
    }
  ],
  "metadata": {
    "interpreter": {
      "hash": "aee8b7b246df8f9039afb4144a1f6fd8d2ca17a180786b69acc140d282b71a49"
    },
    "kernelspec": {
      "display_name": "Python 3.12.0 64-bit",
      "language": "python",
      "name": "python3"
    },
    "language_info": {
      "codemirror_mode": {
        "name": "ipython",
        "version": 3
      },
      "file_extension": ".py",
      "mimetype": "text/x-python",
      "name": "python",
      "nbconvert_exporter": "python",
      "pygments_lexer": "ipython3",
      "version": "3.12.0"
    },
    "orig_nbformat": 4,
    "colab": {
      "provenance": [],
      "include_colab_link": true
    }
  },
  "nbformat": 4,
  "nbformat_minor": 0
}