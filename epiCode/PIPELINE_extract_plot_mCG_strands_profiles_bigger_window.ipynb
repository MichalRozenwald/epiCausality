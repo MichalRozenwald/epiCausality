{
 "cells": [
  {
   "cell_type": "markdown",
   "metadata": {},
   "source": [
    "# Pipeline to Extract and Analyze mC profiles from BAM files and look at Forward & Reverse strands"
   ]
  },
  {
   "cell_type": "markdown",
   "metadata": {},
   "source": [
    "Modify the window of the input size"
   ]
  },
  {
   "cell_type": "code",
   "execution_count": null,
   "metadata": {},
   "outputs": [],
   "source": [
    "import sys\n",
    "from pathlib import Path\n",
    "from datetime import datetime\n",
    "\n",
    "# Add the folder containing 'my_functions.py' to sys.path\n",
    "sys.path.append(\"/home/michalula/code/epiCausality/epiCode/utils/\") # str(Path(__file__).parent / 'utils'))\n",
    "\n",
    "# Import the module or specific functions\n",
    "# from /home/michalula/code/epiCausality/epiCode/utils/funcs_extract_mC_profiles_from_BAMs.py\n",
    "# from funcs_extract_mC_profiles_from_BAMs import system_info, extract_from_bam\n",
    "from funcs_extract_mC_profiles_from_BAMs import (\n",
    "    system_info,\n",
    "    get_reference_sequence,\n",
    "    create_output_directory,\n",
    "    extract_from_bam,\n",
    "    process_extracted_reads,\n",
    "    visualize_data,\n",
    "    create_padded_reads,\n",
    "    plot_padded_reads,\n",
    "    save_padded_reads,\n",
    "    # main,\n",
    ")"
   ]
  },
  {
   "cell_type": "code",
   "execution_count": null,
   "metadata": {},
   "outputs": [],
   "source": [
    "from funcs_analize_forward_reverse_extracted_mC_reads import analize_forward_reverse_CGs_pipeline"
   ]
  },
  {
   "cell_type": "markdown",
   "metadata": {},
   "source": [
    "## Extract Extranded window around the 30 bp ROI of unedited primary T cells from Elain ES from nCATs nanopore experiment using P2 on 2004-12-16"
   ]
  },
  {
   "cell_type": "markdown",
   "metadata": {},
   "source": [
    "## Setting mC threshold in methylation calling confidance to 0.7"
   ]
  },
  {
   "cell_type": "markdown",
   "metadata": {},
   "source": [
    "# Expend window size"
   ]
  },
  {
   "cell_type": "code",
   "execution_count": null,
   "metadata": {},
   "outputs": [],
   "source": [
    "system_info()\n",
    "\n",
    "experiment_name = \"unedited_T_primerES_nCATS\"\n",
    "threshold_mC =  0.7 #  0.9 #0.99\n",
    "bam_path = \"/home/michalula/data/cas9_nanopore/data/20241226_MR_nCATs_TcellsPrES_unedit_P2R9/passed_fast5/5mCG/to_t2t_v1_1/sort_align_trim_20241226_MR_nCATs_TcellsPrES_unedit_P2R9_passed.dna_r9.4.1_e8_sup@v3.3.5mCG.bam\"\n",
    "\n",
    "date_today = datetime.today().strftime('%Y-%m-%d')\n",
    "\n",
    "ref_genome_v1_1_file = Path('/home/michalula/data/ref_genomes/to_t2t_v1_1/chm13.draft_v1.1.fasta')\n",
    "reg_genome_version = \"t2t_v1_1\"\n",
    "# t2t_v1_1_cd55_30bps = 'chr1:206586162-206586192'\n",
    "region_chr = 'chr1'\n",
    "\n",
    "# region_start = 206586162\n",
    "# region_end = 206586192\n",
    "\n",
    "# Expend window size\n",
    "expand_window_size = 50 # 0 \n",
    "expand_window_size\n",
    "print(\"Expend window size by 2 * \", expand_window_size)\n",
    "region_start = 206586162 - expand_window_size\n",
    "region_end = 206586192 + expand_window_size + 1\n",
    "\n",
    "region_str = region_chr + \":\" + str(region_start) + \"-\" + str(region_end) #'chr1:206586162-206586192'\n",
    "region_length = region_end - region_start\n",
    "print(\"region_length\", region_length)\n",
    "\n",
    "\n",
    "save_padded_reads_name_np = f\"padded_reads_{experiment_name}_mCthresh{threshold_mC}_{reg_genome_version}_{region_str}_{date_today}.npy\"\n",
    "output_dir = create_output_directory(\"./dimelo_v2_output\")\n",
    "\n",
    "motifs=['CG,0']\n",
    "ref_seq_list = get_reference_sequence(ref_genome_v1_1_file, region_chr, region_start, region_end)\n",
    "\n",
    "\n",
    "extract_file, extract_regions = extract_from_bam(\n",
    "    bam_path=bam_path,\n",
    "    ref_genome_file=ref_genome_v1_1_file,\n",
    "    output_dir=output_dir,\n",
    "    regions=region_str,\n",
    "    motifs=motifs,\n",
    "    output_name='extracted_reads',\n",
    "    threshold_mC=threshold_mC,\n",
    ")\n",
    "\n",
    "if extract_file:\n",
    "    reads_df, regions_dict = process_extracted_reads(extract_file, region_str, motifs, ref_seq_list)\n",
    "    visualize_data(reads_df)\n",
    "\n",
    "    padded_reads = create_padded_reads(reads_df, regions_dict, region_length)\n",
    "    if padded_reads is not None:\n",
    "        plot_padded_reads(padded_reads, ref_seq_list)\n",
    "        save_padded_reads(padded_reads, output_dir, save_padded_reads_name_np)\n",
    " "
   ]
  },
  {
   "cell_type": "code",
   "execution_count": null,
   "metadata": {},
   "outputs": [],
   "source": [
    "\"\"\"\n",
    "Main pipeline for processing and visualizing CpG units on forward and reverse strands \n",
    "\"\"\"\n",
    "try:\n",
    "    # Define constants\n",
    "    # experiment_name = \"unedited_T_primerES_nCATS\"\n",
    "    # save_folder_path = output_dir # \"/home/michalula/code/epiCausality/epiCode/notebooks/dimelo_v2_output\"\n",
    "    # save_padded_reads_name_np = \"padded_reads.npy\"\n",
    "    # ref_genome_file = \"/home/michalula/data/ref_genomes/to_t2t_v1_1/chm13.draft_v1.1.fasta\"\n",
    "    # region_chr = \"chr1\"\n",
    "    # region_start = 206586162\n",
    "    # region_end = 206586192\n",
    "\n",
    "    # Process pipeline\n",
    "    CGs_all, C_fwd_df, G_revs_df, padded_reads_df = analize_forward_reverse_CGs_pipeline(\n",
    "        experiment_name=experiment_name, save_folder_path=output_dir, \n",
    "        save_padded_reads_name_np=save_padded_reads_name_np, \n",
    "        ref_genome_file=ref_genome_v1_1_file, region_chr=region_chr, region_start=region_start, region_end=region_end\n",
    "    )\n",
    "\n",
    "    print(\"Pipeline executed successfully (analize_forward_reverse_CGs_pipeline function)\")\n",
    "    # return CGs_all, C_fwd_df, G_revs_df, padded_reads_df\n",
    "\n",
    "except Exception as e:\n",
    "    print(f\"Error in main pipeline (analize_forward_reverse_CGs_pipeline function): {e}\")\n"
   ]
  },
  {
   "cell_type": "markdown",
   "metadata": {},
   "source": [
    "### Results for ROI Extraction from Unedited T cells:\n",
    "From around 3000 reads located near the ROI, \n",
    "\n",
    "only ~1700 reads have non-zery mC\n",
    "\n",
    "(with 70% confidance at least one methylated C  in the mC call) \n",
    "\n",
    "Forward reads: 1081 \n",
    "\n",
    "Reverse reads: 662"
   ]
  },
  {
   "cell_type": "markdown",
   "metadata": {},
   "source": [
    "# Analyze the Edited CRISPROff cells from the same T prime cells from Elaine ES"
   ]
  },
  {
   "cell_type": "code",
   "execution_count": null,
   "metadata": {},
   "outputs": [],
   "source": [
    "\n",
    "# def main():\n",
    "#     \"\"\"Main function to execute all tasks.\"\"\"\n",
    "system_info()\n",
    "\n",
    "experiment_name = \"silenced_T_primerES_nCATS\"\n",
    "# threshold_mC = 0.9 # 0.75 # 0.99\n",
    "bam_path = \"/home/michalula/data/cas9_nanopore/data/20241226_MR_nCATs_TPrES_CROFF90prD6_P2R9/pod5_converted_basecall/5mCG/to_t2t_v1_1/sort_align_t2t_v1_1_trim_20241226_MR_nCATs_TPrES_CROFF90prD6_P2R9.dna_r9.4.1_e8_sup@v3.3.5mCG.bam\"\n",
    "# \"/home/michalula/data/cas9_nanopore/data/20241226_MR_nCATs_TcellsPrES_unedit_P2R9/passed_fast5/5mCG/to_t2t_v1_1/sort_align_trim_20241226_MR_nCATs_TcellsPrES_unedit_P2R9_passed.dna_r9.4.1_e8_sup@v3.3.5mCG.bam\"\n",
    "\n",
    "# date_today = datetime.today().strftime('%Y-%m-%d')\n",
    "# ref_genome_v1_1_file = Path('/home/michalula/data/ref_genomes/to_t2t_v1_1/chm13.draft_v1.1.fasta')\n",
    "# reg_genome_version = \"t2t_v1_1\"\n",
    "# t2t_v1_1_cd55_30bps = 'chr1:206586162-206586192'\n",
    "# region_chr = 'chr1'\n",
    "# region_start = 206586162\n",
    "# # region_end = 206586192\n",
    "# region_str = region_chr + \":\" + str(region_start) + \"-\" + str(region_end) #'chr1:206586162-206586192'\n",
    "# region_length = region_end - region_start\n",
    "# print(\"region_length\", region_length)\n",
    "\n",
    "\n",
    "save_padded_reads_name_np = f\"padded_reads_{experiment_name}_mCthresh{threshold_mC}_{reg_genome_version}_{region_str}_{date_today}.npy\"\n",
    "output_dir = create_output_directory(\"./dimelo_v2_output\")\n",
    "\n",
    "# motifs=['CG,0']\n",
    "# ref_seq_list = get_reference_sequence(ref_genome_v1_1_file, region_chr, region_start, region_end)\n",
    "\n",
    "\n",
    "extract_file, extract_regions = extract_from_bam(\n",
    "    bam_path=bam_path,\n",
    "    ref_genome_file=ref_genome_v1_1_file,\n",
    "    output_dir=output_dir,\n",
    "    regions=region_str,\n",
    "    motifs=motifs,\n",
    "    output_name='extracted_reads',\n",
    "    threshold_mC=threshold_mC,\n",
    ")\n",
    "\n",
    "if extract_file:\n",
    "    reads_df, regions_dict = process_extracted_reads(extract_file, region_str, motifs, ref_seq_list)\n",
    "    visualize_data(reads_df)\n",
    "\n",
    "    padded_reads = create_padded_reads(reads_df, regions_dict, region_length)\n",
    "    if padded_reads is not None:\n",
    "        plot_padded_reads(padded_reads, ref_seq_list)\n",
    "        save_padded_reads(padded_reads, output_dir, save_padded_reads_name_np)\n",
    " "
   ]
  },
  {
   "cell_type": "markdown",
   "metadata": {},
   "source": []
  },
  {
   "cell_type": "code",
   "execution_count": null,
   "metadata": {},
   "outputs": [],
   "source": [
    "save_padded_reads_name_np"
   ]
  },
  {
   "cell_type": "code",
   "execution_count": null,
   "metadata": {},
   "outputs": [],
   "source": [
    "\"\"\"\n",
    "Main pipeline for processing and visualizing CpG units on forward and reverse strands \n",
    "\"\"\"\n",
    "try:\n",
    "    # Define constants\n",
    "    # experiment_name = \"unedited_T_primerES_nCATS\"\n",
    "    # save_folder_path = output_dir # \"/home/michalula/code/epiCausality/epiCode/notebooks/dimelo_v2_output\"\n",
    "    # save_padded_reads_name_np = \"padded_reads.npy\"\n",
    "    # ref_genome_file = \"/home/michalula/data/ref_genomes/to_t2t_v1_1/chm13.draft_v1.1.fasta\"\n",
    "    # region_chr = \"chr1\"\n",
    "    # region_start = 206586162\n",
    "    # region_end = 206586192\n",
    "\n",
    "    # Process pipeline\n",
    "    CGs_all_silenced, C_fwd_df_silenced, G_revs_df_silenced, padded_reads_df_silenced = analize_forward_reverse_CGs_pipeline(\n",
    "        experiment_name=experiment_name, save_folder_path=output_dir, \n",
    "        save_padded_reads_name_np=save_padded_reads_name_np, \n",
    "        ref_genome_file=ref_genome_v1_1_file, region_chr=region_chr, region_start=region_start, region_end=region_end\n",
    "    )\n",
    "\n",
    "    print(\"Pipeline executed successfully (analize_forward_reverse_CGs_pipeline function)\")\n",
    "    # return CGs_all, C_fwd_df, G_revs_df, padded_reads_df\n",
    "\n",
    "except Exception as e:\n",
    "    print(f\"Error in main pipeline (analize_forward_reverse_CGs_pipeline function): {e}\")\n"
   ]
  },
  {
   "cell_type": "markdown",
   "metadata": {},
   "source": [
    "### ROI Extraction Results from  Silenced CRISPROff primary T cells from ES:\n",
    "From around 7644 reads located near the ROI, \n",
    "\n",
    " ~7097 reads have non-zery mC \n",
    " \n",
    " (with 70% confidance in at least one methylated C the mC calls ) \n",
    "\n",
    "Forward reads: 4132\n",
    "\n",
    "Reverse reads: 2965\n"
   ]
  },
  {
   "cell_type": "code",
   "execution_count": null,
   "metadata": {},
   "outputs": [],
   "source": []
  },
  {
   "cell_type": "markdown",
   "metadata": {},
   "source": [
    "# Change the mC threshold to 0.9 - only keep very confident mC values\n"
   ]
  },
  {
   "cell_type": "markdown",
   "metadata": {},
   "source": [
    "## T unedited cells"
   ]
  },
  {
   "cell_type": "code",
   "execution_count": null,
   "metadata": {},
   "outputs": [],
   "source": [
    "system_info()\n",
    "\n",
    "experiment_name = \"unedited_T_primerES_nCATS\"\n",
    "threshold_mC =  0.9  # 0.7 # #0.99\n",
    "bam_path = \"/home/michalula/data/cas9_nanopore/data/20241226_MR_nCATs_TcellsPrES_unedit_P2R9/passed_fast5/5mCG/to_t2t_v1_1/sort_align_trim_20241226_MR_nCATs_TcellsPrES_unedit_P2R9_passed.dna_r9.4.1_e8_sup@v3.3.5mCG.bam\"\n",
    "\n",
    "date_today = datetime.today().strftime('%Y-%m-%d')\n",
    "\n",
    "# ref_genome_v1_1_file = Path('/home/michalula/data/ref_genomes/to_t2t_v1_1/chm13.draft_v1.1.fasta')\n",
    "# reg_genome_version = \"t2t_v1_1\"\n",
    "# # t2t_v1_1_cd55_30bps = 'chr1:206586162-206586192'\n",
    "# region_chr = 'chr1'\n",
    "# region_start = 206586162\n",
    "# region_end = 206586192\n",
    "# region_str = region_chr + \":\" + str(region_start) + \"-\" + str(region_end) #'chr1:206586162-206586192'\n",
    "# region_length = region_end - region_start\n",
    "print(\"region_length\", region_length)\n",
    "\n",
    "\n",
    "save_padded_reads_name_np = f\"padded_reads_{experiment_name}_mCthresh{threshold_mC}_{reg_genome_version}_{region_str}_{date_today}.npy\"\n",
    "output_dir = create_output_directory(\"./dimelo_v2_output\")\n",
    "\n",
    "motifs=['CG,0']\n",
    "ref_seq_list = get_reference_sequence(ref_genome_v1_1_file, region_chr, region_start, region_end)\n",
    "\n",
    "\n",
    "extract_file, extract_regions = extract_from_bam(\n",
    "    bam_path=bam_path,\n",
    "    ref_genome_file=ref_genome_v1_1_file,\n",
    "    output_dir=output_dir,\n",
    "    regions=region_str,\n",
    "    motifs=motifs,\n",
    "    output_name='extracted_reads',\n",
    "    threshold_mC=threshold_mC,\n",
    ")\n",
    "\n",
    "if extract_file:\n",
    "    reads_df, regions_dict = process_extracted_reads(extract_file, region_str, motifs, ref_seq_list)\n",
    "    visualize_data(reads_df)\n",
    "\n",
    "    padded_reads = create_padded_reads(reads_df, regions_dict, region_length)\n",
    "    if padded_reads is not None:\n",
    "        plot_padded_reads(padded_reads, ref_seq_list)\n",
    "        save_padded_reads(padded_reads, output_dir, save_padded_reads_name_np)\n",
    " "
   ]
  },
  {
   "cell_type": "code",
   "execution_count": null,
   "metadata": {},
   "outputs": [],
   "source": [
    "\"\"\"\n",
    "Main pipeline for processing and visualizing CpG units on forward and reverse strands \n",
    "\"\"\"\n",
    "try:\n",
    "    # Define constants\n",
    "    # experiment_name = \"unedited_T_primerES_nCATS\"\n",
    "    # save_folder_path = output_dir # \"/home/michalula/code/epiCausality/epiCode/notebooks/dimelo_v2_output\"\n",
    "    # save_padded_reads_name_np = \"padded_reads.npy\"\n",
    "    # ref_genome_file = \"/home/michalula/data/ref_genomes/to_t2t_v1_1/chm13.draft_v1.1.fasta\"\n",
    "    # region_chr = \"chr1\"\n",
    "    # region_start = 206586162\n",
    "    # region_end = 206586192\n",
    "\n",
    "    # Process pipeline\n",
    "    CGs_all, C_fwd_df, G_revs_df, padded_reads_df = analize_forward_reverse_CGs_pipeline(\n",
    "        experiment_name=experiment_name, save_folder_path=output_dir, \n",
    "        save_padded_reads_name_np=save_padded_reads_name_np, \n",
    "        ref_genome_file=ref_genome_v1_1_file, region_chr=region_chr, region_start=region_start, region_end=region_end\n",
    "    )\n",
    "\n",
    "    print(\"Pipeline executed successfully (analize_forward_reverse_CGs_pipeline function)\")\n",
    "    # return CGs_all, C_fwd_df, G_revs_df, padded_reads_df\n",
    "\n",
    "except Exception as e:\n",
    "    print(f\"Error in main pipeline (analize_forward_reverse_CGs_pipeline function): {e}\")\n"
   ]
  },
  {
   "cell_type": "markdown",
   "metadata": {},
   "source": [
    "### Results for ROI Extraction from Unedited T cells:\n",
    "From around ~3000 reads located near the ROI, \n",
    "\n",
    "only ~1300 reads have non-zery mC\n",
    "\n",
    "(with 90% confidance at least one methylated C  in the mC call) \n",
    "\n",
    "Forward reads: 788\n",
    "\n",
    "Reverse reads: 516 "
   ]
  },
  {
   "cell_type": "markdown",
   "metadata": {},
   "source": [
    "# Analyze the Edited CRISPROff cells from the same T prime cells from Elaine ES"
   ]
  },
  {
   "cell_type": "code",
   "execution_count": null,
   "metadata": {},
   "outputs": [],
   "source": [
    "system_info()\n",
    "\n",
    "experiment_name = \"silenced_T_primerES_nCATS\"\n",
    "# threshold_mC = 0.9 # 0.75 # 0.99\n",
    "bam_path = \"/home/michalula/data/cas9_nanopore/data/20241226_MR_nCATs_TPrES_CROFF90prD6_P2R9/pod5_converted_basecall/5mCG/to_t2t_v1_1/sort_align_t2t_v1_1_trim_20241226_MR_nCATs_TPrES_CROFF90prD6_P2R9.dna_r9.4.1_e8_sup@v3.3.5mCG.bam\"\n",
    "# \"/home/michalula/data/cas9_nanopore/data/20241226_MR_nCATs_TcellsPrES_unedit_P2R9/passed_fast5/5mCG/to_t2t_v1_1/sort_align_trim_20241226_MR_nCATs_TcellsPrES_unedit_P2R9_passed.dna_r9.4.1_e8_sup@v3.3.5mCG.bam\"\n",
    "\n",
    "# date_today = datetime.today().strftime('%Y-%m-%d')\n",
    "# ref_genome_v1_1_file = Path('/home/michalula/data/ref_genomes/to_t2t_v1_1/chm13.draft_v1.1.fasta')\n",
    "# reg_genome_version = \"t2t_v1_1\"\n",
    "# t2t_v1_1_cd55_30bps = 'chr1:206586162-206586192'\n",
    "# region_chr = 'chr1'\n",
    "# region_start = 206586162\n",
    "# # region_end = 206586192\n",
    "# region_str = region_chr + \":\" + str(region_start) + \"-\" + str(region_end) #'chr1:206586162-206586192'\n",
    "# region_length = region_end - region_start\n",
    "# print(\"region_length\", region_length)\n",
    "\n",
    "\n",
    "save_padded_reads_name_np = f\"padded_reads_{experiment_name}_mCthresh{threshold_mC}_{reg_genome_version}_{region_str}_{date_today}.npy\"\n",
    "output_dir = create_output_directory(\"./dimelo_v2_output\")\n",
    "\n",
    "# motifs=['CG,0']\n",
    "# ref_seq_list = get_reference_sequence(ref_genome_v1_1_file, region_chr, region_start, region_end)\n",
    "\n",
    "\n",
    "extract_file, extract_regions = extract_from_bam(\n",
    "    bam_path=bam_path,\n",
    "    ref_genome_file=ref_genome_v1_1_file,\n",
    "    output_dir=output_dir,\n",
    "    regions=region_str,\n",
    "    motifs=motifs,\n",
    "    output_name='extracted_reads',\n",
    "    threshold_mC=threshold_mC,\n",
    ")\n",
    "\n",
    "if extract_file:\n",
    "    reads_df, regions_dict = process_extracted_reads(extract_file, region_str, motifs, ref_seq_list)\n",
    "    visualize_data(reads_df)\n",
    "\n",
    "    padded_reads = create_padded_reads(reads_df, regions_dict, region_length)\n",
    "    if padded_reads is not None:\n",
    "        plot_padded_reads(padded_reads, ref_seq_list)\n",
    "        save_padded_reads(padded_reads, output_dir, save_padded_reads_name_np)\n",
    " "
   ]
  },
  {
   "cell_type": "code",
   "execution_count": null,
   "metadata": {},
   "outputs": [],
   "source": [
    "save_padded_reads_name_np"
   ]
  },
  {
   "cell_type": "code",
   "execution_count": null,
   "metadata": {},
   "outputs": [],
   "source": [
    "\"\"\"\n",
    "Main pipeline for processing and visualizing CpG units on forward and reverse strands \n",
    "\"\"\"\n",
    "try:\n",
    "    # Define constants\n",
    "    # experiment_name = \"unedited_T_primerES_nCATS\"\n",
    "    # save_folder_path = output_dir # \"/home/michalula/code/epiCausality/epiCode/notebooks/dimelo_v2_output\"\n",
    "    # save_padded_reads_name_np = \"padded_reads.npy\"\n",
    "    # ref_genome_file = \"/home/michalula/data/ref_genomes/to_t2t_v1_1/chm13.draft_v1.1.fasta\"\n",
    "    # region_chr = \"chr1\"\n",
    "    # region_start = 206586162\n",
    "    # region_end = 206586192\n",
    "\n",
    "    # Process pipeline\n",
    "    CGs_all_silenced, C_fwd_df_silenced, G_revs_df_silenced, padded_reads_df_silenced = analize_forward_reverse_CGs_pipeline(\n",
    "        experiment_name=experiment_name, save_folder_path=output_dir, \n",
    "        save_padded_reads_name_np=save_padded_reads_name_np, \n",
    "        ref_genome_file=ref_genome_v1_1_file, region_chr=region_chr, region_start=region_start, region_end=region_end\n",
    "    )\n",
    "\n",
    "    print(\"Pipeline executed successfully (analize_forward_reverse_CGs_pipeline function)\")\n",
    "    # return CGs_all, C_fwd_df, G_revs_df, padded_reads_df\n",
    "\n",
    "except Exception as e:\n",
    "    print(f\"Error in main pipeline (analize_forward_reverse_CGs_pipeline function): {e}\")\n"
   ]
  },
  {
   "cell_type": "markdown",
   "metadata": {},
   "source": [
    "### ROI Extraction Results from  Silenced CRISPROff primary T cells from ES:\n",
    "From around 7644 reads located near the ROI, \n",
    "\n",
    " ~7097 reads have non-zery mC \n",
    " \n",
    " (with 90% confidance in at least one methylated C the mC calls ) \n",
    "\n",
    "\n",
    "Forward reads: 3852\n",
    "\n",
    "Reverse reads: 2805 \n",
    "\n",
    "\n",
    "In comparison to the 70% condidance reads:\n",
    "\n",
    "Forward reads: 4132\n",
    "\n",
    "Reverse reads: 2965\n",
    "\n",
    "\n",
    "~ 90% of those Day 6 CRISPROff cells are silenced according to Elaines Flow data"
   ]
  },
  {
   "cell_type": "code",
   "execution_count": null,
   "metadata": {},
   "outputs": [],
   "source": []
  },
  {
   "cell_type": "markdown",
   "metadata": {},
   "source": [
    "# #TODOs / Ideas\n",
    "- look through each dataset\n",
    "- try various confidence in mC thresholds\n",
    "- try extanding to londer regions than my 30 bps [Done!]\n"
   ]
  },
  {
   "cell_type": "code",
   "execution_count": null,
   "metadata": {},
   "outputs": [],
   "source": []
  },
  {
   "cell_type": "code",
   "execution_count": null,
   "metadata": {},
   "outputs": [],
   "source": []
  }
 ],
 "metadata": {
  "kernelspec": {
   "display_name": "Python dimelo_v2_modkit_parsing",
   "language": "python",
   "name": "dimelo_v2_modkit_parsing"
  },
  "language_info": {
   "codemirror_mode": {
    "name": "ipython",
    "version": 3
   },
   "file_extension": ".py",
   "mimetype": "text/x-python",
   "name": "python",
   "nbconvert_exporter": "python",
   "pygments_lexer": "ipython3",
   "version": "3.11.9"
  }
 },
 "nbformat": 4,
 "nbformat_minor": 2
}
