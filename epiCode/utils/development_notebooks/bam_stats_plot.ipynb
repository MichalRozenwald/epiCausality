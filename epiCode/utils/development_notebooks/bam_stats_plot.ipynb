{
 "cells": [
  {
   "cell_type": "code",
   "execution_count": 1,
   "id": "2deca60f",
   "metadata": {},
   "outputs": [
    {
     "name": "stdout",
     "output_type": "stream",
     "text": [
      "modkit found with expected version 0.2.4\n"
     ]
    }
   ],
   "source": [
    "import sys\n",
    "from pathlib import Path\n",
    "from datetime import datetime\n",
    "\n",
    "from matplotlib import pyplot as plt \n",
    "import seaborn as sns\n",
    "import pandas as pd\n",
    "import numpy as np\n",
    "\n",
    "from scipy import stats\n",
    "\n",
    "# import time\n",
    "# import shap\n",
    "\n",
    "\n",
    "# Add the folder containing 'my_functions.py' to sys.path\n",
    "sys.path.append(\"/home/michalula/code/epiCausality/epiCode/utils/\") # str(Path(__file__).parent / 'utils'))\n",
    "\n",
    "# Import the module or specific functions\n",
    "# from /home/michalula/code/epiCausality/epiCode/utils/funcs_extract_mC_profiles_from_BAMs.py\n",
    "# from funcs_extract_mC_profiles_from_BAMs import system_info, extract_from_bam\n",
    "from funcs_extract_mC_profiles_from_BAMs import (\n",
    "    system_info,\n",
    "    get_reference_sequence,\n",
    "    create_output_directory,\n",
    "    extract_from_bam,\n",
    "    process_extracted_reads,\n",
    "    visualize_data,\n",
    "    create_padded_reads,\n",
    "    plot_padded_reads,\n",
    "    save_padded_reads,\n",
    "    remove_low_methylated_reads,\n",
    "    process_extracted_reads_no_fully_unmethylated,\n",
    "    create_padded_reads_no_fully_unmethylated,\n",
    "    subset_BAM_by_read_IDs,\n",
    "    bam_to_sam,\n",
    "    plot_bam_quality_metrics\n",
    "    # main,\n",
    ")\n",
    "from funcs_analize_forward_reverse_extracted_mC_reads import analize_forward_reverse_CGs_pipeline"
   ]
  },
  {
   "cell_type": "code",
   "execution_count": 36,
   "id": "cdca59ee",
   "metadata": {},
   "outputs": [
    {
     "name": "stdout",
     "output_type": "stream",
     "text": [
      "The mode is: 3\n",
      "The count is: 4\n"
     ]
    }
   ],
   "source": [
    "\n",
    "data_array = np.array([1, 2, 2, 3, 3, 3, 4, 16, 3, 4])\n",
    "mode_result = stats.mode(data_array, keepdims=True) # keepdims=True returns array-like output; mode: The array of modal values. count: The number of times each corresponding modal value appears. \n",
    "print(f\"The mode is: {mode_result.mode[0]}\")\n",
    "print(f\"The count is: {mode_result.count[0]}\")\n"
   ]
  },
  {
   "cell_type": "code",
   "execution_count": 37,
   "id": "ee2ae5c0",
   "metadata": {},
   "outputs": [
    {
     "data": {
      "text/plain": [
       "ModeResult(mode=array([3]), count=array([4]))"
      ]
     },
     "execution_count": 37,
     "metadata": {},
     "output_type": "execute_result"
    }
   ],
   "source": [
    "mode_result = stats.mode(data_array, keepdims=True) # keepdims=True returns array-like output\n",
    "mode_result"
   ]
  },
  {
   "cell_type": "code",
   "execution_count": 38,
   "id": "bdb18ac8",
   "metadata": {},
   "outputs": [
    {
     "data": {
      "text/plain": [
       "ModeResult(mode=array([3]), count=array([4]))"
      ]
     },
     "execution_count": 38,
     "metadata": {},
     "output_type": "execute_result"
    }
   ],
   "source": [
    "mode_result = stats.mode(data_array, keepdims=True) # keepdims=True returns array-like output\n",
    "mode_result"
   ]
  },
  {
   "cell_type": "code",
   "execution_count": 39,
   "id": "13850dc0",
   "metadata": {},
   "outputs": [
    {
     "data": {
      "text/plain": [
       "np.int64(3)"
      ]
     },
     "execution_count": 39,
     "metadata": {},
     "output_type": "execute_result"
    }
   ],
   "source": [
    "np.bincount(data_array).argmax()"
   ]
  },
  {
   "cell_type": "code",
   "execution_count": 40,
   "id": "cb121bf9",
   "metadata": {},
   "outputs": [
    {
     "data": {
      "text/plain": [
       "array([0, 1, 2, 4, 2, 0, 0, 0, 0, 0, 0, 0, 0, 0, 0, 0, 1])"
      ]
     },
     "execution_count": 40,
     "metadata": {},
     "output_type": "execute_result"
    }
   ],
   "source": [
    "np.bincount(data_array)"
   ]
  },
  {
   "cell_type": "code",
   "execution_count": null,
   "id": "5bb9342f",
   "metadata": {},
   "outputs": [],
   "source": []
  },
  {
   "cell_type": "code",
   "execution_count": null,
   "id": "6eac0eb1",
   "metadata": {},
   "outputs": [],
   "source": []
  }
 ],
 "metadata": {
  "kernelspec": {
   "display_name": "dimelo_v2_modkit_parsing",
   "language": "python",
   "name": "python3"
  },
  "language_info": {
   "codemirror_mode": {
    "name": "ipython",
    "version": 3
   },
   "file_extension": ".py",
   "mimetype": "text/x-python",
   "name": "python",
   "nbconvert_exporter": "python",
   "pygments_lexer": "ipython3",
   "version": "3.11.9"
  }
 },
 "nbformat": 4,
 "nbformat_minor": 5
}
