{
 "cells": [
  {
   "cell_type": "code",
   "execution_count": null,
   "metadata": {},
   "outputs": [],
   "source": []
  },
  {
   "cell_type": "code",
   "execution_count": null,
   "metadata": {},
   "outputs": [],
   "source": []
  },
  {
   "cell_type": "markdown",
   "metadata": {},
   "source": [
    "# T cells mapped to T2T version 2.0\n",
    "# Day 6 post EP for CRISPoff and unedited\n",
    "# Pipeline to Extract and Analyze mC profiles from BAM files and look at Forward & Reverse strands\n",
    "\n",
    "Date: Aug. 22, 2025\n",
    "Modify the window of the input size"
   ]
  },
  {
   "cell_type": "markdown",
   "metadata": {},
   "source": [
    "Save subsets of reads"
   ]
  },
  {
   "cell_type": "code",
   "execution_count": null,
   "metadata": {},
   "outputs": [],
   "source": [
    "\n",
    "import sys\n",
    "from pathlib import Path\n",
    "from datetime import datetime\n",
    "\n",
    "from matplotlib import pyplot as plt \n",
    "import seaborn as sns\n",
    "import pandas as pd\n",
    "import numpy as np\n",
    "# import time\n",
    "# import shap\n",
    "\n",
    "\n",
    "# Add the folder containing 'my_functions.py' to sys.path\n",
    "sys.path.append(\"/home/michalula/code/epiCausality/epiCode/utils/\") # str(Path(__file__).parent / 'utils'))\n",
    "\n",
    "# Import the module or specific functions\n",
    "# from /home/michalula/code/epiCausality/epiCode/utils/funcs_extract_mC_profiles_from_BAMs.py\n",
    "# from funcs_extract_mC_profiles_from_BAMs import system_info, extract_from_bam\n",
    "from funcs_extract_mC_profiles_from_BAMs import (\n",
    "    system_info,\n",
    "    get_reference_sequence,\n",
    "    create_output_directory,\n",
    "    extract_from_bam,\n",
    "    process_extracted_reads,\n",
    "    visualize_data,\n",
    "    create_padded_reads,\n",
    "    plot_padded_reads,\n",
    "    save_padded_reads,\n",
    "    remove_low_methylated_reads,\n",
    "    process_extracted_reads_no_fully_unmethylated,\n",
    "    create_padded_reads_no_fully_unmethylated,\n",
    "    subset_BAM_by_read_IDs,\n",
    "    bam_to_sam,\n",
    "    plot_bam_quality_metrics\n",
    "    # main,\n",
    ")\n",
    "from funcs_analize_forward_reverse_extracted_mC_reads import analize_forward_reverse_CGs_pipeline"
   ]
  },
  {
   "cell_type": "code",
   "execution_count": null,
   "metadata": {},
   "outputs": [],
   "source": [
    "system_info()\n",
    "date_today = datetime.today().strftime('%Y-%m-%d')\n",
    "ref_genome_path = Path('/home/michalula/data/ref_genomes/t2t_v2_0/up_chm13v2.0.fasta')\n",
    "reg_genome_version = \"t2t_v2_0\"\n",
    "region_chr = 'chr1'\n",
    "\n",
    "# 6500bps: EXACT cutting region  \n",
    "# chr1:206,583,334-206,589,873\n",
    "region_start = 206583334    + 20\n",
    "region_end = 206589874      - 20 \n",
    "# CD55 TSS start: chr1:206586828-206606065 (+)\n",
    "# (before TSS: 3474, after TSS: 3026 bps)\n",
    "\n",
    "region_str = region_chr + \":\" + str(region_start) + \"-\" + str(region_end) #'chr1:206586162-206586192'\n",
    "region_length = region_end - region_start\n",
    "print(\"region_length\", region_length)\n",
    "\n",
    "\n",
    "motifs=['CG,0']\n",
    "ref_seq_list = get_reference_sequence(ref_genome_path, region_chr, region_start, region_end)\n",
    "\n",
    "print('region_chr', region_chr)\n",
    "print('region_start', region_start)\n",
    "print('region_end', region_end)\n",
    "print(f'{region_chr}:{region_start}-{region_end}') "
   ]
  },
  {
   "cell_type": "markdown",
   "metadata": {},
   "source": [
    "# Look at UNEDITED (NT = Not Treated) T cells at day 6 post EP (with no proteins)\n"
   ]
  },
  {
   "cell_type": "code",
   "execution_count": null,
   "metadata": {},
   "outputs": [],
   "source": [
    "unedit_bam_path = \"/home/michalula/data/cas9_nanopore/data/20250721_nCATs_Tcells_UNEDITED_Day28/merged_outputs/5mCG/to_t2t_v2_0/sort_align_t2t_v2_0_trim_20250721_nCATs_Tcells_UNEDITED_Day28_minion_merged_flowcells_output.dna_r9.4.1_e8_sup@v3.3.5mCG.bam\"\n",
    "\n",
    "# day 6:  \"/home/michalula/data/cas9_nanopore/data/20241226_MR_nCATs_TcellsPrES_unedit_P2R9/passed_fast5/5mCG/to_t2t_v2_0/sort_align_t2t_v2_0_trim_20241226_MR_nCATs_TcellsPrES_unedit_P2R9_passed.dna_r9.4.1_e8_sup@v3.3.5mCG.bam\"\n",
    "unedit_bam_path"
   ]
  },
  {
   "cell_type": "code",
   "execution_count": null,
   "metadata": {},
   "outputs": [],
   "source": [
    "original_bam_path = unedit_bam_path\n",
    "original_bam_path"
   ]
  },
  {
   "cell_type": "code",
   "execution_count": null,
   "metadata": {},
   "outputs": [],
   "source": [
    "threshold_mC = 0.995 #0.7 #  0.9 #0.99\n",
    "experiment_name = \"day28_unedited_Tcells_Thr\"+str(threshold_mC)+\"_NoFullyUnmethylated_T2Tv2\"\n",
    "bam_path = unedit_bam_path\n",
    "\n",
    "print('experiment_name = ', experiment_name)\n",
    "\n",
    "save_padded_reads_name_np = f\"padded_reads_{experiment_name}_mCthresh{threshold_mC}_{reg_genome_version}_{region_str}_{date_today}.npy\"\n",
    "output_dir = create_output_directory(\"./dimelo_v2_output\")\n",
    "\n",
    "extract_file, extract_regions = extract_from_bam(\n",
    "    experiment_name = experiment_name,\n",
    "    bam_path=bam_path,\n",
    "    ref_genome_file=ref_genome_path,\n",
    "    output_dir=output_dir,\n",
    "    regions=region_str,\n",
    "    motifs=motifs,\n",
    "    output_name='extracted_reads',\n",
    "    threshold_mC=threshold_mC,\n",
    ")\n",
    "keep_full_coverage_reads_only=True\n",
    "\n",
    "if extract_file:\n",
    "    reads_df, regions_dict = process_extracted_reads(extract_file, region_str, motifs, ref_seq_list, \n",
    "    keep_full_coverage_reads_only=keep_full_coverage_reads_only)\n",
    "    visualize_data(reads_df)\n",
    "\n",
    "    padded_reads = create_padded_reads(reads_df, regions_dict, region_length)\n",
    "    if padded_reads is not None:\n",
    "        plot_padded_reads(padded_reads, ref_seq_list)\n",
    "        save_padded_reads(padded_reads, output_dir, save_padded_reads_name_np)\n",
    "\n",
    "# Processing and visualizing CpG units on forward and reverse strands \n",
    "try: \n",
    "\n",
    "    # Process pipeline\n",
    "    CGs_all, C_fwd_df, G_revs_df, padded_reads_df, CG_pair_idx, CG_coordinates, CG_info_df = analize_forward_reverse_CGs_pipeline(\n",
    "        experiment_name=experiment_name, save_folder_path=output_dir, \n",
    "        save_padded_reads_name_np=save_padded_reads_name_np, \n",
    "        ref_genome_file=ref_genome_path, region_chr=region_chr, region_start=region_start, region_end=region_end\n",
    "    )\n",
    "\n",
    "    print(\"Pipeline executed successfully (analize_forward_reverse_CGs_pipeline function)\")\n",
    "    # return CGs_all, C_fwd_df, G_revs_df, padded_reads_df\n",
    "\n",
    "except Exception as e:\n",
    "    print(f\"Error in main pipeline (analize_forward_reverse_CGs_pipeline function): {e}\")\n"
   ]
  },
  {
   "cell_type": "code",
   "execution_count": null,
   "metadata": {},
   "outputs": [],
   "source": [
    "threshold_percent = 80\n",
    "filtered_reads_df, methylation_counts, remove_reads_df = remove_low_methylated_reads(reads_df, threshold_percent=threshold_percent)\n",
    "filtered_reads_df"
   ]
  },
  {
   "cell_type": "code",
   "execution_count": null,
   "metadata": {},
   "outputs": [],
   "source": [
    "remove_reads_df"
   ]
  },
  {
   "cell_type": "code",
   "execution_count": null,
   "metadata": {},
   "outputs": [],
   "source": [
    "bam_path"
   ]
  },
  {
   "cell_type": "code",
   "execution_count": null,
   "metadata": {},
   "outputs": [],
   "source": [
    "output_dir_path = \"/home/michalula/code/epiCausality/epiCode/utils/development_notebooks/\"\n",
    "removed_reads_bam_name = \"reads_with_mC_less_than_mean_x_\" +  str(threshold_percent) + \"_\" + experiment_name +\".bam\"\n",
    "removed_output_bam_path=Path(output_dir_path, removed_reads_bam_name)\n",
    "removed_output_bam_path"
   ]
  },
  {
   "cell_type": "code",
   "execution_count": null,
   "metadata": {},
   "outputs": [],
   "source": [
    "subset_BAM_by_read_IDs(original_bam_path, remove_reads_df, output_bam_path=removed_reads_bam_name, index_output=True)\n"
   ]
  },
  {
   "cell_type": "markdown",
   "metadata": {},
   "source": [
    "# Save filtered reads to BAM"
   ]
  },
  {
   "cell_type": "code",
   "execution_count": null,
   "metadata": {},
   "outputs": [],
   "source": [
    "output_dir_path = \"/home/michalula/code/epiCausality/epiCode/utils/development_notebooks/outputs\"\n",
    "removed_reads_bam_name = \"filtered_reads_with_mC_MORE_than_mean_x_\" +  str(threshold_percent) + \"_\" + experiment_name +\".bam\"\n",
    "filtered_output_bam_path=Path(output_dir_path, removed_reads_bam_name)\n",
    "filtered_output_bam_path"
   ]
  },
  {
   "cell_type": "code",
   "execution_count": null,
   "metadata": {},
   "outputs": [],
   "source": [
    "subset_BAM_by_read_IDs(original_bam_path, filtered_reads_df, output_bam_path=filtered_output_bam_path, index_output=True)\n"
   ]
  },
  {
   "cell_type": "code",
   "execution_count": null,
   "metadata": {},
   "outputs": [],
   "source": [
    "sam_path = bam_to_sam(filtered_output_bam_path, sam_path=None)\n",
    "sam_path\n",
    "removed_reads_bam_path= '/home/michalula/code/epiCausality/epiCode/utils/development_notebooks/reads_with_mC_less_than_mean_x_50_day6_unedited_Tcells_Thr0.7_NoFullyUnmethylated_T2Tv2.bam'\n",
    "removed_reads_bam_path"
   ]
  },
  {
   "cell_type": "code",
   "execution_count": null,
   "metadata": {},
   "outputs": [],
   "source": [
    "\n",
    "plot_bam_quality_metrics(removed_output_bam_path)"
   ]
  },
  {
   "cell_type": "code",
   "execution_count": null,
   "metadata": {},
   "outputs": [],
   "source": [
    "# sam_path = bam_to_sam(removed_output_bam_path, sam_path=None)\n",
    "# sam_path\n",
    "removed_reads_bam_path = '/home/michalula/code/epiCausality/epiCode/utils/development_notebooks/reads_with_mC_less_than_mean_x_50_day6_unedited_Tcells_Thr0.7_NoFullyUnmethylated_T2Tv2.bam'\n",
    "removed_reads_bam_path\n",
    "plot_bam_quality_metrics(removed_reads_bam_path)"
   ]
  },
  {
   "cell_type": "code",
   "execution_count": null,
   "metadata": {},
   "outputs": [],
   "source": [
    "plot_bam_quality_metrics(filtered_output_bam_path)"
   ]
  },
  {
   "cell_type": "code",
   "execution_count": null,
   "metadata": {},
   "outputs": [],
   "source": [
    "plot_bam_quality_metrics(original_bam_path)"
   ]
  },
  {
   "cell_type": "markdown",
   "metadata": {},
   "source": [
    "# Load BAM files"
   ]
  },
  {
   "cell_type": "code",
   "execution_count": null,
   "metadata": {},
   "outputs": [],
   "source": [
    "removed_reads_bam_path= '/home/michalula/code/epiCausality/epiCode/utils/development_notebooks/reads_with_mC_less_than_mean_x_50_day6_unedited_Tcells_Thr0.7_NoFullyUnmethylated_T2Tv2.bam'\n",
    "removed_reads_bam_path"
   ]
  },
  {
   "cell_type": "code",
   "execution_count": null,
   "metadata": {},
   "outputs": [],
   "source": [
    "plot_bam_quality_metrics(removed_reads_bam_path)"
   ]
  },
  {
   "cell_type": "code",
   "execution_count": null,
   "metadata": {},
   "outputs": [],
   "source": [
    "plot_bam_quality_metrics(unedit_bam_path)"
   ]
  },
  {
   "cell_type": "code",
   "execution_count": null,
   "metadata": {},
   "outputs": [],
   "source": []
  },
  {
   "cell_type": "code",
   "execution_count": null,
   "metadata": {},
   "outputs": [],
   "source": [
    "region_str"
   ]
  },
  {
   "cell_type": "code",
   "execution_count": null,
   "metadata": {},
   "outputs": [],
   "source": [
    "sys.path.append(\"/home/michalula/code/epiCausality/epiCode/utils/\") # str(Path(__file__).parent / 'utils'))\n",
    "import funcs_check_quality_bams\n",
    "\n",
    "bam = removed_output_bam_path # removed_reads_bam_path # \"/path/to/your.bam\"\n",
    "ref_genome_path = Path('/home/michalula/data/ref_genomes/t2t_v2_0/up_chm13v2.0.fasta') # ref = \"/path/to/reference.fa\"  # must have .fai index\n",
    "\n",
    "# region = \"chr1:206586100-206586220\"  # keep windows reasonably small\n",
    "\n",
    "# Build matrix (limit to, say, 3000 reads to keep memory sane)\n",
    "matrix, meta = funcs_check_quality_bams.build_alignment_heatmap(\n",
    "    bam_path=bam,\n",
    "    region=region_str, #region,\n",
    "    reference_fasta=ref_genome_path,\n",
    "    mode=\"quality_signed\",   # try 'binary' for a simple match/mismatch view\n",
    "    max_reads=3000,\n",
    "    primary_only=True,\n",
    "    min_mapq=0,\n",
    ")\n",
    "\n",
    "# Plot it\n",
    "funcs_check_quality_bams.plot_alignment_heatmap(matrix, meta)\n",
    "\n",
    "# (Optional) Save for later\n",
    "np.save(\"alignment_heatmap.npy\", matrix)"
   ]
  },
  {
   "cell_type": "code",
   "execution_count": null,
   "metadata": {},
   "outputs": [],
   "source": [
    "sys.path.append(\"/home/michalula/code/epiCausality/epiCode/utils/\") # str(Path(__file__).parent / 'utils'))\n",
    "import funcs_check_quality_bams\n",
    "\n",
    "bam = removed_reads_bam_path # \"/path/to/your.bam\"\n",
    "ref_genome_path = Path('/home/michalula/data/ref_genomes/t2t_v2_0/up_chm13v2.0.fasta') # ref = \"/path/to/reference.fa\"  # must have .fai index\n",
    "\n",
    "# region = \"chr1:206586100-206586220\"  # keep windows reasonably small\n",
    "\n",
    "# Build matrix (limit to, say, 3000 reads to keep memory sane)\n",
    "matrix, meta = funcs_check_quality_bams.build_alignment_heatmap(\n",
    "    bam_path=bam,\n",
    "    region=region_str, #region,\n",
    "    reference_fasta=ref_genome_path,\n",
    "    mode=\"quality_signed\",   # try 'binary' for a simple match/mismatch view\n",
    "    max_reads=3000,\n",
    "    primary_only=True,\n",
    "    min_mapq=0,\n",
    ")\n",
    "\n",
    "# Plot it\n",
    "funcs_check_quality_bams.plot_alignment_heatmap(matrix, meta)\n",
    "\n",
    "# (Optional) Save for later\n",
    "np.save(\"alignment_heatmap.npy\", matrix)\n"
   ]
  },
  {
   "cell_type": "code",
   "execution_count": null,
   "metadata": {},
   "outputs": [],
   "source": [
    "\n",
    "\n",
    "sys.path.append(\"/home/michalula/code/epiCausality/epiCode/utils/\") # str(Path(__file__).parent / 'utils'))\n",
    "import funcs_check_quality_bams\n",
    "\n",
    "bam = filtered_output_bam_path  #  removed_reads_bam_path # \"/path/to/your.bam\"\n",
    "ref_genome_path = Path('/home/michalula/data/ref_genomes/t2t_v2_0/up_chm13v2.0.fasta') # ref = \"/path/to/reference.fa\"  # must have .fai index\n",
    "\n",
    "# region = \"chr1:206586100-206586220\"  # keep windows reasonably small\n",
    "\n",
    "# Build matrix (limit to, say, 3000 reads to keep memory sane)\n",
    "matrix, meta = funcs_check_quality_bams.build_alignment_heatmap(\n",
    "    bam_path=bam,\n",
    "    region=region_str, #region,\n",
    "    reference_fasta=ref_genome_path,\n",
    "    mode=\"quality_signed\",   # try 'binary' for a simple match/mismatch view\n",
    "    max_reads=3000,\n",
    "    primary_only=True,\n",
    "    min_mapq=0,\n",
    ")\n",
    "\n",
    "# Plot it\n",
    "funcs_check_quality_bams.plot_alignment_heatmap(matrix, meta)\n",
    "\n",
    "# (Optional) Save for later\n",
    "np.save(\"alignment_heatmap.npy\", matrix)\n",
    "\n"
   ]
  },
  {
   "cell_type": "code",
   "execution_count": null,
   "metadata": {},
   "outputs": [],
   "source": [
    "sys.path.append(\"/home/michalula/code/epiCausality/epiCode/utils/\") # str(Path(__file__).parent / 'utils'))\n",
    "import funcs_check_quality_bams\n",
    "\n",
    "bam = unedit_bam_path # removed_reads_bam_path # \"/path/to/your.bam\"\n",
    "ref_genome_path = Path('/home/michalula/data/ref_genomes/t2t_v2_0/up_chm13v2.0.fasta') # ref = \"/path/to/reference.fa\"  # must have .fai index\n",
    "\n",
    "# region = \"chr1:206586100-206586220\"  # keep windows reasonably small\n",
    "\n",
    "# Build matrix (limit to, say, 3000 reads to keep memory sane)\n",
    "matrix, meta = funcs_check_quality_bams.build_alignment_heatmap(\n",
    "    bam_path=bam,\n",
    "    region=region_str, #region,\n",
    "    reference_fasta=ref_genome_path,\n",
    "    mode=\"quality_signed\",   # try 'binary' for a simple match/mismatch view\n",
    "    max_reads=3000,\n",
    "    primary_only=True,\n",
    "    min_mapq=0,\n",
    ")\n",
    "\n",
    "# Plot it\n",
    "funcs_check_quality_bams.plot_alignment_heatmap(matrix, meta)\n",
    "\n",
    "# (Optional) Save for later\n",
    "np.save(\"alignment_heatmap.npy\", matrix)\n"
   ]
  },
  {
   "cell_type": "code",
   "execution_count": null,
   "metadata": {},
   "outputs": [],
   "source": []
  },
  {
   "cell_type": "code",
   "execution_count": null,
   "metadata": {},
   "outputs": [],
   "source": []
  },
  {
   "cell_type": "code",
   "execution_count": null,
   "metadata": {},
   "outputs": [],
   "source": []
  },
  {
   "cell_type": "code",
   "execution_count": null,
   "metadata": {},
   "outputs": [],
   "source": []
  },
  {
   "cell_type": "code",
   "execution_count": null,
   "metadata": {},
   "outputs": [],
   "source": []
  },
  {
   "cell_type": "code",
   "execution_count": null,
   "metadata": {},
   "outputs": [],
   "source": []
  },
  {
   "cell_type": "code",
   "execution_count": null,
   "metadata": {},
   "outputs": [],
   "source": []
  }
 ],
 "metadata": {
  "kernelspec": {
   "display_name": "dimelo_v2_modkit_parsing",
   "language": "python",
   "name": "python3"
  },
  "language_info": {
   "codemirror_mode": {
    "name": "ipython",
    "version": 3
   },
   "file_extension": ".py",
   "mimetype": "text/x-python",
   "name": "python",
   "nbconvert_exporter": "python",
   "pygments_lexer": "ipython3",
   "version": "3.11.9"
  }
 },
 "nbformat": 4,
 "nbformat_minor": 2
}
