{
 "cells": [
  {
   "cell_type": "code",
   "execution_count": null,
   "id": "e540f265",
   "metadata": {},
   "outputs": [],
   "source": []
  },
  {
   "cell_type": "code",
   "execution_count": null,
   "metadata": {},
   "outputs": [],
   "source": []
  },
  {
   "cell_type": "code",
   "execution_count": null,
   "metadata": {},
   "outputs": [],
   "source": [
    "git clone https://github.com/huicongyao/DeepBAM.git\n",
    "cd DeepBAM/cpp\n",
    "mkdir build && cd build\n",
    "conda activate DeepBAM # Activate the previously created environment\n",
    "cmake -DCMAKE_PREFIX_PATH=`python -c 'import torch;print(torch.utils.cmake_prefix_path)'` .. # Determine the cmake path # if you haven`t set up the python environment, you should directy include libtorch path here.\n",
    "make -j"
   ]
  },
  {
   "cell_type": "code",
   "execution_count": null,
   "id": "205fecf4",
   "metadata": {},
   "outputs": [],
   "source": [
    "# mkdir /home/michalula/software/deepBAM\n",
    "cd /home/michalula/software/deepBAM\n",
    "\n",
    " git clone https://github.com/huicongyao/DeepBAM.git\n"
   ]
  },
  {
   "cell_type": "code",
   "execution_count": null,
   "id": "14bfd523",
   "metadata": {},
   "outputs": [],
   "source": []
  }
 ],
 "metadata": {
  "language_info": {
   "name": "python"
  }
 },
 "nbformat": 4,
 "nbformat_minor": 5
}
