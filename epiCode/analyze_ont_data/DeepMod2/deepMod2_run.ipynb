{
 "cells": [
  {
   "cell_type": "markdown",
   "id": "6d430245",
   "metadata": {},
   "source": [
    "# Following usage guide for model inference:\n",
    "\n",
    " Inference from \n",
    "https://github.com/WGLab/DeepMod2/tree/main\n",
    "\n",
    "1. Basecall your FAST5/POD5 files with Dorado (using --emit-moves) or Guppy (using --bam_out --moves_out) parameters to get a BAM file with move tables:\n",
    "\n",
    "dorado basecaller MODEL INPUT_DIR --emit-moves > basecall.bam\n",
    "Make sure to use the appropriate Guppy/Dorado model for your sequencing kit. You can supply a reference genome to Guppy/Dorado to get aligned BAM files, or use minimap2 to align these BAM files later.\n",
    "\n",
    "2. (Optional but recommended) Align basecalled reads to a reference genome while retaining the move tables:\n",
    "\n",
    "samtools fastq basecall.bam -T mv,ts | minimap2 -ax map-ont ref.fa - -y -t NUM_THREADS |samtools view -o aligned.bam\n",
    "Run DeepMod2 by providing BAM file and the folder containing FAST5 or POD5 signal files as inputs. You can provide reference FASTA file to get reference anchored methylation calls and per-site frequencies if the BAM file is aligned. Specify the model you want to use and the file type of raw signal files. Use multiple cores and/or GPUs for speedup.\n",
    "\n",
    "a) If using an aligned BAM file input:\n",
    "\n",
    "python PATH_TO_DEEPMOD2_REPOSITORY/deepmod2 detect --bam reads.bam --input INPUT_DIR --model MODEL --file_type FILE_TYPE --threads NUM_THREADS --ref ref.fa --output MOD_CALLS\n",
    "b) If using an unaligned BAM file input:\n",
    "\n",
    "python PATH_TO_DEEPMOD2_REPOSITORY/deepmod2 detect --bam reads.bam --input INPUT_DIR --model MODEL --file_type FILE_TYPE --threads NUM_THREADS --output MOD_CALLS\n",
    "This will give you a per-read prediction text file MOD_CALLS/output.per_read, a per-site prediction file MOD_CALLS/output.per_site, a per-site prediction file with both strands aggregated MOD_CALLS/output.per_site.aggregated, and a methylation annotated BAM file MOD_CALLS/output.bam.\n",
    "\n",
    "Visualize the annotated BAM file produced by DeepMod2 in IGV file. In IGV, select 'Color alignments by' and 'base modifications (5mC)'. The following steps will allow you to open the tagged BAM file in IGV:\n",
    "\n",
    "a) If an aligned BAM is given to DeepMod2, you only need to sort and index the DeepMod2 methylation tagged BAM file:\n",
    "\n",
    "samtools sort MOD_CALLS/output.bam -o MOD_CALLS/final.bam --write-index\n",
    "b) If an unaligned BAM is given to DeepMod2, first align the DeepMod2 methylation tagged BAM file (while preserving methylation tags MM and ML), then sort and index it:\n",
    "\n",
    "samtools fastq MOD_CALLS/output.bam -T MM,ML,mv,ts| minimap2 -ax map-ont ref.fa - -y -t NUM_THREADS |samtools sort -o MOD_CALLS/final.bam --write-index\n",
    "\n",
    "\n",
    "<!-- Please refer to Usage.md for details on how to use DeepMod2. -->"
   ]
  },
  {
   "cell_type": "markdown",
   "id": "ef7f47eb",
   "metadata": {},
   "source": [
    "# Step - by - step"
   ]
  },
  {
   "cell_type": "markdown",
   "id": "4bebb70e",
   "metadata": {},
   "source": [
    "1. Basecall your FAST5/POD5 files with Dorado (using --emit-moves) or Guppy (using --bam_out --moves_out) parameters to get a BAM file with move tables:\n",
    "\n",
    "\n",
    "**Make sure to use the appropriate Guppy/Dorado model for your sequencing kit. You can supply a reference genome to Guppy/Dorado to get aligned BAM files, or use minimap2 to align these BAM files later.**\n",
    "\n",
    "\n",
    "dorado basecaller MODEL INPUT_DIR --emit-moves > basecall.bam"
   ]
  },
  {
   "cell_type": "code",
   "execution_count": null,
   "id": "c0c01e86",
   "metadata": {},
   "outputs": [],
   "source": [
    "\n",
    "\n",
    "dorado basecaller MODEL INPUT_DIR --emit-moves > basecall.bam \n",
    " \n",
    "("
   ]
  },
  {
   "cell_type": "code",
   "execution_count": null,
   "id": "74d6ba93",
   "metadata": {},
   "outputs": [],
   "source": []
  },
  {
   "cell_type": "code",
   "execution_count": null,
   "id": "fdb9ca1e",
   "metadata": {},
   "outputs": [],
   "source": []
  }
 ],
 "metadata": {
  "language_info": {
   "name": "python"
  }
 },
 "nbformat": 4,
 "nbformat_minor": 5
}
