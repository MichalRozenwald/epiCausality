{
 "cells": [
  {
   "cell_type": "markdown",
   "id": "6d430245",
   "metadata": {},
   "source": [
    "# Following usage guide for model inference:\n",
    "\n",
    "\n",
    "# DATE: Sept. 24, 2025\n",
    "\n",
    " Inference from \n",
    "https://github.com/WGLab/DeepMod2/tree/main\n",
    "\n",
    "1. Basecall your FAST5/POD5 files with Dorado (using --emit-moves) or Guppy (using --bam_out --moves_out) parameters to get a BAM file with move tables:\n",
    "\n",
    "dorado basecaller MODEL INPUT_DIR --emit-moves > basecall.bam\n",
    "Make sure to use the appropriate Guppy/Dorado model for your sequencing kit. You can supply a reference genome to Guppy/Dorado to get aligned BAM files, or use minimap2 to align these BAM files later.\n",
    "\n",
    "2. (Optional but recommended) Align basecalled reads to a reference genome while retaining the move tables:\n",
    "\n",
    "samtools fastq basecall.bam -T mv,ts | minimap2 -ax map-ont ref.fa - -y -t NUM_THREADS |samtools view -o aligned.bam\n",
    "\n",
    "Run DeepMod2 by providing BAM file and the folder containing FAST5 or POD5 signal files as inputs. You can provide reference FASTA file to get reference anchored methylation calls and per-site frequencies if the BAM file is aligned. Specify the model you want to use and the file type of raw signal files. Use multiple cores and/or GPUs for speedup.\n",
    "\n",
    "a) If using an aligned BAM file input:\n",
    "\n",
    "python PATH_TO_DEEPMOD2_REPOSITORY/deepmod2 detect --bam reads.bam --input INPUT_DIR --model MODEL --file_type FILE_TYPE --threads NUM_THREADS --ref ref.fa --output MOD_CALLS\n",
    "\n",
    "b) If using an unaligned BAM file input:\n",
    "\n",
    "python PATH_TO_DEEPMOD2_REPOSITORY/deepmod2 detect --bam reads.bam --input INPUT_DIR --model MODEL --file_type FILE_TYPE --threads NUM_THREADS --output MOD_CALLS\n",
    "This will give you a per-read prediction text file MOD_CALLS/output.per_read, a per-site prediction file MOD_CALLS/output.per_site, a per-site prediction file with both strands aggregated MOD_CALLS/output.per_site.aggregated, and a methylation annotated BAM file MOD_CALLS/output.bam.\n",
    "\n",
    "Visualize the annotated BAM file produced by DeepMod2 in IGV file. In IGV, select 'Color alignments by' and 'base modifications (5mC)'. The following steps will allow you to open the tagged BAM file in IGV:\n",
    "\n",
    "a) If an aligned BAM is given to DeepMod2, you only need to sort and index the DeepMod2 methylation tagged BAM file:\n",
    "\n",
    "samtools sort MOD_CALLS/output.bam -o MOD_CALLS/final.bam --write-index\n",
    "b) If an unaligned BAM is given to DeepMod2, first align the DeepMod2 methylation tagged BAM file (while preserving methylation tags MM and ML), then sort and index it:\n",
    "\n",
    "samtools fastq MOD_CALLS/output.bam -T MM,ML,mv,ts| minimap2 -ax map-ont ref.fa - -y -t NUM_THREADS |samtools sort -o MOD_CALLS/final.bam --write-index\n",
    "\n",
    "\n",
    "<!-- Please refer to Usage.md for details on how to use DeepMod2. -->"
   ]
  },
  {
   "cell_type": "markdown",
   "id": "ef7f47eb",
   "metadata": {},
   "source": [
    "# Step - by - step"
   ]
  },
  {
   "cell_type": "markdown",
   "id": "4bebb70e",
   "metadata": {},
   "source": [
    "1. Basecall your FAST5/POD5 files with Dorado (using --emit-moves) or Guppy (using --bam_out --moves_out) parameters to get a BAM file with move tables:\n",
    "\n",
    "\n",
    "**Make sure to use the appropriate Guppy/Dorado model for your sequencing kit. You can supply a reference genome to Guppy/Dorado to get aligned BAM files, or use minimap2 to align these BAM files later.**\n",
    "\n",
    "\n",
    "dorado basecaller MODEL INPUT_DIR --emit-moves > basecall.bam"
   ]
  },
  {
   "cell_type": "code",
   "execution_count": null,
   "id": "c0c01e86",
   "metadata": {},
   "outputs": [
    {
     "name": "stderr",
     "output_type": "stream",
     "text": [
      "[2025-09-24 07:59:15.305] [info] Running: \"basecaller\" \"/home/michalula/software/dna_r9.4.1_e8_sup@v3.3\" \"/mnt/faststorage/michalula/T_cells/20250908_Day_35_T_CRoff_nCATs/20250908_1810_MN31715_FBD90703_2c0c1ee5/pod5\" \"--modified-bases\" \"5mCG\" \"--emit-moves\"\n",
      "[2025-09-24 07:59:15.315] [info]  - downloading dna_r9.4.1_e8_sup@v3.3_5mCG@v0.1 with httplib\n",
      "[2025-09-24 07:59:16.641] [info] > Creating basecall pipeline\n",
      "[2025-09-24 07:59:17.398] [info] Calculating optimized batch size for GPU \"NVIDIA GeForce RTX 4090\" and model dna_r9.4.1_e8_sup@v3.3. Full benchmarking will run for this device, which may take some time.\n",
      "[2025-09-24 07:59:20.781] [info] cuda:0 using chunk size 10000, batch size 768\n",
      "[2025-09-24 07:59:21.256] [info] cuda:0 using chunk size 5000, batch size 1344\n"
     ]
    }
   ],
   "source": [
    "%%bash\n",
    "# dorado basecaller MODEL INPUT_DIR --emit-moves > basecall.bam \n",
    "\n",
    "mkdir ./5mCG\n",
    "dorado basecaller \\\n",
    "/home/michalula/software/dna_r9.4.1_e8_sup@v3.3\t  \\\n",
    "/mnt/faststorage/michalula/T_cells/20250908_Day_35_T_CRoff_nCATs/20250908_1810_MN31715_FBD90703_2c0c1ee5/pod5 \\\n",
    "--modified-bases 5mCG \\\n",
    " --emit-moves \\\n",
    "> ./5mCG/20250908_Day35_CROFF_Tcells_2Libraries_Minion_R9.dna_r9.4.1_e8_sup@v3.3.5mCG.bam   "
   ]
  },
  {
   "cell_type": "markdown",
   "id": "97283a16",
   "metadata": {},
   "source": [
    "2. (Optional but recommended) Align basecalled reads to a reference genome while retaining the move tables:\n",
    "\n"
   ]
  },
  {
   "cell_type": "code",
   "execution_count": null,
   "id": "74d6ba93",
   "metadata": {},
   "outputs": [],
   "source": [
    "%%bash\n",
    "conda activate deepmod2\n",
    "\n",
    "# samtools fastq basecall.bam -T mv,ts | minimap2 -ax map-ont ref.fa - -y -t NUM_THREADS |samtools view -o aligned.bam\n",
    "\n",
    "ref_fa = \"/home/michalula/data/ref_genomes/t2t_v2_0/chm13v2.0.fa\"\n",
    "\n",
    "\n",
    "samtools fastq ./5mCG/20250908_Day35_CROFF_Tcells_2Libraries_Minion_R9.dna_r9.4.1_e8_sup@v3.3.5mCG.bam  -T mv,ts | minimap2 -ax map-ont $ref_fa - -y -t 10 |samtools view -o aligned.bam\n",
    "\n"
   ]
  },
  {
   "cell_type": "markdown",
   "id": "97a222e7",
   "metadata": {},
   "source": [
    "3. Run DeepMod2 by providing BAM file and the folder containing FAST5 or POD5 signal files as inputs. You can provide reference FASTA file to get reference anchored methylation calls and per-site frequencies if the BAM file is aligned. Specify the model you want to use and the file type of raw signal files. Use multiple cores and/or GPUs for speedup.\n",
    "\n",
    "a) If using an aligned BAM file input:\n",
    "\n",
    "python PATH_TO_DEEPMOD2_REPOSITORY/deepmod2 detect --bam reads.bam --input INPUT_DIR --model MODEL --file_type FILE_TYPE --threads NUM_THREADS --ref ref.fa --output MOD_CALLS\n",
    "b) If using an unaligned BAM file input:\n",
    "\n",
    "python PATH_TO_DEEPMOD2_REPOSITORY/deepmod2 detect --bam reads.bam --input INPUT_DIR --model MODEL --file_type FILE_TYPE --threads NUM_THREADS --output MOD_CALLS\n",
    "This will give you a per-read prediction text file MOD_CALLS/output.per_read, a per-site prediction file MOD_CALLS/output.per_site, a per-site prediction file with both strands aggregated MOD_CALLS/output.per_site.aggregated, and a methylation annotated BAM file MOD_CALLS/output.bam.\n",
    "\n"
   ]
  },
  {
   "cell_type": "code",
   "execution_count": null,
   "id": "fdb9ca1e",
   "metadata": {},
   "outputs": [],
   "source": [
    "%%bash\n",
    "\n",
    "conda activate deepmod2\n",
    "\n",
    "PATH_TO_DEEPMOD2_REPOSITORY=/home/michalula/code/epiCausality/epiCode/analyze_ont_data/DeepMod2/deepmod2\n",
    "# INPUT_DIR=/home/michalula/code/epiCausality/epiCode/analyze_ont_data/DeepMod2/5mCG\n",
    "# INPUT_DIR=/home/michalula/code/epiCausality/epiCode/analyze_ont_data/DeepMod2\n",
    "INPUT_DIR=/mnt/faststorage/michalula/T_cells/20250908_Day_35_T_CRoff_nCATs/20250908_1810_MN31715_FBD90703_2c0c1ee5/pod5\n",
    "FILE_TYPE=pod5\n",
    "MODEL=dna_r9.4.1_e8_sup@v3.3_5mCG\n",
    "NUM_THREADS=10\n",
    "MOD_CALLS=./5mCG/deepmod2_results\n",
    "\n",
    "python PATH_TO_DEEPMOD2_REPOSITORY/deepmod2 detect --bam reads.bam --input INPUT_DIR --model MODEL --file_type FILE_TYPE --threads NUM_THREADS --ref ref.fa --output MOD_CALLS\n"
   ]
  },
  {
   "cell_type": "markdown",
   "id": "35f9ed43",
   "metadata": {},
   "source": [
    "4. Visualize the annotated BAM file produced by DeepMod2 in IGV file. In IGV, select 'Color alignments by' and 'base modifications (5mC)'. The following steps will allow you to open the tagged BAM file in IGV:\n",
    "\n",
    "a) If an aligned BAM is given to DeepMod2, you only need to sort and index the DeepMod2 methylation tagged BAM file:\n",
    "\n",
    "samtools sort MOD_CALLS/output.bam -o MOD_CALLS/final.bam --write-index\n",
    "\n",
    "b) If an unaligned BAM is given to DeepMod2, first align the DeepMod2 methylation tagged BAM file (while preserving methylation tags MM and ML), then sort and index it:\n",
    "\n",
    "samtools fastq MOD_CALLS/output.bam -T MM,ML,mv,ts| minimap2 -ax map-ont ref.fa - -y -t NUM_THREADS |samtools sort -o MOD_CALLS/final.bam --write-index\n"
   ]
  },
  {
   "cell_type": "code",
   "execution_count": null,
   "id": "52c092d9",
   "metadata": {},
   "outputs": [],
   "source": [
    "%%bash\n",
    "\n",
    "conda activate deepmod2\n",
    "\n",
    "MOD_CALLS=./5mCG/deepmod2_results\n",
    "\n",
    "samtools sort MOD_CALLS/output.bam -o MOD_CALLS/final.bam --write-index\n"
   ]
  },
  {
   "cell_type": "code",
   "execution_count": null,
   "id": "df9c6a59",
   "metadata": {},
   "outputs": [],
   "source": []
  }
 ],
 "metadata": {
  "kernelspec": {
   "display_name": "dimelo_v2_modkit_parsing",
   "language": "python",
   "name": "python3"
  },
  "language_info": {
   "codemirror_mode": {
    "name": "ipython",
    "version": 3
   },
   "file_extension": ".py",
   "mimetype": "text/x-python",
   "name": "python",
   "nbconvert_exporter": "python",
   "pygments_lexer": "ipython3",
   "version": "3.11.9"
  }
 },
 "nbformat": 4,
 "nbformat_minor": 5
}
