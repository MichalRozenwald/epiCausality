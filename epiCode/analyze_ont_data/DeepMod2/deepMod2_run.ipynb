{
 "cells": [
  {
   "cell_type": "markdown",
   "id": "6d430245",
   "metadata": {},
   "source": [
    "# Following usage guide for model inference:\n",
    "\n",
    "\n",
    "# DATE: Sept. 24, 2025\n",
    "\n",
    " Inference from \n",
    "https://github.com/WGLab/DeepMod2/tree/main\n",
    "\n",
    "1. Basecall your FAST5/POD5 files with Dorado (using --emit-moves) or Guppy (using --bam_out --moves_out) parameters to get a BAM file with move tables:\n",
    "\n",
    "dorado basecaller MODEL INPUT_DIR --emit-moves > basecall.bam\n",
    "Make sure to use the appropriate Guppy/Dorado model for your sequencing kit. You can supply a reference genome to Guppy/Dorado to get aligned BAM files, or use minimap2 to align these BAM files later.\n",
    "\n",
    "2. (Optional but recommended) Align basecalled reads to a reference genome while retaining the move tables:\n",
    "\n",
    "samtools fastq basecall.bam -T mv,ts | minimap2 -ax map-ont ref.fa - -y -t NUM_THREADS |samtools view -o aligned.bam\n",
    "\n",
    "Run DeepMod2 by providing BAM file and the folder containing FAST5 or POD5 signal files as inputs. You can provide reference FASTA file to get reference anchored methylation calls and per-site frequencies if the BAM file is aligned. Specify the model you want to use and the file type of raw signal files. Use multiple cores and/or GPUs for speedup.\n",
    "\n",
    "a) If using an aligned BAM file input:\n",
    "\n",
    "python PATH_TO_DEEPMOD2_REPOSITORY/deepmod2 detect --bam reads.bam --input INPUT_DIR --model MODEL --file_type FILE_TYPE --threads NUM_THREADS --ref ref.fa --output MOD_CALLS\n",
    "\n",
    "b) If using an unaligned BAM file input:\n",
    "\n",
    "python PATH_TO_DEEPMOD2_REPOSITORY/deepmod2 detect --bam reads.bam --input INPUT_DIR --model MODEL --file_type FILE_TYPE --threads NUM_THREADS --output MOD_CALLS\n",
    "This will give you a per-read prediction text file MOD_CALLS/output.per_read, a per-site prediction file MOD_CALLS/output.per_site, a per-site prediction file with both strands aggregated MOD_CALLS/output.per_site.aggregated, and a methylation annotated BAM file MOD_CALLS/output.bam.\n",
    "\n",
    "Visualize the annotated BAM file produced by DeepMod2 in IGV file. In IGV, select 'Color alignments by' and 'base modifications (5mC)'. The following steps will allow you to open the tagged BAM file in IGV:\n",
    "\n",
    "a) If an aligned BAM is given to DeepMod2, you only need to sort and index the DeepMod2 methylation tagged BAM file:\n",
    "\n",
    "samtools sort MOD_CALLS/output.bam -o MOD_CALLS/final.bam --write-index\n",
    "b) If an unaligned BAM is given to DeepMod2, first align the DeepMod2 methylation tagged BAM file (while preserving methylation tags MM and ML), then sort and index it:\n",
    "\n",
    "samtools fastq MOD_CALLS/output.bam -T MM,ML,mv,ts| minimap2 -ax map-ont ref.fa - -y -t NUM_THREADS |samtools sort -o MOD_CALLS/final.bam --write-index\n",
    "\n",
    "\n",
    "<!-- Please refer to Usage.md for details on how to use DeepMod2. -->"
   ]
  },
  {
   "cell_type": "markdown",
   "id": "ef7f47eb",
   "metadata": {},
   "source": [
    "# Step - by - step"
   ]
  },
  {
   "cell_type": "markdown",
   "id": "4bebb70e",
   "metadata": {},
   "source": [
    "1. Basecall your FAST5/POD5 files with Dorado (using --emit-moves) or Guppy (using --bam_out --moves_out) parameters to get a BAM file with move tables:\n",
    "\n",
    "\n",
    "**Make sure to use the appropriate Guppy/Dorado model for your sequencing kit. You can supply a reference genome to Guppy/Dorado to get aligned BAM files, or use minimap2 to align these BAM files later.**\n",
    "\n",
    "\n",
    "dorado basecaller MODEL INPUT_DIR --emit-moves > basecall.bam"
   ]
  },
  {
   "cell_type": "code",
   "execution_count": 1,
   "id": "c0c01e86",
   "metadata": {},
   "outputs": [
    {
     "name": "stderr",
     "output_type": "stream",
     "text": [
      "[2025-09-24 07:59:15.305] [info] Running: \"basecaller\" \"/home/michalula/software/dna_r9.4.1_e8_sup@v3.3\" \"/mnt/faststorage/michalula/T_cells/20250908_Day_35_T_CRoff_nCATs/20250908_1810_MN31715_FBD90703_2c0c1ee5/pod5\" \"--modified-bases\" \"5mCG\" \"--emit-moves\"\n",
      "[2025-09-24 07:59:15.315] [info]  - downloading dna_r9.4.1_e8_sup@v3.3_5mCG@v0.1 with httplib\n",
      "[2025-09-24 07:59:16.641] [info] > Creating basecall pipeline\n",
      "[2025-09-24 07:59:17.398] [info] Calculating optimized batch size for GPU \"NVIDIA GeForce RTX 4090\" and model dna_r9.4.1_e8_sup@v3.3. Full benchmarking will run for this device, which may take some time.\n",
      "[2025-09-24 07:59:20.781] [info] cuda:0 using chunk size 10000, batch size 768\n",
      "[2025-09-24 07:59:21.256] [info] cuda:0 using chunk size 5000, batch size 1344\n",
      "[2025-09-24 08:17:25.233] [info] > Finished in (ms): 1083235\n",
      "[2025-09-24 08:17:25.233] [info] > Simplex reads basecalled: 124898\n",
      "[2025-09-24 08:17:25.233] [info] > Basecalled @ Samples/s: 1.509058e+07\n",
      "[2025-09-24 08:17:25.248] [info] > Finished\n"
     ]
    }
   ],
   "source": [
    "%%bash\n",
    "# dorado basecaller MODEL INPUT_DIR --emit-moves > basecall.bam \n",
    "\n",
    "mkdir ./5mCG\n",
    "dorado basecaller \\\n",
    "/home/michalula/software/dna_r9.4.1_e8_sup@v3.3\t  \\\n",
    "/mnt/faststorage/michalula/T_cells/20250908_Day_35_T_CRoff_nCATs/20250908_1810_MN31715_FBD90703_2c0c1ee5/pod5 \\\n",
    "--modified-bases 5mCG \\\n",
    " --emit-moves \\\n",
    "> ./5mCG/20250908_Day35_CROFF_Tcells_2Libraries_Minion_R9.dna_r9.4.1_e8_sup@v3.3.5mCG.bam   "
   ]
  },
  {
   "cell_type": "markdown",
   "id": "97283a16",
   "metadata": {},
   "source": [
    "2. (Optional but recommended) Align basecalled reads to a reference genome while retaining the move tables:\n",
    "\n"
   ]
  },
  {
   "cell_type": "code",
   "execution_count": 2,
   "id": "74d6ba93",
   "metadata": {},
   "outputs": [
    {
     "name": "stderr",
     "output_type": "stream",
     "text": [
      "\n",
      "CondaError: Run 'conda init' before 'conda activate'\n",
      "\n",
      "bash: line 5: ref_fa: command not found\n",
      "bash: line 8: minimap2: command not found\n",
      "[main_samview] fail to read the header from \"-\".\n"
     ]
    },
    {
     "ename": "CalledProcessError",
     "evalue": "Command 'b'conda activate deepmod2\\n\\n# samtools fastq basecall.bam -T mv,ts | minimap2 -ax map-ont ref.fa - -y -t NUM_THREADS |samtools view -o aligned.bam\\n\\nref_fa = \"/home/michalula/data/ref_genomes/t2t_v2_0/chm13v2.0.fa\"\\n\\n\\nsamtools fastq ./5mCG/20250908_Day35_CROFF_Tcells_2Libraries_Minion_R9.dna_r9.4.1_e8_sup@v3.3.5mCG.bam  -T mv,ts | minimap2 -ax map-ont $ref_fa - -y -t 10 |samtools view -o aligned.bam\\n\\n'' returned non-zero exit status 1.",
     "output_type": "error",
     "traceback": [
      "\u001b[0;31m---------------------------------------------------------------------------\u001b[0m",
      "\u001b[0;31mCalledProcessError\u001b[0m                        Traceback (most recent call last)",
      "Cell \u001b[0;32mIn[2], line 1\u001b[0m\n\u001b[0;32m----> 1\u001b[0m \u001b[43mget_ipython\u001b[49m\u001b[43m(\u001b[49m\u001b[43m)\u001b[49m\u001b[38;5;241;43m.\u001b[39;49m\u001b[43mrun_cell_magic\u001b[49m\u001b[43m(\u001b[49m\u001b[38;5;124;43m'\u001b[39;49m\u001b[38;5;124;43mbash\u001b[39;49m\u001b[38;5;124;43m'\u001b[39;49m\u001b[43m,\u001b[49m\u001b[43m \u001b[49m\u001b[38;5;124;43m'\u001b[39;49m\u001b[38;5;124;43m'\u001b[39;49m\u001b[43m,\u001b[49m\u001b[43m \u001b[49m\u001b[38;5;124;43m'\u001b[39;49m\u001b[38;5;124;43mconda activate deepmod2\u001b[39;49m\u001b[38;5;130;43;01m\\n\u001b[39;49;00m\u001b[38;5;130;43;01m\\n\u001b[39;49;00m\u001b[38;5;124;43m# samtools fastq basecall.bam -T mv,ts | minimap2 -ax map-ont ref.fa - -y -t NUM_THREADS |samtools view -o aligned.bam\u001b[39;49m\u001b[38;5;130;43;01m\\n\u001b[39;49;00m\u001b[38;5;130;43;01m\\n\u001b[39;49;00m\u001b[38;5;124;43mref_fa = \u001b[39;49m\u001b[38;5;124;43m\"\u001b[39;49m\u001b[38;5;124;43m/home/michalula/data/ref_genomes/t2t_v2_0/chm13v2.0.fa\u001b[39;49m\u001b[38;5;124;43m\"\u001b[39;49m\u001b[38;5;130;43;01m\\n\u001b[39;49;00m\u001b[38;5;130;43;01m\\n\u001b[39;49;00m\u001b[38;5;130;43;01m\\n\u001b[39;49;00m\u001b[38;5;124;43msamtools fastq ./5mCG/20250908_Day35_CROFF_Tcells_2Libraries_Minion_R9.dna_r9.4.1_e8_sup@v3.3.5mCG.bam  -T mv,ts | minimap2 -ax map-ont $ref_fa - -y -t 10 |samtools view -o aligned.bam\u001b[39;49m\u001b[38;5;130;43;01m\\n\u001b[39;49;00m\u001b[38;5;130;43;01m\\n\u001b[39;49;00m\u001b[38;5;124;43m'\u001b[39;49m\u001b[43m)\u001b[49m\n",
      "File \u001b[0;32m~/miniconda3/envs/dimelo_v2_modkit_parsing/lib/python3.11/site-packages/IPython/core/interactiveshell.py:2541\u001b[0m, in \u001b[0;36mInteractiveShell.run_cell_magic\u001b[0;34m(self, magic_name, line, cell)\u001b[0m\n\u001b[1;32m   2539\u001b[0m \u001b[38;5;28;01mwith\u001b[39;00m \u001b[38;5;28mself\u001b[39m\u001b[38;5;241m.\u001b[39mbuiltin_trap:\n\u001b[1;32m   2540\u001b[0m     args \u001b[38;5;241m=\u001b[39m (magic_arg_s, cell)\n\u001b[0;32m-> 2541\u001b[0m     result \u001b[38;5;241m=\u001b[39m \u001b[43mfn\u001b[49m\u001b[43m(\u001b[49m\u001b[38;5;241;43m*\u001b[39;49m\u001b[43margs\u001b[49m\u001b[43m,\u001b[49m\u001b[43m \u001b[49m\u001b[38;5;241;43m*\u001b[39;49m\u001b[38;5;241;43m*\u001b[39;49m\u001b[43mkwargs\u001b[49m\u001b[43m)\u001b[49m\n\u001b[1;32m   2543\u001b[0m \u001b[38;5;66;03m# The code below prevents the output from being displayed\u001b[39;00m\n\u001b[1;32m   2544\u001b[0m \u001b[38;5;66;03m# when using magics with decorator @output_can_be_silenced\u001b[39;00m\n\u001b[1;32m   2545\u001b[0m \u001b[38;5;66;03m# when the last Python token in the expression is a ';'.\u001b[39;00m\n\u001b[1;32m   2546\u001b[0m \u001b[38;5;28;01mif\u001b[39;00m \u001b[38;5;28mgetattr\u001b[39m(fn, magic\u001b[38;5;241m.\u001b[39mMAGIC_OUTPUT_CAN_BE_SILENCED, \u001b[38;5;28;01mFalse\u001b[39;00m):\n",
      "File \u001b[0;32m~/miniconda3/envs/dimelo_v2_modkit_parsing/lib/python3.11/site-packages/IPython/core/magics/script.py:155\u001b[0m, in \u001b[0;36mScriptMagics._make_script_magic.<locals>.named_script_magic\u001b[0;34m(line, cell)\u001b[0m\n\u001b[1;32m    153\u001b[0m \u001b[38;5;28;01melse\u001b[39;00m:\n\u001b[1;32m    154\u001b[0m     line \u001b[38;5;241m=\u001b[39m script\n\u001b[0;32m--> 155\u001b[0m \u001b[38;5;28;01mreturn\u001b[39;00m \u001b[38;5;28;43mself\u001b[39;49m\u001b[38;5;241;43m.\u001b[39;49m\u001b[43mshebang\u001b[49m\u001b[43m(\u001b[49m\u001b[43mline\u001b[49m\u001b[43m,\u001b[49m\u001b[43m \u001b[49m\u001b[43mcell\u001b[49m\u001b[43m)\u001b[49m\n",
      "File \u001b[0;32m~/miniconda3/envs/dimelo_v2_modkit_parsing/lib/python3.11/site-packages/IPython/core/magics/script.py:315\u001b[0m, in \u001b[0;36mScriptMagics.shebang\u001b[0;34m(self, line, cell)\u001b[0m\n\u001b[1;32m    310\u001b[0m \u001b[38;5;28;01mif\u001b[39;00m args\u001b[38;5;241m.\u001b[39mraise_error \u001b[38;5;129;01mand\u001b[39;00m p\u001b[38;5;241m.\u001b[39mreturncode \u001b[38;5;241m!=\u001b[39m \u001b[38;5;241m0\u001b[39m:\n\u001b[1;32m    311\u001b[0m     \u001b[38;5;66;03m# If we get here and p.returncode is still None, we must have\u001b[39;00m\n\u001b[1;32m    312\u001b[0m     \u001b[38;5;66;03m# killed it but not yet seen its return code. We don't wait for it,\u001b[39;00m\n\u001b[1;32m    313\u001b[0m     \u001b[38;5;66;03m# in case it's stuck in uninterruptible sleep. -9 = SIGKILL\u001b[39;00m\n\u001b[1;32m    314\u001b[0m     rc \u001b[38;5;241m=\u001b[39m p\u001b[38;5;241m.\u001b[39mreturncode \u001b[38;5;129;01mor\u001b[39;00m \u001b[38;5;241m-\u001b[39m\u001b[38;5;241m9\u001b[39m\n\u001b[0;32m--> 315\u001b[0m     \u001b[38;5;28;01mraise\u001b[39;00m CalledProcessError(rc, cell)\n",
      "\u001b[0;31mCalledProcessError\u001b[0m: Command 'b'conda activate deepmod2\\n\\n# samtools fastq basecall.bam -T mv,ts | minimap2 -ax map-ont ref.fa - -y -t NUM_THREADS |samtools view -o aligned.bam\\n\\nref_fa = \"/home/michalula/data/ref_genomes/t2t_v2_0/chm13v2.0.fa\"\\n\\n\\nsamtools fastq ./5mCG/20250908_Day35_CROFF_Tcells_2Libraries_Minion_R9.dna_r9.4.1_e8_sup@v3.3.5mCG.bam  -T mv,ts | minimap2 -ax map-ont $ref_fa - -y -t 10 |samtools view -o aligned.bam\\n\\n'' returned non-zero exit status 1."
     ]
    }
   ],
   "source": [
    "%%bash\n",
    "conda activate deepmod2\n",
    "\n",
    "# samtools fastq basecall.bam -T mv,ts | minimap2 -ax map-ont ref.fa - -y -t NUM_THREADS |samtools view -o aligned.bam\n",
    "\n",
    "ref_fa = \"/home/michalula/data/ref_genomes/t2t_v2_0/chm13v2.0.fa\"\n",
    "\n",
    "\n",
    "samtools fastq ./5mCG/20250908_Day35_CROFF_Tcells_2Libraries_Minion_R9.dna_r9.4.1_e8_sup@v3.3.5mCG.bam  -T mv,ts | minimap2 -ax map-ont $ref_fa - -y -t 10 |samtools view -o aligned.bam\n",
    "\n"
   ]
  },
  {
   "cell_type": "markdown",
   "id": "97a222e7",
   "metadata": {},
   "source": [
    "3. Run DeepMod2 by providing BAM file and the folder containing FAST5 or POD5 signal files as inputs. You can provide reference FASTA file to get reference anchored methylation calls and per-site frequencies if the BAM file is aligned. Specify the model you want to use and the file type of raw signal files. Use multiple cores and/or GPUs for speedup.\n",
    "\n",
    "a) If using an aligned BAM file input:\n",
    "\n",
    "python PATH_TO_DEEPMOD2_REPOSITORY/deepmod2 detect --bam reads.bam --input INPUT_DIR --model MODEL --file_type FILE_TYPE --threads NUM_THREADS --ref ref.fa --output MOD_CALLS\n",
    "b) If using an unaligned BAM file input:\n",
    "\n",
    "python PATH_TO_DEEPMOD2_REPOSITORY/deepmod2 detect --bam reads.bam --input INPUT_DIR --model MODEL --file_type FILE_TYPE --threads NUM_THREADS --output MOD_CALLS\n",
    "This will give you a per-read prediction text file MOD_CALLS/output.per_read, a per-site prediction file MOD_CALLS/output.per_site, a per-site prediction file with both strands aggregated MOD_CALLS/output.per_site.aggregated, and a methylation annotated BAM file MOD_CALLS/output.bam.\n",
    "\n"
   ]
  },
  {
   "cell_type": "code",
   "execution_count": null,
   "id": "fdb9ca1e",
   "metadata": {},
   "outputs": [],
   "source": [
    "%%bash\n",
    "\n",
    "conda activate deepmod2\n",
    "\n",
    "PATH_TO_DEEPMOD2_REPOSITORY=/home/michalula/code/epiCausality/epiCode/analyze_ont_data/DeepMod2/deepmod2\n",
    "# INPUT_DIR=/home/michalula/code/epiCausality/epiCode/analyze_ont_data/DeepMod2/5mCG\n",
    "# INPUT_DIR=/home/michalula/code/epiCausality/epiCode/analyze_ont_data/DeepMod2\n",
    "INPUT_DIR=/mnt/faststorage/michalula/T_cells/20250908_Day_35_T_CRoff_nCATs/20250908_1810_MN31715_FBD90703_2c0c1ee5/pod5\n",
    "FILE_TYPE=pod5\n",
    "MODEL=dna_r9.4.1_e8_sup@v3.3_5mCG\n",
    "NUM_THREADS=10\n",
    "MOD_CALLS=./5mCG/deepmod2_results\n",
    "\n",
    "python PATH_TO_DEEPMOD2_REPOSITORY/deepmod2 detect --bam reads.bam --input INPUT_DIR --model MODEL --file_type FILE_TYPE --threads NUM_THREADS --ref ref.fa --output MOD_CALLS\n"
   ]
  },
  {
   "cell_type": "markdown",
   "id": "35f9ed43",
   "metadata": {},
   "source": [
    "4. Visualize the annotated BAM file produced by DeepMod2 in IGV file. In IGV, select 'Color alignments by' and 'base modifications (5mC)'. The following steps will allow you to open the tagged BAM file in IGV:\n",
    "\n",
    "a) If an aligned BAM is given to DeepMod2, you only need to sort and index the DeepMod2 methylation tagged BAM file:\n",
    "\n",
    "samtools sort MOD_CALLS/output.bam -o MOD_CALLS/final.bam --write-index\n",
    "\n",
    "b) If an unaligned BAM is given to DeepMod2, first align the DeepMod2 methylation tagged BAM file (while preserving methylation tags MM and ML), then sort and index it:\n",
    "\n",
    "samtools fastq MOD_CALLS/output.bam -T MM,ML,mv,ts| minimap2 -ax map-ont ref.fa - -y -t NUM_THREADS |samtools sort -o MOD_CALLS/final.bam --write-index\n"
   ]
  },
  {
   "cell_type": "code",
   "execution_count": null,
   "id": "52c092d9",
   "metadata": {},
   "outputs": [],
   "source": [
    "%%bash\n",
    "\n",
    "conda activate deepmod2\n",
    "\n",
    "MOD_CALLS=./5mCG/deepmod2_results\n",
    "\n",
    "samtools sort MOD_CALLS/output.bam -o MOD_CALLS/final.bam --write-index\n"
   ]
  },
  {
   "cell_type": "code",
   "execution_count": null,
   "id": "df9c6a59",
   "metadata": {},
   "outputs": [],
   "source": []
  }
 ],
 "metadata": {
  "kernelspec": {
   "display_name": "dimelo_v2_modkit_parsing",
   "language": "python",
   "name": "python3"
  },
  "language_info": {
   "codemirror_mode": {
    "name": "ipython",
    "version": 3
   },
   "file_extension": ".py",
   "mimetype": "text/x-python",
   "name": "python",
   "nbconvert_exporter": "python",
   "pygments_lexer": "ipython3",
   "version": "3.11.9"
  }
 },
 "nbformat": 4,
 "nbformat_minor": 5
}
