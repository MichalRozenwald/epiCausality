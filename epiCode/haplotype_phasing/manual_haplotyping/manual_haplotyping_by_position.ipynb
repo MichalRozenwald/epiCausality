{
 "cells": [
  {
   "cell_type": "code",
   "execution_count": 19,
   "metadata": {},
   "outputs": [],
   "source": [
    "import pysam\n",
    "\n",
    "def split_bam_by_base(input_bam, output_prefix, chrom=\"chr1\", pos=206588082):\n",
    "    \"\"\"\n",
    "    Splits a BAM file into four separate BAM files based on the base at a given position.\n",
    "\n",
    "    Parameters:\n",
    "    - input_bam: Path to input BAM file.\n",
    "    - output_prefix: Prefix for output BAM files.\n",
    "    - chrom: Chromosome of interest.\n",
    "    - pos: 1-based genomic position to check.\n",
    "\n",
    "    Output:\n",
    "    - Four BAM files with reads containing A, T, C, or G at the specified position.\n",
    "    \"\"\"\n",
    "    # Open input BAM file\n",
    "    bamfile = pysam.AlignmentFile(input_bam, \"rb\")\n",
    "\n",
    "    # Create output BAM files\n",
    "    bam_a = pysam.AlignmentFile(f\"{output_prefix}_{chrom}_{pos}_A.bam\", \"wb\", template=bamfile)\n",
    "    bam_t = pysam.AlignmentFile(f\"{output_prefix}_{chrom}_{pos}_T.bam\", \"wb\", template=bamfile)\n",
    "    bam_c = pysam.AlignmentFile(f\"{output_prefix}_{chrom}_{pos}_C.bam\", \"wb\", template=bamfile)\n",
    "    bam_g = pysam.AlignmentFile(f\"{output_prefix}_{chrom}_{pos}_G.bam\", \"wb\", template=bamfile)\n",
    "\n",
    "    # Process reads\n",
    "    for read in bamfile.fetch(chrom, pos-1, pos):  # pysam uses 0-based positions\n",
    "        # Get the reference-aligned position of the read\n",
    "        read_positions = read.get_reference_positions(full_length=True)\n",
    "        \n",
    "        if pos-1 in read_positions:  # Check if the read covers the position\n",
    "            # Get the index of the base in the read\n",
    "            base_index = read_positions.index(pos-1)\n",
    "            base = read.query_sequence[base_index]  # Extract base at position\n",
    "\n",
    "            # Write the read to the corresponding BAM file\n",
    "            if base == 'A':\n",
    "                bam_a.write(read)\n",
    "            elif base == 'T':\n",
    "                bam_t.write(read)\n",
    "            elif base == 'C':\n",
    "                bam_c.write(read)\n",
    "            elif base == 'G':\n",
    "                bam_g.write(read)\n",
    "\n",
    "    # Close all files\n",
    "    bamfile.close()\n",
    "    bam_a.close()\n",
    "    bam_t.close()\n",
    "    bam_c.close()\n",
    "    bam_g.close()\n",
    "\n",
    "    print(\"Splitting complete. Output BAM files generated.\")\n",
    "\n",
    "# Example usage\n",
    "# split_bam_by_base(\"input.bam\", \"output\")\n",
    "\n"
   ]
  },
  {
   "cell_type": "code",
   "execution_count": 20,
   "metadata": {},
   "outputs": [
    {
     "name": "stdout",
     "output_type": "stream",
     "text": [
      "total 13G\n",
      "drwxrwxr-x 3 michalula michalula 4.0K Mar 18 05:18 .\n",
      "drwxrwxrwx 4 michalula michalula 4.0K Mar 17 04:54 ..\n",
      "-rw-rw-r-- 1 michalula michalula 5.2G Mar 17 05:26 align_t2t_v2_0_trim_20241226_MR_nCATs_TcellsPrES_unedit_P2R9_passed.dna_r9.4.1_e8_sup@v3.3.5mCG.bam\n",
      "-rw-rw-r-- 1 michalula michalula  24M Mar 17 23:13 chr1_206560169_206614236.sort_chr1_sort_align_t2t_v2_0_trim_20241226_MR_nCATs_TcellsPrES_unedit_P2R9_passed_dna_r9_e8_supv3mCG.bam\n",
      "-rw-rw-r-- 1 michalula michalula 104K Mar 17 23:13 chr1_206560169_206614236.sort_chr1_sort_align_t2t_v2_0_trim_20241226_MR_nCATs_TcellsPrES_unedit_P2R9_passed_dna_r9_e8_supv3mCG.bam.bai\n",
      "-rw-r--r-- 1 michalula michalula 482M Mar 17 10:35 chr1.sort_align_t2t_v2_0_trim_20241226_MR_nCATs_TcellsPrES_unedit_P2R9_passed.dna_r9.4.1_e8_sup@v3.3.5mCG.bam\n",
      "-rw-rw-r-- 1 michalula michalula 482M Mar 17 23:39 chr1_sort_align_t2t_v2_0_trim_20241226_MR_nCATs_TcellsPrES_unedit_P2R9_passed.dna_r9.4.1_e8_sup@v3.3.5mCG.bam\n",
      "-rw-rw-r-- 1 michalula michalula 482M Mar 17 11:43 chr1_sort_align_t2t_v2_0_trim_20241226_MR_nCATs_TcellsPrES_unedit_P2R9_passed_dna_r9_e8_sup@v3mCG.bam\n",
      "-rw-rw-r-- 1 michalula michalula 482M Mar 17 11:43 chr1_sort_align_t2t_v2_0_trim_20241226_MR_nCATs_TcellsPrES_unedit_P2R9_passed_dna_r9_e8_supv3mCG.bam\n",
      "-rw-rw-r-- 1 michalula michalula 6.8K Mar 18 04:58 forced_variants.chr1_206560169_206614236.vcf.gz\n",
      "-rw-rw-r-- 1 michalula michalula  152 Mar 18 05:08 forced_variants.chr1_206560169_206614236.vcf.gz.csi\n",
      "-rw-rw-r-- 1 michalula michalula 7.0K Mar 18 05:17 forced_variants_with_refs.chr1_206560169_206614236.vcf.gz\n",
      "-rw-rw-r-- 1 michalula michalula  152 Mar 18 05:18 forced_variants_with_refs.chr1_206560169_206614236.vcf.gz.csi\n",
      "drwxrwxr-x 3 michalula michalula 4.0K Mar 19 13:05 haplotyped\n",
      "-rw-rw-r-- 1 michalula michalula 6.2K Mar 18 04:42 new_variants.chr1_206560169_206614236.vcf.gz\n",
      "-rw-rw-r-- 1 michalula michalula  152 Mar 18 04:48 new_variants.chr1_206560169_206614236.vcf.gz.csi\n",
      "-rw-rw-r-- 1 michalula michalula 2.0K Mar 17 10:31 script_t2t_v2_align.bash\n",
      "-rw-rw-r-- 1 michalula michalula 5.1G Mar 17 05:30 sort_align_t2t_v2_0_trim_20241226_MR_nCATs_TcellsPrES_unedit_P2R9_passed.dna_r9.4.1_e8_sup@v3.3.5mCG.bam\n",
      "-rw-rw-r-- 1 michalula michalula 3.0M Mar 17 05:37 sort_align_t2t_v2_0_trim_20241226_MR_nCATs_TcellsPrES_unedit_P2R9_passed.dna_r9.4.1_e8_sup@v3.3.5mCG.bam.bai\n",
      "-rw-rw-r-- 1 michalula michalula 482M Mar 17 11:49 sort_chr1_sort_align_t2t_v2_0_trim_20241226_MR_nCATs_TcellsPrES_unedit_P2R9_passed_dna_r9_e8_supv3mCG.bam\n",
      "-rw-rw-r-- 1 michalula michalula 267K Mar 17 11:49 sort_chr1_sort_align_t2t_v2_0_trim_20241226_MR_nCATs_TcellsPrES_unedit_P2R9_passed_dna_r9_e8_supv3mCG.bam.bai\n",
      "-rw-rw-r-- 1 michalula michalula 214M Mar 17 05:42 summary_sort_align_t2t_v2_0_trim_20241226_MR_nCATs_TcellsPrES_unedit_P2R9_passed.dna_r9.4.1_e8_sup@v3.3.5mCG.tsv\n",
      "-rw-rw-r-- 1 michalula michalula 9.3K Mar 18 04:20 vcf.chr1_206560169_206614236.sort_chr1_sort_align_t2t_v2_0_trim_20241226_MR_nCATs_TcellsPrES_unedit_P2R9_passed_dna_r9_e8_supv3mCG.vcf.gz\n",
      "-rw-rw-r-- 1 michalula michalula  202 Mar 18 04:28 vcf.chr1_206560169_206614236.sort_chr1_sort_align_t2t_v2_0_trim_20241226_MR_nCATs_TcellsPrES_unedit_P2R9_passed_dna_r9_e8_supv3mCG.vcf.gz.csi\n"
     ]
    }
   ],
   "source": [
    "! ls  -lah /home/michalula/data/cas9_nanopore/data/20241226_MR_nCATs_TcellsPrES_unedit_P2R9/passed_fast5/5mCG/to_t2t_v2_0"
   ]
  },
  {
   "cell_type": "code",
   "execution_count": 21,
   "metadata": {},
   "outputs": [
    {
     "name": "stdout",
     "output_type": "stream",
     "text": [
      "mkdir: cannot create directory ‘/home/michalula/data/cas9_nanopore/data/20241226_MR_nCATs_TcellsPrES_unedit_P2R9/passed_fast5/5mCG/to_t2t_v2_0/haplotyped/manual’: File exists\n"
     ]
    }
   ],
   "source": [
    "!mkdir /home/michalula/data/cas9_nanopore/data/20241226_MR_nCATs_TcellsPrES_unedit_P2R9/passed_fast5/5mCG/to_t2t_v2_0/haplotyped/manual"
   ]
  },
  {
   "cell_type": "code",
   "execution_count": 22,
   "metadata": {},
   "outputs": [],
   "source": [
    "! ls /home/michalula/data/cas9_nanopore/data/20241226_MR_nCATs_TcellsPrES_unedit_P2R9/passed_fast5/5mCG/to_t2t_v2_0/haplotyped/manual"
   ]
  },
  {
   "cell_type": "code",
   "execution_count": 23,
   "metadata": {},
   "outputs": [],
   "source": [
    "# cd /home/michalula/data/cas9_nanopore/data/20241226_MR_nCATs_TcellsPrES_unedit_P2R9/passed_fast5/5mCG/to_t2t_v2_0/\n",
    "\n",
    "input_bam_path = \"/home/michalula/data/cas9_nanopore/data/20241226_MR_nCATs_TcellsPrES_unedit_P2R9/passed_fast5/5mCG/to_t2t_v2_0/sort_chr1_sort_align_t2t_v2_0_trim_20241226_MR_nCATs_TcellsPrES_unedit_P2R9_passed_dna_r9_e8_supv3mCG.bam\"\n",
    "\n",
    "output_bam_prefix = \"/home/michalula/data/cas9_nanopore/data/20241226_MR_nCATs_TcellsPrES_unedit_P2R9/passed_fast5/5mCG/to_t2t_v2_0/haplotyped/manual/haplotyped_sort_chr1_sort_align_t2t_v2_0_trim_20241226_MR_nCATs_TcellsPrES_unedit_P2R9_passed_dna_r9_e8_supv3mCG\""
   ]
  },
  {
   "cell_type": "markdown",
   "metadata": {},
   "source": [
    "\n",
    "chr1:206,588,080\n",
    "\n",
    "Total count: 2820\n",
    "\n",
    "A : 47 (2%, 6+, 41- )\n",
    "\n",
    "C : 1467 (52%, 755+, 712- )\n",
    "\n",
    "G : 5 (0%, 0+, 5- )\n",
    "\n",
    "T : 1301 (46%, 658+, 643- )\n",
    "\n",
    "N : 0\n",
    "\n",
    "---------------\n",
    "\n",
    "DEL: 147\n",
    "\n",
    "INS: 75"
   ]
  },
  {
   "cell_type": "code",
   "execution_count": null,
   "metadata": {},
   "outputs": [
    {
     "name": "stdout",
     "output_type": "stream",
     "text": [
      "Splitting complete. Output BAM files generated.\n"
     ]
    }
   ],
   "source": [
    "chrom=\"chr1\"\n",
    "pos=206588080 \n",
    "\n",
    "split_bam_by_base(input_bam_path, output_bam_prefix, chrom, pos) "
   ]
  },
  {
   "cell_type": "code",
   "execution_count": 25,
   "metadata": {},
   "outputs": [
    {
     "name": "stdout",
     "output_type": "stream",
     "text": [
      "total 19M\n",
      "drwxrwxr-x 2 michalula michalula 4.0K Mar 19 13:36 .\n",
      "drwxrwxr-x 3 michalula michalula 4.0K Mar 19 13:05 ..\n",
      "-rw-rw-r-- 1 michalula michalula 329K Mar 19 13:36 haplotyped_sort_chr1_sort_align_t2t_v2_0_trim_20241226_MR_nCATs_TcellsPrES_unedit_P2R9_passed_dna_r9_e8_supv3mCG_chr1_206588080_A.bam\n",
      "-rw-rw-r-- 1 michalula michalula 9.8M Mar 19 13:36 haplotyped_sort_chr1_sort_align_t2t_v2_0_trim_20241226_MR_nCATs_TcellsPrES_unedit_P2R9_passed_dna_r9_e8_supv3mCG_chr1_206588080_C.bam\n",
      "-rw-rw-r-- 1 michalula michalula  35K Mar 19 13:36 haplotyped_sort_chr1_sort_align_t2t_v2_0_trim_20241226_MR_nCATs_TcellsPrES_unedit_P2R9_passed_dna_r9_e8_supv3mCG_chr1_206588080_G.bam\n",
      "-rw-rw-r-- 1 michalula michalula 8.7M Mar 19 13:36 haplotyped_sort_chr1_sort_align_t2t_v2_0_trim_20241226_MR_nCATs_TcellsPrES_unedit_P2R9_passed_dna_r9_e8_supv3mCG_chr1_206588080_T.bam\n"
     ]
    }
   ],
   "source": [
    "! ls -lah /home/michalula/data/cas9_nanopore/data/20241226_MR_nCATs_TcellsPrES_unedit_P2R9/passed_fast5/5mCG/to_t2t_v2_0/haplotyped/manual"
   ]
  },
  {
   "cell_type": "code",
   "execution_count": 26,
   "metadata": {},
   "outputs": [],
   "source": [
    "# # Index all the BAM files\n",
    "# for bam_file in bam_files.values():\n",
    "#     pysam.index(bam_file)\n",
    "\n",
    "# print(\"Indexing complete.\")"
   ]
  },
  {
   "cell_type": "code",
   "execution_count": 27,
   "metadata": {},
   "outputs": [
    {
     "name": "stdout",
     "output_type": "stream",
     "text": [
      "Number of reads in A BAM file: 47\n",
      "Number of reads in T BAM file: 1301\n",
      "Number of reads in C BAM file: 1467\n",
      "Number of reads in G BAM file: 5\n"
     ]
    }
   ],
   "source": [
    "import pysam\n",
    "\n",
    "# Define the paths to the haplotyped BAM files\n",
    "bam_files = {\n",
    "    'A': f\"{output_bam_prefix}_{chrom}_{pos}_A.bam\",\n",
    "    'T': f\"{output_bam_prefix}_{chrom}_{pos}_T.bam\",\n",
    "    'C': f\"{output_bam_prefix}_{chrom}_{pos}_C.bam\",\n",
    "    'G': f\"{output_bam_prefix}_{chrom}_{pos}_G.bam\"\n",
    "}\n",
    "\n",
    "# Function to count reads in a BAM file\n",
    "def count_reads(bam_file):\n",
    "    pysam.index(bam_file)\n",
    "    with pysam.AlignmentFile(bam_file, \"rb\") as bam:\n",
    "        return bam.count()\n",
    "\n",
    "# Count reads in each BAM file\n",
    "read_counts = {base: count_reads(bam_file) for base, bam_file in bam_files.items()}\n",
    "\n",
    "# Print the read counts\n",
    "for base, count in read_counts.items():\n",
    "    print(f\"Number of reads in {base} BAM file: {count}\")"
   ]
  },
  {
   "cell_type": "code",
   "execution_count": null,
   "metadata": {},
   "outputs": [],
   "source": [
    "# {base: count_reads(bam_file) for base, bam_file in bam_files.items()}"
   ]
  },
  {
   "cell_type": "code",
   "execution_count": null,
   "metadata": {},
   "outputs": [],
   "source": [
    "chr1:206,586,630\n",
    "Total count: 2725\n",
    "A : 1407 (52%, 689+, 718- )\n",
    "C : 28 (1%, 21+, 7- )\n",
    "G : 1258 (46%, 673+, 585- )\n",
    "T : 32 (1%, 26+, 6- )\n",
    "N : 0\n",
    "---------------\n",
    "DEL: 255\n",
    "INS: 40"
   ]
  },
  {
   "cell_type": "code",
   "execution_count": 28,
   "metadata": {},
   "outputs": [
    {
     "name": "stdout",
     "output_type": "stream",
     "text": [
      "Splitting complete. Output BAM files generated.\n"
     ]
    }
   ],
   "source": [
    "chrom=\"chr1\"\n",
    "pos=206586630 \n",
    "\n",
    "split_bam_by_base(input_bam_path, output_bam_prefix, chrom, pos) "
   ]
  },
  {
   "cell_type": "code",
   "execution_count": 29,
   "metadata": {},
   "outputs": [
    {
     "name": "stdout",
     "output_type": "stream",
     "text": [
      "Number of reads in A BAM file: 1407\n",
      "Number of reads in T BAM file: 32\n",
      "Number of reads in C BAM file: 28\n",
      "Number of reads in G BAM file: 1258\n"
     ]
    }
   ],
   "source": [
    "# Define the paths to the haplotyped BAM files\n",
    "bam_files = {\n",
    "    'A': f\"{output_bam_prefix}_{chrom}_{pos}_A.bam\",\n",
    "    'T': f\"{output_bam_prefix}_{chrom}_{pos}_T.bam\",\n",
    "    'C': f\"{output_bam_prefix}_{chrom}_{pos}_C.bam\",\n",
    "    'G': f\"{output_bam_prefix}_{chrom}_{pos}_G.bam\"\n",
    "}\n",
    "\n",
    "# Function to count reads in a BAM file\n",
    "def count_reads(bam_file):\n",
    "    pysam.index(bam_file)\n",
    "    with pysam.AlignmentFile(bam_file, \"rb\") as bam:\n",
    "        return bam.count()\n",
    "\n",
    "# Count reads in each BAM file\n",
    "read_counts = {base: count_reads(bam_file) for base, bam_file in bam_files.items()}\n",
    "\n",
    "# Print the read counts\n",
    "for base, count in read_counts.items():\n",
    "    print(f\"Number of reads in {base} BAM file: {count}\")"
   ]
  },
  {
   "cell_type": "code",
   "execution_count": null,
   "metadata": {},
   "outputs": [],
   "source": []
  }
 ],
 "metadata": {
  "kernelspec": {
   "display_name": "Python dimelo_v2_modkit_parsing",
   "language": "python",
   "name": "dimelo_v2_modkit_parsing"
  },
  "language_info": {
   "codemirror_mode": {
    "name": "ipython",
    "version": 3
   },
   "file_extension": ".py",
   "mimetype": "text/x-python",
   "name": "python",
   "nbconvert_exporter": "python",
   "pygments_lexer": "ipython3",
   "version": "3.11.9"
  }
 },
 "nbformat": 4,
 "nbformat_minor": 2
}
