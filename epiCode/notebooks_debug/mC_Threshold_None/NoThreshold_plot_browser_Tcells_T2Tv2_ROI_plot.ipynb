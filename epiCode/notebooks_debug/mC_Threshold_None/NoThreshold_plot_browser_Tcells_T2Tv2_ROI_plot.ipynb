{
 "cells": [
  {
   "cell_type": "markdown",
   "metadata": {},
   "source": [
    "# ONT Confidane score - Plot browser - no Threshold_mC\n",
    "## T cells mapped to T2T version 2.0\n",
    "## Pipeline to Extract and Analyze mC profiles from BAM files and look at Forward & Reverse strands"
   ]
  },
  {
   "cell_type": "markdown",
   "metadata": {},
   "source": [
    "Modify the window of the input size"
   ]
  },
  {
   "cell_type": "code",
   "execution_count": null,
   "metadata": {},
   "outputs": [],
   "source": [
    "import sys\n",
    "from pathlib import Path\n",
    "from datetime import datetime \n",
    "\n",
    "# Add the folder containing 'my_functions.py' to sys.path\n",
    "sys.path.append(\"/home/michalula/code/epiCausality/epiCode/utils/\") # str(Path(__file__).parent / 'utils'))\n",
    "\n",
    "# Import the module or specific functions\n",
    "# from /home/michalula/code/epiCausality/epiCode/utils/funcs_extract_mC_profiles_from_BAMs.py\n",
    "# from funcs_extract_mC_profiles_from_BAMs import system_info, extract_from_bam\n",
    "from funcs_extract_mC_profiles_from_BAMs import (\n",
    "    system_info,\n",
    "    get_reference_sequence,\n",
    "    create_output_directory,\n",
    "    extract_from_bam,\n",
    "    process_extracted_reads,\n",
    "    visualize_data,\n",
    "    create_padded_reads,\n",
    "    plot_padded_reads,\n",
    "    save_padded_reads,\n",
    "    process_extracted_reads_no_fully_unmethylated,\n",
    "    create_padded_reads_no_fully_unmethylated\n",
    "    # main,\n",
    ")"
   ]
  },
  {
   "cell_type": "code",
   "execution_count": 13,
   "metadata": {},
   "outputs": [],
   "source": [
    "from funcs_analize_forward_reverse_extracted_mC_reads import analize_forward_reverse_CGs_pipeline"
   ]
  },
  {
   "cell_type": "markdown",
   "metadata": {},
   "source": [
    "## Extract Extranded window around the 30 bp ROI of unedited primary T cells from Elain ES from nCATs nanopore experiment using P2 on 2004-12-16"
   ]
  },
  {
   "cell_type": "markdown",
   "metadata": {},
   "source": [
    "## Setting mC threshold in methylation calling confidance to 0.7"
   ]
  },
  {
   "cell_type": "markdown",
   "metadata": {},
   "source": [
    "# Expend window size"
   ]
  },
  {
   "cell_type": "code",
   "execution_count": 3,
   "metadata": {},
   "outputs": [
    {
     "name": "stdout",
     "output_type": "stream",
     "text": [
      "System: Linux\n",
      "Release: 6.8.0-52-generic\n",
      "Version: #53~22.04.1-Ubuntu SMP PREEMPT_DYNAMIC Wed Jan 15 19:18:46 UTC 2\n",
      "Processor: x86_64\n",
      "Python version: 3.11.9 | packaged by conda-forge | (main, Apr 19 2024, 18:36:13) [GCC 12.3.0]\n",
      "Expend window size by 2 *  50\n",
      "region_length 131\n",
      "ACCATTCAGCGTTTTGGGGTCTGTTTGTTTTTATTGTTATCCCACCCCACACCGCCCCGAGGCGCGCGCGCGCGCGCGCACACACACACACACACACACACACACACATACACACACGCACACTGGTGAAT\n",
      "131\n",
      "region_chr chr1\n",
      "region_start 206586112\n",
      "region_end 206586243\n",
      "chr1:206586112-206586243\n"
     ]
    }
   ],
   "source": [
    "threshold_mC = None # 0.7 #  0.9 #0.99\n",
    "\n",
    "system_info()\n",
    "\n",
    "experiment_name = \"ThrNone_unedited_Tcells_ES_NoFullyUnmethylated_T2Tv2\"\n",
    "bam_path = \"/home/michalula/data/cas9_nanopore/data/20241226_MR_nCATs_TcellsPrES_unedit_P2R9/passed_fast5/5mCG/to_t2t_v2_0/sort_align_t2t_v2_0_trim_20241226_MR_nCATs_TcellsPrES_unedit_P2R9_passed.dna_r9.4.1_e8_sup@v3.3.5mCG.bam\"\n",
    "# bam_path = \"/home/michalula/data/cas9_nanopore/data/20241226_nCATs_K562_ZFPOFFpostSort_LOW70/pod5_converted_basecall/5mCG/to_t2t_v2_0/sort_align_t2t_v2_0_trim_20241226_nCATs_K562_ZFPOFFpostSort_LOW70_R9min_converted_fast5.dna_r9.4.1_e8_sup@v3.3.5mCG.bam\"\n",
    "# \"/home/michalula/data/cas9_nanopore/data/20241226_nCATs_K562_ZFPOFFpostSort_LOW70/pod5_converted_basecall/5mCG/to_t2t_v1_1/sort_align_t2t_v1_1_trim_20241226_nCATs_K562_ZFPOFFpostSort_LOW70_R9min_converted_fast5.dna_r9.4.1_e8_sup@v3.3.5mCG.bam\"\n",
    "#  \"/home/michalula/data/cas9_nanopore/data/20241226_MR_nCATs_TcellsPrES_unedit_P2R9/passed_fast5/5mCG/to_t2t_v1_1/sort_align_trim_20241226_MR_nCATs_TcellsPrES_unedit_P2R9_passed.dna_r9.4.1_e8_sup@v3.3.5mCG.bam\"\n",
    "\n",
    "date_today = datetime.today().strftime('%Y-%m-%d')\n",
    "\n",
    "# Make sure to use UpperCase fasta in the Reference genome, so that the mapping of the sequence is got giving erorrs\n",
    "# awk '{if ($0 ~ /^>/) print $0; else print toupper($0)}' /home/michalula/data/ref_genomes/t2t_v2_0/chm13v2.0.fa > /home/michalula/data/ref_genomes/t2t_v2_0/up_chm13v2.0.fasta\n",
    "# samtools faidx /home/michalula/data/ref_genomes/t2t_v2_0/up_chm13v2.0.fasta\n",
    "ref_genome_path = Path('/home/michalula/data/ref_genomes/t2t_v2_0/up_chm13v2.0.fasta')\n",
    "# '/home/michalula/data/ref_genomes/t2t_v2_0/chm13v2.0.fa')\n",
    "reg_genome_version = \"t2t_v2_0\"\n",
    "# t2t_v1_1_cd55_30bps = 'chr1:206586162-206586192'\n",
    "region_chr = 'chr1'\n",
    "\n",
    "# Expend window size\n",
    "expand_window_size = 50 # 50 #500 #1500 # 0 \n",
    "expand_window_size\n",
    "print(\"Expend window size by 2 * \", expand_window_size)\n",
    "region_start = 206586162 - expand_window_size\n",
    "region_end = 206586192 + expand_window_size + 1\n",
    "\n",
    "# # 30 bps:\n",
    "# region_start = 206586162\n",
    "# region_end = 206586192\n",
    "\n",
    "# # FULL 7 KB WINDOW: 1:206583000-206590000\n",
    "# region_start = 206583000   # 206586162\n",
    "# region_end = 206590000 # 20658619\n",
    "\n",
    "region_str = region_chr + \":\" + str(region_start) + \"-\" + str(region_end) #'chr1:206586162-206586192'\n",
    "region_length = region_end - region_start\n",
    "print(\"region_length\", region_length)\n",
    "\n",
    "\n",
    "save_padded_reads_name_np = f\"padded_reads_{experiment_name}_mCthresh{threshold_mC}_{reg_genome_version}_{region_str}_{date_today}.npy\"\n",
    "output_dir = create_output_directory(\"./dimelo_v2_output\")\n",
    "\n",
    "motifs=['CG,0']\n",
    "ref_seq_list = get_reference_sequence(ref_genome_path, region_chr, region_start, region_end)\n",
    "\n",
    "print('region_chr', region_chr)\n",
    "print('region_start', region_start)\n",
    "print('region_end', region_end)\n",
    "print(f'{region_chr}:{region_start}-{region_end}')"
   ]
  },
  {
   "cell_type": "code",
   "execution_count": 4,
   "metadata": {},
   "outputs": [
    {
     "name": "stdout",
     "output_type": "stream",
     "text": [
      "Region length: 131\n",
      "No specified number of cores requested. 24 available on machine, allocating all.\n",
      "No valid base modification threshold provided. Raw probs will be saved.\n"
     ]
    },
    {
     "data": {
      "application/vnd.jupyter.widget-view+json": {
       "model_id": "fedb3f081a7e4366ab8b7a92a56ea72f",
       "version_major": 2,
       "version_minor": 0
      },
      "text/plain": [
       "          | Step 1: Identify motif locations in up_chm13v2.0.fasta   0% | 00:00"
      ]
     },
     "metadata": {},
     "output_type": "display_data"
    },
    {
     "data": {
      "application/vnd.jupyter.widget-view+json": {
       "model_id": "e16c6b40704145298dca748670350b53",
       "version_major": 2,
       "version_minor": 0
      },
      "text/plain": [
       "          | Step 2: Parse regions in sort_align_t2t_v2_0_trim_20241226_MR_nCATs_TcellsPrES_unedit_P2R9_passed.…"
      ]
     },
     "metadata": {},
     "output_type": "display_data"
    },
    {
     "data": {
      "application/vnd.jupyter.widget-view+json": {
       "model_id": "a068133fa8044548998003fe13533e93",
       "version_major": 2,
       "version_minor": 0
      },
      "text/plain": [
       "          |    0%"
      ]
     },
     "metadata": {},
     "output_type": "display_data"
    },
    {
     "data": {
      "application/vnd.jupyter.widget-view+json": {
       "model_id": "01fbfff8d41047bca0b4acd8be1cbb7e",
       "version_major": 2,
       "version_minor": 0
      },
      "text/plain": [
       "          | Transferring 3007 from reads.CG,0.txt into reads.combined_basemods.h5, new size 3007   0% | 00:00<…"
      ]
     },
     "metadata": {},
     "output_type": "display_data"
    },
    {
     "name": "stdout",
     "output_type": "stream",
     "text": [
      "Plot browser html figure saved to dimelo_v2_output/plot_browser_131bps_ThrNone_unedited_Tcells_ES_NoFullyUnmethylated_T2Tv2_extract_reads_chr1:206586112-206586243.html\n"
     ]
    }
   ],
   "source": [
    "# threshold_mC = None # 0 # 0.7 # 0.9 #0.99\n",
    "\n",
    "extract_file, extract_regions, fig_plot_browser = extract_from_bam(\n",
    "    experiment_name=experiment_name, \n",
    "    bam_path=bam_path,\n",
    "    ref_genome_file=ref_genome_path,\n",
    "    output_dir=output_dir,\n",
    "    regions=region_str,\n",
    "    motifs=motifs,\n",
    "    output_name='extracted_reads',\n",
    "    threshold_mC=threshold_mC,\n",
    ")"
   ]
  },
  {
   "cell_type": "code",
   "execution_count": 5,
   "metadata": {},
   "outputs": [
    {
     "data": {
      "text/plain": [
       "PosixPath('dimelo_v2_output/extracted_reads/reads.combined_basemods.h5')"
      ]
     },
     "execution_count": 5,
     "metadata": {},
     "output_type": "execute_result"
    }
   ],
   "source": [
    "extract_file"
   ]
  },
  {
   "cell_type": "code",
   "execution_count": 5,
   "metadata": {},
   "outputs": [
    {
     "name": "stdout",
     "output_type": "stream",
     "text": [
      "region_length 7000\n",
      "Region length: 7000\n",
      "No specified number of cores requested. 24 available on machine, allocating all.\n",
      "No valid base modification threshold provided. Raw probs will be saved.\n"
     ]
    },
    {
     "data": {
      "application/vnd.jupyter.widget-view+json": {
       "model_id": "889e932d7c5f4d31a4c596c909dda067",
       "version_major": 2,
       "version_minor": 0
      },
      "text/plain": [
       "          | Step 1: Identify motif locations in up_chm13v2.0.fasta   0% | 00:00"
      ]
     },
     "metadata": {},
     "output_type": "display_data"
    },
    {
     "data": {
      "application/vnd.jupyter.widget-view+json": {
       "model_id": "e09d7c9dc7e143be92ec9fb3b666bf5c",
       "version_major": 2,
       "version_minor": 0
      },
      "text/plain": [
       "          | Step 2: Parse regions in sort_align_t2t_v2_0_trim_20241226_MR_nCATs_TcellsPrES_unedit_P2R9_passed.…"
      ]
     },
     "metadata": {},
     "output_type": "display_data"
    },
    {
     "data": {
      "application/vnd.jupyter.widget-view+json": {
       "model_id": "627105a68f51472e8c0774ac70ce659d",
       "version_major": 2,
       "version_minor": 0
      },
      "text/plain": [
       "          |    0%"
      ]
     },
     "metadata": {},
     "output_type": "display_data"
    },
    {
     "data": {
      "application/vnd.jupyter.widget-view+json": {
       "model_id": "8c694e4d74334abf9ea104b3b99622d8",
       "version_major": 2,
       "version_minor": 0
      },
      "text/plain": [
       "          | Transferring 3574 from reads.CG,0.txt into reads.combined_basemods.h5, new size 3574   0% | 00:00<…"
      ]
     },
     "metadata": {},
     "output_type": "display_data"
    },
    {
     "name": "stdout",
     "output_type": "stream",
     "text": [
      "Plot browser html figure saved to dimelo_v2_output/plot_browser_7000bps_ThrNone_unedited_Tcells_ES_NoFullyUnmethylated_T2Tv2_extract_reads_chr1:206583000-206590000.html\n"
     ]
    }
   ],
   "source": [
    "# threshold_mC = None # 0 # 0.7 # 0.9 #0.99\n",
    "\n",
    "region_chr = 'chr1'\n",
    "# # 30 bps:\n",
    "# region_start = 206586162\n",
    "# region_end = 206586192\n",
    "\n",
    "# FULL 7 KB WINDOW: 1:206583000-206590000\n",
    "region_start = 206583000   # 206586162\n",
    "region_end = 206590000 # 20658619\n",
    "\n",
    "\n",
    "region_str = region_chr + \":\" + str(region_start) + \"-\" + str(region_end) #'chr1:206586162-206586192'\n",
    "region_length = region_end - region_start\n",
    "print(\"region_length\", region_length)\n",
    "\n",
    "\n",
    "extract_file, extract_regions, fig_plot_browser = extract_from_bam(\n",
    "    experiment_name=experiment_name,\n",
    "    bam_path=bam_path,\n",
    "    ref_genome_file=ref_genome_path,\n",
    "    output_dir=output_dir,\n",
    "    regions=region_str,\n",
    "    motifs=motifs,\n",
    "    output_name='extracted_reads',\n",
    "    threshold_mC=threshold_mC,\n",
    ")"
   ]
  },
  {
   "cell_type": "code",
   "execution_count": 6,
   "metadata": {},
   "outputs": [
    {
     "data": {
      "text/plain": [
       "(PosixPath('dimelo_v2_output/extracted_reads/reads.combined_basemods.h5'),\n",
       " PosixPath('dimelo_v2_output/extracted_reads/regions.processed.bed'))"
      ]
     },
     "execution_count": 6,
     "metadata": {},
     "output_type": "execute_result"
    }
   ],
   "source": [
    "extract_file, extract_regions"
   ]
  },
  {
   "cell_type": "code",
   "execution_count": 7,
   "metadata": {},
   "outputs": [
    {
     "name": "stdout",
     "output_type": "stream",
     "text": [
      "Error processing extracted reads: No threshold has been applied to this .h5 single read data. You must provide a threshold using the thresh parameter in order to extract binarized modification arrays.\n",
      "Error in visualization: 'NoneType' object has no attribute 'copy'\n",
      "Error creating padded reads matrix: 'NoneType' object is not subscriptable\n"
     ]
    }
   ],
   "source": [
    "keep_unmethylated_reads = False\n",
    "\n",
    "if extract_file:\n",
    "    if keep_unmethylated_reads:\n",
    "        reads_df, regions_dict = process_extracted_reads(extract_file, region_str, motifs, ref_seq_list)\n",
    "        visualize_data(reads_df)\n",
    "\n",
    "        padded_reads = create_padded_reads(reads_df, regions_dict, region_length)\n",
    "    else:\n",
    "        reads_df, regions_dict = process_extracted_reads_no_fully_unmethylated(extract_file, region_str, motifs, ref_seq_list)\n",
    "        visualize_data(reads_df)\n",
    "        padded_reads = create_padded_reads_no_fully_unmethylated(reads_df, regions_dict, region_length)\n",
    "    if padded_reads is not None:\n",
    "        plot_padded_reads(padded_reads, ref_seq_list)\n",
    "        save_padded_reads(padded_reads, output_dir, save_padded_reads_name_np)\n",
    "\n",
    "# if extract_file:\n",
    "#     reads_df, regions_dict = process_extracted_reads(extract_file, region_str, motifs, ref_seq_list)\n",
    "#     visualize_data(reads_df)\n",
    "\n",
    "#     padded_reads = create_padded_reads(reads_df, regions_dict, region_length)\n",
    "#     if padded_reads is not None:\n",
    "#         plot_padded_reads(padded_reads, ref_seq_list)\n",
    "#         save_padded_reads(padded_reads, output_dir, save_padded_reads_name_np)\n",
    " "
   ]
  },
  {
   "cell_type": "code",
   "execution_count": 8,
   "metadata": {},
   "outputs": [
    {
     "name": "stdout",
     "output_type": "stream",
     "text": [
      "Error loading padded reads: [Errno 2] No such file or directory: 'dimelo_v2_output/padded_reads_ThrNone_unedited_Tcells_ES_NoFullyUnmethylated_T2Tv2_mCthreshNone_t2t_v2_0_chr1:206586112-206586243_2025-04-01.npy'\n",
      "Error in process pipeline: [Errno 2] No such file or directory: 'dimelo_v2_output/padded_reads_ThrNone_unedited_Tcells_ES_NoFullyUnmethylated_T2Tv2_mCthreshNone_t2t_v2_0_chr1:206586112-206586243_2025-04-01.npy'\n",
      "Error in main pipeline (analize_forward_reverse_CGs_pipeline function): [Errno 2] No such file or directory: 'dimelo_v2_output/padded_reads_ThrNone_unedited_Tcells_ES_NoFullyUnmethylated_T2Tv2_mCthreshNone_t2t_v2_0_chr1:206586112-206586243_2025-04-01.npy'\n"
     ]
    }
   ],
   "source": [
    "\"\"\"\n",
    "Main pipeline for processing and visualizing CpG units on forward and reverse strands \n",
    "\"\"\"\n",
    "try:\n",
    "    # Define constants\n",
    "    # experiment_name = \"unedited_T_primerES_nCATS\"\n",
    "    # save_folder_path = output_dir # \"/home/michalula/code/epiCausality/epiCode/notebooks/dimelo_v2_output\"\n",
    "    # save_padded_reads_name_np = \"padded_reads.npy\"\n",
    "    # ref_genome_file = \"/home/michalula/data/ref_genomes/to_t2t_v1_1/chm13.draft_v1.1.fasta\"\n",
    "    # region_chr = \"chr1\"\n",
    "    # region_start = 206586162\n",
    "    # region_end = 206586192\n",
    "\n",
    "    # Process pipeline\n",
    "    CGs_all, C_fwd_df, G_revs_df, padded_reads_df, CG_pair_idx, CG_coordinates = analize_forward_reverse_CGs_pipeline(\n",
    "        experiment_name=experiment_name, save_folder_path=output_dir, \n",
    "        save_padded_reads_name_np=save_padded_reads_name_np, \n",
    "        ref_genome_file=ref_genome_path, region_chr=region_chr, region_start=region_start, region_end=region_end\n",
    "    )\n",
    "\n",
    "    print(\"Pipeline executed successfully (analize_forward_reverse_CGs_pipeline function)\")\n",
    "    # return CGs_all, C_fwd_df, G_revs_df, padded_reads_df\n",
    "\n",
    "except Exception as e:\n",
    "    print(f\"Error in main pipeline (analize_forward_reverse_CGs_pipeline function): {e}\")\n"
   ]
  },
  {
   "cell_type": "markdown",
   "metadata": {},
   "source": [
    "# Analyze the Edited cells from the same cells other sorted part "
   ]
  },
  {
   "cell_type": "code",
   "execution_count": 11,
   "metadata": {},
   "outputs": [
    {
     "name": "stdout",
     "output_type": "stream",
     "text": [
      "System: Linux\n",
      "Release: 6.8.0-52-generic\n",
      "Version: #53~22.04.1-Ubuntu SMP PREEMPT_DYNAMIC Wed Jan 15 19:18:46 UTC 2\n",
      "Processor: x86_64\n",
      "Python version: 3.11.9 | packaged by conda-forge | (main, Apr 19 2024, 18:36:13) [GCC 12.3.0]\n"
     ]
    }
   ],
   "source": [
    "system_info()\n",
    "\n",
    "experiment_name = \"ThrNone_CROFF90prD6_Tcells_ES_NoFullyUnmethylated_T2Tv2\" \n",
    "\n",
    "# threshold_mC = 0.9 # 0.75 # 0.99\n",
    "bam_path =\"/home/michalula/data/cas9_nanopore/data/20241226_MR_nCATs_TPrES_CROFF90prD6_P2R9/pod5_converted_basecall/5mCG/to_t2t_v2_0/sort_align_t2t_v2_0_trim_20241226_MR_nCATs_TPrES_CROFF90prD6_P2R9.dna_r9.4.1_e8_sup@v3.3.5mCG.bam\"\n",
    "\n",
    "# \"/home/michalula/data/cas9_nanopore/data/20241226_nCATS_K562_ZFPOFFpostSort_HIGH/pod5_converted_basecall/5mCG/to_t2t_v2_0/sort_align_t2t_v2_0_trim_20241226_nCATS_K562_ZFPOFFpostSort_HIGH_R9min_converted_fast5.dna_r9.4.1_e8_sup@v3.3.5mCG.bam\"\n",
    "\n",
    "#  \"/home/michalula/data/cas9_nanopore/data/20241226_nCATS_K562_ZFPOFFpostSort_HIGH/pod5_converted_basecall/5mCG/to_t2t_v1_1/sort_align_t2t_v1_1_trim_20241226_nCATS_K562_ZFPOFFpostSort_HIGH_R9min_converted_fast5.dna_r9.4.1_e8_sup@v3.3.5mCG.bam\"\n",
    "# \"/home/michalula/data/cas9_nanopore/data/20241226_MR_nCATs_TPrES_CROFF90prD6_P2R9/pod5_converted_basecall/5mCG/to_t2t_v1_1/sort_align_t2t_v1_1_trim_20241226_MR_nCATs_TPrES_CROFF90prD6_P2R9.dna_r9.4.1_e8_sup@v3.3.5mCG.bam\"\n",
    "# \"/home/michalula/data/cas9_nanopore/data/20241226_MR_nCATs_TcellsPrES_unedit_P2R9/passed_fast5/5mCG/to_t2t_v1_1/sort_align_trim_20241226_MR_nCATs_TcellsPrES_unedit_P2R9_passed.dna_r9.4.1_e8_sup@v3.3.5mCG.bam\"\n",
    "\n",
    "# date_today = datetime.today().strftime('%Y-%m-%d')\n",
    "# ref_genome_v1_1_file = Path('/home/michalula/data/ref_genomes/to_t2t_v1_1/chm13.draft_v1.1.fasta')\n",
    "# reg_genome_version = \"t2t_v1_1\"\n",
    "# t2t_v1_1_cd55_30bps = 'chr1:206586162-206586192'\n",
    "# region_chr = 'chr1'\n",
    "# region_start = 206586162\n",
    "# # region_end = 206586192\n",
    "# region_str = region_chr + \":\" + str(region_start) + \"-\" + str(region_end) #'chr1:206586162-206586192'\n",
    "# region_length = region_end - region_start\n",
    "# print(\"region_length\", region_length)\n",
    "\n",
    "\n",
    "save_padded_reads_name_np = f\"padded_reads_{experiment_name}_mCthresh{threshold_mC}_{reg_genome_version}_{region_str}_{date_today}.npy\"\n",
    "output_dir = create_output_directory(\"./dimelo_v2_output\")\n"
   ]
  },
  {
   "cell_type": "code",
   "execution_count": 12,
   "metadata": {},
   "outputs": [
    {
     "name": "stdout",
     "output_type": "stream",
     "text": [
      "Region length: 7000\n",
      "No specified number of cores requested. 24 available on machine, allocating all.\n",
      "No valid base modification threshold provided. Raw probs will be saved.\n"
     ]
    },
    {
     "data": {
      "application/vnd.jupyter.widget-view+json": {
       "model_id": "98e6cb493f554063a37cd81bc41e7562",
       "version_major": 2,
       "version_minor": 0
      },
      "text/plain": [
       "          | Step 1: Identify motif locations in up_chm13v2.0.fasta   0% | 00:00"
      ]
     },
     "metadata": {},
     "output_type": "display_data"
    },
    {
     "data": {
      "application/vnd.jupyter.widget-view+json": {
       "model_id": "b9519a6f568a439dbc4bb32f7a4bb72c",
       "version_major": 2,
       "version_minor": 0
      },
      "text/plain": [
       "          | Step 2: Parse regions in sort_align_t2t_v2_0_trim_20241226_MR_nCATs_TPrES_CROFF90prD6_P2R9.dna_r9.…"
      ]
     },
     "metadata": {},
     "output_type": "display_data"
    },
    {
     "data": {
      "application/vnd.jupyter.widget-view+json": {
       "model_id": "2264a81011154cc2a13e09a8631de1db",
       "version_major": 2,
       "version_minor": 0
      },
      "text/plain": [
       "          |    0%"
      ]
     },
     "metadata": {},
     "output_type": "display_data"
    },
    {
     "data": {
      "application/vnd.jupyter.widget-view+json": {
       "model_id": "c299116d73f14973a2f384974da6afc1",
       "version_major": 2,
       "version_minor": 0
      },
      "text/plain": [
       "          | Transferring 10199 from reads.CG,0.txt into reads.combined_basemods.h5, new size 10199   0% | 00:0…"
      ]
     },
     "metadata": {},
     "output_type": "display_data"
    },
    {
     "name": "stdout",
     "output_type": "stream",
     "text": [
      "Plot browser html figure saved to dimelo_v2_output/plot_browser_7000bps_ThrNone_CROFF90prD6_Tcells_ES_NoFullyUnmethylated_T2Tv2_extract_reads_chr1:206583000-206590000.html\n"
     ]
    }
   ],
   "source": [
    "# motifs=['CG,0']\n",
    "# ref_seq_list = get_reference_sequence(ref_genome_v1_1_file, region_chr, region_start, region_end)\n",
    "\n",
    "extract_file, extract_regions, fig_plot_browser = extract_from_bam(\n",
    "    experiment_name=experiment_name,\n",
    "    bam_path=bam_path,\n",
    "    ref_genome_file=ref_genome_path,\n",
    "    output_dir=output_dir,\n",
    "    regions=region_str,\n",
    "    motifs=motifs,\n",
    "    output_name='extracted_reads',\n",
    "    threshold_mC=threshold_mC,\n",
    ")\n"
   ]
  },
  {
   "cell_type": "code",
   "execution_count": 14,
   "metadata": {},
   "outputs": [
    {
     "name": "stdout",
     "output_type": "stream",
     "text": [
      "Error processing extracted reads: No threshold has been applied to this .h5 single read data. You must provide a threshold using the thresh parameter in order to extract binarized modification arrays.\n",
      "Error in visualization: 'NoneType' object has no attribute 'copy'\n",
      "Error creating padded reads matrix: 'NoneType' object is not subscriptable\n"
     ]
    }
   ],
   "source": [
    "# if extract_file:\n",
    "#     reads_df, regions_dict = process_extracted_reads(extract_file, region_str, motifs, ref_seq_list)\n",
    "#     visualize_data(reads_df)\n",
    "\n",
    "#     padded_reads = create_padded_reads(reads_df, regions_dict, region_length)\n",
    "#     if padded_reads is not None:\n",
    "#         plot_padded_reads(padded_reads, ref_seq_list)\n",
    "#         save_padded_reads(padded_reads, output_dir, save_padded_reads_name_np)\n",
    "\n",
    "keep_unmethylated_reads = False\n",
    "if extract_file:\n",
    "    if keep_unmethylated_reads:\n",
    "        reads_df, regions_dict = process_extracted_reads(extract_file, region_str, motifs, ref_seq_list)\n",
    "        visualize_data(reads_df)\n",
    "\n",
    "        padded_reads = create_padded_reads(reads_df, regions_dict, region_length)\n",
    "    else:\n",
    "        reads_df, regions_dict = process_extracted_reads_no_fully_unmethylated(extract_file, region_str, motifs, ref_seq_list)\n",
    "        visualize_data(reads_df)\n",
    "        padded_reads = create_padded_reads_no_fully_unmethylated(reads_df, regions_dict, region_length)\n",
    "    if padded_reads is not None:\n",
    "        plot_padded_reads(padded_reads, ref_seq_list)\n",
    "        save_padded_reads(padded_reads, output_dir, save_padded_reads_name_np)"
   ]
  },
  {
   "cell_type": "code",
   "execution_count": 13,
   "metadata": {},
   "outputs": [
    {
     "name": "stdout",
     "output_type": "stream",
     "text": [
      "region_length 30\n",
      "Region length: 30\n",
      "No specified number of cores requested. 24 available on machine, allocating all.\n",
      "No valid base modification threshold provided. Raw probs will be saved.\n"
     ]
    },
    {
     "data": {
      "application/vnd.jupyter.widget-view+json": {
       "model_id": "e1ee369ce6d144b085c2f12b18397706",
       "version_major": 2,
       "version_minor": 0
      },
      "text/plain": [
       "          | Step 1: Identify motif locations in up_chm13v2.0.fasta   0% | 00:00"
      ]
     },
     "metadata": {},
     "output_type": "display_data"
    },
    {
     "data": {
      "application/vnd.jupyter.widget-view+json": {
       "model_id": "8267ef8a1a4d48a28511be7f4ffbd6c7",
       "version_major": 2,
       "version_minor": 0
      },
      "text/plain": [
       "          | Step 2: Parse regions in sort_align_t2t_v2_0_trim_20241226_MR_nCATs_TPrES_CROFF90prD6_P2R9.dna_r9.…"
      ]
     },
     "metadata": {},
     "output_type": "display_data"
    },
    {
     "data": {
      "application/vnd.jupyter.widget-view+json": {
       "model_id": "d2bac394866c475386c1bd06c70bb8d0",
       "version_major": 2,
       "version_minor": 0
      },
      "text/plain": [
       "          |    0%"
      ]
     },
     "metadata": {},
     "output_type": "display_data"
    },
    {
     "data": {
      "application/vnd.jupyter.widget-view+json": {
       "model_id": "2956cfab3b0643dd97fcb71976a46e98",
       "version_major": 2,
       "version_minor": 0
      },
      "text/plain": [
       "          | Transferring 7643 from reads.CG,0.txt into reads.combined_basemods.h5, new size 7643   0% | 00:00<…"
      ]
     },
     "metadata": {},
     "output_type": "display_data"
    },
    {
     "name": "stdout",
     "output_type": "stream",
     "text": [
      "Plot browser html figure saved to dimelo_v2_output/plot_browser_30bps_ThrNone_CROFF90prD6_Tcells_ES_NoFullyUnmethylated_T2Tv2_extract_reads_chr1:206586162-206586192.html\n"
     ]
    }
   ],
   "source": [
    "# threshold_mC = None # 0 # 0.7 # 0.9 #0.99\n",
    "\n",
    "region_chr = 'chr1'\n",
    "# 30 bps:\n",
    "region_start = 206586162\n",
    "region_end = 206586192\n",
    "\n",
    "# # FULL 7 KB WINDOW: 1:206583000-206590000\n",
    "# region_start = 206583000   # 206586162\n",
    "# region_end = 206590000 # 20658619\n",
    "\n",
    "\n",
    "region_str = region_chr + \":\" + str(region_start) + \"-\" + str(region_end) #'chr1:206586162-206586192'\n",
    "region_length = region_end - region_start\n",
    "print(\"region_length\", region_length)\n",
    "\n",
    "\n",
    "extract_file, extract_regions, fig_plot_browser = extract_from_bam(\n",
    "    experiment_name=experiment_name,\n",
    "    bam_path=bam_path,\n",
    "    ref_genome_file=ref_genome_path,\n",
    "    output_dir=output_dir,\n",
    "    regions=region_str,\n",
    "    motifs=motifs,\n",
    "    output_name='extracted_reads',\n",
    "    threshold_mC=threshold_mC,\n",
    ")"
   ]
  },
  {
   "cell_type": "code",
   "execution_count": 16,
   "metadata": {},
   "outputs": [
    {
     "data": {
      "text/plain": [
       "'ThrNone_CROFF90prD6_Tcells_ES_NoFullyUnmethylated_T2Tv2'"
      ]
     },
     "execution_count": 16,
     "metadata": {},
     "output_type": "execute_result"
    }
   ],
   "source": [
    "experiment_name"
   ]
  },
  {
   "cell_type": "code",
   "execution_count": 17,
   "metadata": {},
   "outputs": [
    {
     "data": {
      "text/plain": [
       "'/home/michalula/data/cas9_nanopore/data/20241226_MR_nCATs_TPrES_CROFF90prD6_P2R9/pod5_converted_basecall/5mCG/to_t2t_v2_0/sort_align_t2t_v2_0_trim_20241226_MR_nCATs_TPrES_CROFF90prD6_P2R9.dna_r9.4.1_e8_sup@v3.3.5mCG.bam'"
      ]
     },
     "execution_count": 17,
     "metadata": {},
     "output_type": "execute_result"
    }
   ],
   "source": [
    "bam_path"
   ]
  },
  {
   "cell_type": "code",
   "execution_count": 18,
   "metadata": {},
   "outputs": [
    {
     "name": "stdout",
     "output_type": "stream",
     "text": [
      "Expend window size by 2 *  50\n",
      "region_length 131\n",
      "Region length: 131\n",
      "No specified number of cores requested. 24 available on machine, allocating all.\n",
      "No valid base modification threshold provided. Raw probs will be saved.\n"
     ]
    },
    {
     "data": {
      "application/vnd.jupyter.widget-view+json": {
       "model_id": "60d8501f47db474cbea45e792c41fe12",
       "version_major": 2,
       "version_minor": 0
      },
      "text/plain": [
       "          | Step 1: Identify motif locations in up_chm13v2.0.fasta   0% | 00:00"
      ]
     },
     "metadata": {},
     "output_type": "display_data"
    },
    {
     "data": {
      "application/vnd.jupyter.widget-view+json": {
       "model_id": "61f61cc2a7684f9c9844c620a6c1b1ad",
       "version_major": 2,
       "version_minor": 0
      },
      "text/plain": [
       "          | Step 2: Parse regions in sort_align_t2t_v2_0_trim_20241226_MR_nCATs_TPrES_CROFF90prD6_P2R9.dna_r9.…"
      ]
     },
     "metadata": {},
     "output_type": "display_data"
    },
    {
     "data": {
      "application/vnd.jupyter.widget-view+json": {
       "model_id": "88a24b7f49cb4b3cb0ea66441ab8a025",
       "version_major": 2,
       "version_minor": 0
      },
      "text/plain": [
       "          |    0%"
      ]
     },
     "metadata": {},
     "output_type": "display_data"
    },
    {
     "data": {
      "application/vnd.jupyter.widget-view+json": {
       "model_id": "8c3058d4bb414c5fb2048ffd6f0b2b4a",
       "version_major": 2,
       "version_minor": 0
      },
      "text/plain": [
       "          | Transferring 8229 from reads.CG,0.txt into reads.combined_basemods.h5, new size 8229   0% | 00:00<…"
      ]
     },
     "metadata": {},
     "output_type": "display_data"
    },
    {
     "name": "stdout",
     "output_type": "stream",
     "text": [
      "Plot browser html figure saved to dimelo_v2_output/plot_browser_131bps_ThrNone_CROFF90prD6_Tcells_ES_NoFullyUnmethylated_T2Tv2_extract_reads_chr1:206586112-206586243.html\n"
     ]
    }
   ],
   "source": [
    "\n",
    "# Expend window size\n",
    "expand_window_size = 50 # 50 #500 #1500 # 0 \n",
    "expand_window_size\n",
    "print(\"Expend window size by 2 * \", expand_window_size)\n",
    "region_start = 206586162 - expand_window_size\n",
    "region_end = 206586192 + expand_window_size + 1\n",
    "\n",
    "\n",
    "region_str = region_chr + \":\" + str(region_start) + \"-\" + str(region_end) #'chr1:206586162-206586192'\n",
    "region_length = region_end - region_start\n",
    "print(\"region_length\", region_length)\n",
    "\n",
    "\n",
    "extract_file, extract_regions, fig_plot_browser = extract_from_bam(\n",
    "    experiment_name=experiment_name,\n",
    "    bam_path=bam_path,\n",
    "    ref_genome_file=ref_genome_path,\n",
    "    output_dir=output_dir,\n",
    "    regions=region_str,\n",
    "    motifs=motifs,\n",
    "    output_name='extracted_reads',\n",
    "    threshold_mC=threshold_mC,\n",
    ")"
   ]
  },
  {
   "cell_type": "code",
   "execution_count": 15,
   "metadata": {},
   "outputs": [
    {
     "name": "stdout",
     "output_type": "stream",
     "text": [
      "Error loading padded reads: [Errno 2] No such file or directory: 'dimelo_v2_output/padded_reads_ThrNone_CROFF90prD6_Tcells_ES_NoFullyUnmethylated_T2Tv2_mCthreshNone_t2t_v2_0_chr1:206583000-206590000_2025-04-01.npy'\n",
      "Error in process pipeline: [Errno 2] No such file or directory: 'dimelo_v2_output/padded_reads_ThrNone_CROFF90prD6_Tcells_ES_NoFullyUnmethylated_T2Tv2_mCthreshNone_t2t_v2_0_chr1:206583000-206590000_2025-04-01.npy'\n",
      "Error in main pipeline (analize_forward_reverse_CGs_pipeline function): [Errno 2] No such file or directory: 'dimelo_v2_output/padded_reads_ThrNone_CROFF90prD6_Tcells_ES_NoFullyUnmethylated_T2Tv2_mCthreshNone_t2t_v2_0_chr1:206583000-206590000_2025-04-01.npy'\n"
     ]
    }
   ],
   "source": [
    "\"\"\"\n",
    "Main pipeline for processing and visualizing CpG units on forward and reverse strands \n",
    "\"\"\"\n",
    "try:\n",
    "    # Define constants\n",
    "    # experiment_name = \"unedited_T_primerES_nCATS\"\n",
    "    # save_folder_path = output_dir # \"/home/michalula/code/epiCausality/epiCode/notebooks/dimelo_v2_output\"\n",
    "    # save_padded_reads_name_np = \"padded_reads.npy\"\n",
    "    # ref_genome_file = \"/home/michalula/data/ref_genomes/to_t2t_v1_1/chm13.draft_v1.1.fasta\"\n",
    "    # region_chr = \"chr1\"\n",
    "    # region_start = 206586162\n",
    "    # region_end = 206586192\n",
    "\n",
    "    # Process pipeline\n",
    "    CGs_all, C_fwd_df, G_revs_df, padded_reads_df, CG_pair_idx, CG_coordinates = analize_forward_reverse_CGs_pipeline(\n",
    "        experiment_name=experiment_name, save_folder_path=output_dir, \n",
    "        save_padded_reads_name_np=save_padded_reads_name_np, \n",
    "        ref_genome_file=ref_genome_path, region_chr=region_chr, region_start=region_start, region_end=region_end\n",
    "    )\n",
    "\n",
    "    print(\"Pipeline executed successfully (analize_forward_reverse_CGs_pipeline function)\")\n",
    "    # return CGs_all, C_fwd_df, G_revs_df, padded_reads_df\n",
    "\n",
    "except Exception as e:\n",
    "    print(f\"Error in main pipeline (analize_forward_reverse_CGs_pipeline function): {e}\")\n"
   ]
  },
  {
   "cell_type": "code",
   "execution_count": null,
   "metadata": {},
   "outputs": [],
   "source": []
  },
  {
   "cell_type": "code",
   "execution_count": null,
   "metadata": {},
   "outputs": [],
   "source": []
  }
 ],
 "metadata": {
  "kernelspec": {
   "display_name": "dimelo_v2_modkit_parsing",
   "language": "python",
   "name": "python3"
  },
  "language_info": {
   "codemirror_mode": {
    "name": "ipython",
    "version": 3
   },
   "file_extension": ".py",
   "mimetype": "text/x-python",
   "name": "python",
   "nbconvert_exporter": "python",
   "pygments_lexer": "ipython3",
   "version": "3.11.9"
  }
 },
 "nbformat": 4,
 "nbformat_minor": 2
}
