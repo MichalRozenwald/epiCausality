{
 "cells": [
  {
   "cell_type": "markdown",
   "id": "5dbe50f9",
   "metadata": {},
   "source": [
    "Based on:\n",
    "https://nanoporetech.github.io/modkit/intro_dmr.html#perform-differential-methylation-scoring"
   ]
  },
  {
   "cell_type": "markdown",
   "id": "5ab1435f",
   "metadata": {},
   "source": [
    "Select kernal: dimelo_v2_modkit_parsing"
   ]
  },
  {
   "cell_type": "markdown",
   "id": "38f3f8ee",
   "metadata": {},
   "source": [
    "Preparing the input data\n",
    "The inputs to all modkit dmr commands are two or more bedMethyl files (created by modkit pileup) that have been compressed with bgzip and indexed with tabix. An example of how to generate the input data is shown below:\n",
    "\n",
    "\n",
    "ref=grch38.fasta\n",
    "threads=32\n",
    "\n",
    "norm=normal_sample.bam\n",
    "norm_pileup=normal_pileup.bed\n",
    "\n",
    "modkit pileup ${norm} ${norm_pileup} \\\n",
    "  --cpg \\\n",
    "  --ref ${ref} \\\n",
    "  --threads ${threads} \\\n",
    "  --log-filepath log.txt\n",
    "\n",
    "bgzip -k ${norm_pileup}\n",
    "tabix -p bed ${norm_pileup}.gz\n",
    "\n",
    "# pileup and compression can also be done in one step\n",
    "tumor=tumor_sample.bam\n",
    "tumor_pileup=tumor_pileup.bed.gz\n",
    "\n",
    "modkit pileup ${tumor} - \\\n",
    "  --cpg \\\n",
    "  --ref ${ref} \\\n",
    "  --threads ${threads} \\\n",
    "  --log-filepath log.txt | ${bgzip} -c > ${tumor_pileup}\n",
    "\n",
    "tabix -p bed ${tumor_pileup}"
   ]
  },
  {
   "cell_type": "code",
   "execution_count": null,
   "id": "4f6e90e9",
   "metadata": {},
   "outputs": [],
   "source": []
  },
  {
   "cell_type": "code",
   "execution_count": null,
   "id": "0237a925",
   "metadata": {},
   "outputs": [
    {
     "name": "stdout",
     "output_type": "stream",
     "text": [
      "hello\n"
     ]
    }
   ],
   "source": [
    "%%bash\n",
    "echo \"hello\""
   ]
  },
  {
   "cell_type": "code",
   "execution_count": null,
   "metadata": {},
   "outputs": [],
   "source": []
  },
  {
   "cell_type": "code",
   "execution_count": 2,
   "id": "3eb16f03",
   "metadata": {},
   "outputs": [],
   "source": [
    "# %%bash\n",
    "\n",
    "# ref=\"/home/michalula/data/ref_genomes/to_t2t_v1_1/chm13.draft_v1.1.fasta\"\n",
    "# threads=32\n",
    "\n",
    "# CROFF_day28_bam=\"/home/michalula/data/cas9_nanopore/data/20250721_nCATs_Tcells_CROFF_Day28/mergered_outputs/sort_merge_sort_align_t2t_v1_1_trim_20250721_nCATs_Tcells_CROFF_Day28_minion_run2_day8.dna_r9.4.1_e8_sup@v3.3.5mCG.bam\"\n",
    "# pileup_CROFF_day28_bam=\"/home/michalula/data/cas9_nanopore/data/20250721_nCATs_Tcells_CROFF_Day28/mergered_outputs/pileup_sort_merge_sort_align_t2t_v1_1_trim_20250721_nCATs_Tcells_CROFF_Day28_minion_run2_day8.dna_r9.4.1_e8_sup@v3.3.5mCG.bam\"\n",
    "\n",
    "# # norm=normal_sample.bam\n",
    "# # norm_pileup=normal_pileup.bed\n",
    "\n",
    "# modkit pileup ${CROFF_day28_bam} ${pileup_CROFF_day28_bam} \\\n",
    "#   --cpg \\\n",
    "#   --ref ${ref} \\\n",
    "#   --threads ${threads} \\\n",
    "#   --log-filepath log.txt\n",
    "\n",
    "# bgzip -k ${pileup_CROFF_day28_bam}\n",
    "# tabix -p bed ${pileup_CROFF_day28_bam}.gz"
   ]
  },
  {
   "cell_type": "code",
   "execution_count": 4,
   "id": "ef97d0aa",
   "metadata": {},
   "outputs": [
    {
     "name": "stderr",
     "output_type": "stream",
     "text": [
      "> calculated chunk size: 48, interval size 100000, processing 4800000 positions concurrently\n",
      "> filtering to only CpG motifs\n",
      "> attempting to sample 10042 reads\n",
      "> failed to get modbase info for record f6395911-a3db-4d70-bbbc-dae289b80dec, Bad Input: invalid MM delta list, Parsing Error: Error { input: \"\", code: Digit }\n",
      "> failed to get modbase info for record 13820a90-6e6f-46b4-a6ba-6f8bfeb42f77, Bad Input: invalid MM delta list, Parsing Error: Error { input: \"\", code: Digit }\n",
      "> failed to get modbase info for record 22af3cd6-42e2-4952-a49a-c6e0a8e4cc1e, Bad Input: invalid MM delta list, Parsing Error: Error { input: \"\", code: Digit }\n",
      "> failed to get modbase info for record c94487ba-4670-43b9-b133-01e1f7282b3d, Bad Input: invalid MM delta list, Parsing Error: Error { input: \"\", code: Digit }\n",
      "> failed to get modbase info for record 7d65a0fa-a6ff-408c-a1fa-bc30b844212c, Bad Input: invalid MM delta list, Parsing Error: Error { input: \"\", code: Digit }\n",
      "> failed to get modbase info for record 75fd7f90-9d3c-4b5c-bd36-ca4972844e43, Bad Input: invalid MM delta list, Parsing Error: Error { input: \"\", code: Digit }\n",
      "> failed to get modbase info for record 829aab4d-e665-437e-b78f-b2f3f9f55782, Bad Input: invalid MM delta list, Parsing Error: Error { input: \"\", code: Digit }\n",
      "> failed to get modbase info for record 1608ae3e-f9c8-4c6f-ae31-f1af7742bfb5, Bad Input: invalid MM delta list, Parsing Error: Error { input: \"\", code: Digit }\n",
      "> failed to get modbase info for record aa509caa-adcc-4345-92cc-859357e5f405, Bad Input: invalid MM delta list, Parsing Error: Error { input: \"\", code: Digit }\n",
      "> failed to get modbase info for record 9f1de09c-bcbc-4af7-a36b-cd1112f82588, Bad Input: invalid MM delta list, Parsing Error: Error { input: \"\", code: Digit }\n",
      "> failed to get modbase info for record b54ea8ac-ac4f-4870-893a-84e62abed9ee, Bad Input: invalid MM delta list, Parsing Error: Error { input: \"\", code: Digit }\n",
      "> failed to get modbase info for record 792b62bc-ebd5-407a-be09-2196b09145bc, Bad Input: invalid MM delta list, Parsing Error: Error { input: \"\", code: Digit }\n",
      "> failed to get modbase info for record 9a887262-4148-471b-8e0f-abbad54c7eee, Bad Input: invalid MM delta list, Parsing Error: Error { input: \"\", code: Digit }\n",
      "> failed to get modbase info for record f9ea8a12-b3b0-4283-97c0-23d558e5528e, Bad Input: invalid MM delta list, Parsing Error: Error { input: \"\", code: Digit }\n",
      "> failed to get modbase info for record fa8db8c1-4638-4254-94e1-9bde11429877, Bad Input: invalid MM delta list, Parsing Error: Error { input: \"\", code: Digit }\n",
      "> failed to get modbase info for record f9cdf41f-8ce5-4667-872e-57fe33490555, Bad Input: invalid MM delta list, Parsing Error: Error { input: \"\", code: Digit }\n",
      "> failed to get modbase info for record c1ca599d-67aa-4ccd-861a-03049528c5a9, Bad Input: invalid MM delta list, Parsing Error: Error { input: \"\", code: Digit }\n",
      "> failed to get modbase info for record c3d312b9-4c12-402c-bd19-7fde5a88a240, Bad Input: invalid MM delta list, Parsing Error: Error { input: \"\", code: Digit }\n",
      "> failed to get modbase info for record 7fa20e30-549a-41b8-b8ea-2015044e49c9, Bad Input: invalid MM delta list, Parsing Error: Error { input: \"\", code: Digit }\n",
      "> failed to get modbase info for record 3f77e15c-486c-4536-897e-5553ee281c71, Bad Input: invalid MM delta list, Parsing Error: Error { input: \"\", code: Digit }\n",
      "> failed to get modbase info for record 6dc2cae6-a000-4d07-89d1-25d7c393f1b3, Bad Input: invalid MM delta list, Parsing Error: Error { input: \"\", code: Digit }\n",
      "> failed to get modbase info for record a8bedca5-6fd1-4994-81b7-498102c3226a, Bad Input: invalid MM delta list, Parsing Error: Error { input: \"\", code: Digit }\n",
      "> failed to get modbase info for record 7255dc81-6be4-4f26-aed4-0253a72bedb1, Bad Input: invalid MM delta list, Parsing Error: Error { input: \"\", code: Digit }\n",
      "> failed to get modbase info for record 50c3da39-8ecd-4feb-9222-f638a3d52843, Bad Input: invalid MM delta list, Parsing Error: Error { input: \"\", code: Digit }\n",
      "> failed to get modbase info for record 7e0bc7f1-3eec-466b-96bb-e0c00fc7ad73, Bad Input: invalid MM delta list, Parsing Error: Error { input: \"\", code: Digit }\n",
      "> failed to get modbase info for record 5e12da47-53c8-4bb7-8ef0-7888a4129acb, Bad Input: invalid MM delta list, Parsing Error: Error { input: \"\", code: Digit }\n",
      "> failed to get modbase info for record 9bb0a356-f50d-447e-bc48-ca200554fd5c, Bad Input: invalid MM delta list, Parsing Error: Error { input: \"\", code: Digit }\n",
      "> failed to get modbase info for record c3fef76f-93c4-425f-9fb0-b625c8c3bcfc, Bad Input: invalid MM delta list, Parsing Error: Error { input: \"\", code: Digit }\n",
      "> failed to get modbase info for record c995fa52-2306-4c6d-874c-9ae89d70953e, Bad Input: invalid MM delta list, Parsing Error: Error { input: \"\", code: Digit }\n",
      "> failed to get modbase info for record cbedb805-737d-4970-bbe4-efdf6845ce6a, Bad Input: invalid MM delta list, Parsing Error: Error { input: \"\", code: Digit }\n",
      "> failed to get modbase info for record 51c66f78-0ee7-47e6-985b-ffad495939cd, Bad Input: invalid MM delta list, Parsing Error: Error { input: \"\", code: Digit }\n",
      "> failed to get modbase info for record 12a4505b-7ab5-4938-a698-a21d72a56919, Bad Input: invalid MM delta list, Parsing Error: Error { input: \"\", code: Digit }\n",
      "> failed to get modbase info for record 25c9b09f-b8aa-468d-b978-b0dce99f0c99, Bad Input: invalid MM delta list, Parsing Error: Error { input: \"\", code: Digit }\n",
      "> failed to get modbase info for record f4a7f315-14e1-4382-876e-a3783e969efb, Bad Input: invalid MM delta list, Parsing Error: Error { input: \"\", code: Digit }\n",
      "> failed to get modbase info for record 84b03740-96b8-410e-ae1c-2b4ec62c3451, Bad Input: invalid MM delta list, Parsing Error: Error { input: \"\", code: Digit }\n",
      "> failed to get modbase info for record 2cfaef42-3901-47a0-90cd-71add8cdf461, Bad Input: invalid MM delta list, Parsing Error: Error { input: \"\", code: Digit }\n",
      "> failed to get modbase info for record 28176e8a-69f8-4e28-924b-211fdd5df582, Bad Input: invalid MM delta list, Parsing Error: Error { input: \"\", code: Digit }\n",
      "> failed to get modbase info for record 6f6820fe-d0b5-4980-958e-7b486f2e1b69, Bad Input: invalid MM delta list, Parsing Error: Error { input: \"\", code: Digit }\n",
      "> failed to get modbase info for record 3b35f35e-95ce-4730-93ee-f46e47155db1, Bad Input: invalid MM delta list, Parsing Error: Error { input: \"\", code: Digit }\n",
      "> failed to get modbase info for record 1eac98ce-a7de-4ee4-8a34-86c7e90f96b2, Bad Input: invalid MM delta list, Parsing Error: Error { input: \"\", code: Digit }\n",
      "> failed to get modbase info for record 4d3b47cd-005a-4bc4-89f1-3dc3adfd49d2, Bad Input: invalid MM delta list, Parsing Error: Error { input: \"\", code: Digit }\n",
      "> failed to get modbase info for record 2ac9b0b8-0c57-4bd2-91ff-6882d5ae440f, Bad Input: invalid MM delta list, Parsing Error: Error { input: \"\", code: Digit }\n",
      "> failed to get modbase info for record 5b7cf07b-5cfd-40f6-b391-014ea676d74a, Bad Input: invalid MM delta list, Parsing Error: Error { input: \"\", code: Digit }\n",
      "> failed to get modbase info for record caabbf5e-5484-4166-9627-85fc9cd0be89, Bad Input: invalid MM delta list, Parsing Error: Error { input: \"\", code: Digit }\n",
      "> failed to get modbase info for record f6983cae-5c80-4418-b2d4-ec1212e34028, Bad Input: invalid MM delta list, Parsing Error: Error { input: \"\", code: Digit }\n",
      "> failed to get modbase info for record 0eab6f77-63aa-4997-acc9-fac724d430dc, Bad Input: invalid MM delta list, Parsing Error: Error { input: \"\", code: Digit }\n",
      "> failed to get modbase info for record 6da57046-a63c-46f3-83e9-aa7e6ed8e0c2, Bad Input: invalid MM delta list, Parsing Error: Error { input: \"\", code: Digit }\n",
      "> failed to get modbase info for record 108aa053-d268-4752-b1fb-23d00f49b098, Bad Input: invalid MM delta list, Parsing Error: Error { input: \"\", code: Digit }\n",
      "> failed to get modbase info for record 8fae90e2-93cc-4174-a332-fe8882b2a9e5, Bad Input: invalid MM delta list, Parsing Error: Error { input: \"\", code: Digit }\n",
      "> failed to get modbase info for record e0ae1c8a-4c91-43b4-96ea-959b707b5a60, Bad Input: invalid MM delta list, Parsing Error: Error { input: \"\", code: Digit }\n",
      "> failed to get modbase info for record 06cb43e8-1c8c-4504-9b4a-05caa4d60e02, Bad Input: invalid MM delta list, Parsing Error: Error { input: \"\", code: Digit }\n",
      "> failed to get modbase info for record 07d7085d-351d-4f90-a285-7f4bc890f80b, Bad Input: invalid MM delta list, Parsing Error: Error { input: \"\", code: Digit }\n",
      "> failed to get modbase info for record c18c27dd-2259-4bcc-8c46-58942d5553ab, Bad Input: invalid MM delta list, Parsing Error: Error { input: \"\", code: Digit }\n",
      "> failed to get modbase info for record 4b6f7ead-d290-4601-bb72-734360d77113, Bad Input: invalid MM delta list, Parsing Error: Error { input: \"\", code: Digit }\n",
      "> failed to get modbase info for record 3b30a3a2-1ab7-4079-aa15-a3773865336b, Bad Input: invalid MM delta list, Parsing Error: Error { input: \"\", code: Digit }\n",
      "> failed to get modbase info for record 80cba892-d358-4f43-93bf-e42f6eab1322, Bad Input: invalid MM delta list, Parsing Error: Error { input: \"\", code: Digit }\n",
      "> failed to get modbase info for record 276cdc14-621b-4168-87fc-de9f7b628b53, Bad Input: invalid MM delta list, Parsing Error: Error { input: \"\", code: Digit }\n",
      "> failed to get modbase info for record 5121b071-767d-4d95-9cb9-ed5502e84ce0, Bad Input: invalid MM delta list, Parsing Error: Error { input: \"\", code: Digit }\n",
      "> failed to get modbase info for record 72642a46-7f55-46a4-aa2c-68422d3e4474, Bad Input: invalid MM delta list, Parsing Error: Error { input: \"\", code: Digit }\n",
      "> failed to get modbase info for record 640b97c5-eec8-4d68-99bc-089303ae6ebb, Bad Input: invalid MM delta list, Parsing Error: Error { input: \"\", code: Digit }\n",
      "> failed to get modbase info for record a73b04cf-7f77-4546-aeba-cdd7d52d8b96, Bad Input: invalid MM delta list, Parsing Error: Error { input: \"\", code: Digit }\n",
      "> failed to get modbase info for record d26c34e7-fa16-458b-9952-06512336b56b, Bad Input: invalid MM delta list, Parsing Error: Error { input: \"\", code: Digit }\n",
      "> failed to get modbase info for record ad547753-4d33-487b-a45e-d4d78d1c9c55, Bad Input: invalid MM delta list, Parsing Error: Error { input: \"\", code: Digit }\n",
      "> failed to get modbase info for record 27be8ef9-6447-456e-a5be-6395ead93b21, Bad Input: invalid MM delta list, Parsing Error: Error { input: \"\", code: Digit }\n",
      "> failed to get modbase info for record 43e28e28-7349-4f66-b409-6b24de20b3ab, Bad Input: invalid MM delta list, Parsing Error: Error { input: \"\", code: Digit }\n",
      "> failed to get modbase info for record 48870db4-7abc-4263-a673-f67de4431549, Bad Input: invalid MM delta list, Parsing Error: Error { input: \"\", code: Digit }\n",
      "> failed to get modbase info for record 4840fd67-4fd1-44dd-9784-c445107bfc96, Bad Input: invalid MM delta list, Parsing Error: Error { input: \"\", code: Digit }\n",
      "> failed to get modbase info for record 15eb5dad-fe27-417b-b6f4-60b265081c34, Bad Input: invalid MM delta list, Parsing Error: Error { input: \"\", code: Digit }\n",
      "> failed to get modbase info for record 13219ef4-e1f3-482b-aea0-add83aaba3f1, Bad Input: invalid MM delta list, Parsing Error: Error { input: \"\", code: Digit }\n",
      "> failed to get modbase info for record 14117ea5-e26a-470a-81bc-b0473629f69c, Bad Input: invalid MM delta list, Parsing Error: Error { input: \"\", code: Digit }\n",
      "> failed to get modbase info for record 3fdd19bb-58d2-432c-8cbb-efd259847dbd, Bad Input: invalid MM delta list, Parsing Error: Error { input: \"\", code: Digit }\n",
      "> failed to get modbase info for record 5a7f35e3-24db-448e-8872-4f54fa5e13e2, Bad Input: invalid MM delta list, Parsing Error: Error { input: \"\", code: Digit }\n",
      "> failed to get modbase info for record 9eb6b92d-e97e-46d8-8dba-67b54e900c8f, Bad Input: invalid MM delta list, Parsing Error: Error { input: \"\", code: Digit }\n",
      "> failed to get modbase info for record 692f9dfd-f882-4cb8-ab04-9327840759e9, Bad Input: invalid MM delta list, Parsing Error: Error { input: \"\", code: Digit }\n",
      "> failed to get modbase info for record 46164c58-2d99-46ec-a427-41e17a8dd18a, Bad Input: invalid MM delta list, Parsing Error: Error { input: \"\", code: Digit }\n",
      "> failed to get modbase info for record 57c8ca30-f41d-4546-9984-f792049e40e7, Bad Input: invalid MM delta list, Parsing Error: Error { input: \"\", code: Digit }\n",
      "> failed to get modbase info for record c45d4551-6951-4041-ab4c-3af59032eb5c, Bad Input: invalid MM delta list, Parsing Error: Error { input: \"\", code: Digit }\n",
      "> failed to get modbase info for record e443e3ae-d0f6-41e1-852e-cdd7349cf6cb, Bad Input: invalid MM delta list, Parsing Error: Error { input: \"\", code: Digit }\n",
      "> failed to get modbase info for record a313d168-40cc-490e-ba30-5632cd994e7e, Bad Input: invalid MM delta list, Parsing Error: Error { input: \"\", code: Digit }\n",
      "> failed to get modbase info for record 87b023e3-a7f9-45b2-b375-a5ffb3f28566, Bad Input: invalid MM delta list, Parsing Error: Error { input: \"\", code: Digit }\n",
      "> failed to get modbase info for record a105859d-c099-4741-8fa0-da76f1f31b90, Bad Input: invalid MM delta list, Parsing Error: Error { input: \"\", code: Digit }\n",
      "> failed to get modbase info for record 6ee2c986-1c49-4666-a942-e56da12432e5, Bad Input: invalid MM delta list, Parsing Error: Error { input: \"\", code: Digit }\n",
      "> failed to get modbase info for record 904ac04d-006b-4a00-b979-3bb1710153e2, Bad Input: invalid MM delta list, Parsing Error: Error { input: \"\", code: Digit }\n",
      "> failed to get modbase info for record 37b76156-d175-41ad-9964-616d7190425e, Bad Input: invalid MM delta list, Parsing Error: Error { input: \"\", code: Digit }\n",
      "> failed to get modbase info for record 34dc9cb2-8c7f-4214-8ca8-0224444d9e5f, Bad Input: invalid MM delta list, Parsing Error: Error { input: \"\", code: Digit }\n",
      "> failed to get modbase info for record 79f3d78e-7988-43e2-accf-ba27c9e7c355, Bad Input: invalid MM delta list, Parsing Error: Error { input: \"\", code: Digit }\n",
      "> failed to get modbase info for record 2193001b-0f68-4c6a-a53a-39913d0ab667, Bad Input: invalid MM delta list, Parsing Error: Error { input: \"\", code: Digit }\n",
      "> failed to get modbase info for record 0dedebc9-c97a-4ef3-9383-51d60e1fe438, Bad Input: invalid MM delta list, Parsing Error: Error { input: \"\", code: Digit }\n",
      "> failed to get modbase info for record 27e28e28-e5cf-45c9-ba67-3fafa8902c13, Bad Input: invalid MM delta list, Parsing Error: Error { input: \"\", code: Digit }\n",
      "> failed to get modbase info for record c4ead12a-5e27-4a0d-a11e-d1f5facf33e9, Bad Input: invalid MM delta list, Parsing Error: Error { input: \"\", code: Digit }\n",
      "> failed to get modbase info for record 4204c3de-ddc8-450a-8691-424ac13d9cde, Bad Input: invalid MM delta list, Parsing Error: Error { input: \"\", code: Digit }\n",
      "> failed to get modbase info for record 4981150d-1f03-4f8d-b6f7-d4d4b2a0bf7c, Bad Input: invalid MM delta list, Parsing Error: Error { input: \"\", code: Digit }\n",
      "> failed to get modbase info for record 72b8b711-c8b6-40d0-a0c0-3e60fdeebbd5, Bad Input: invalid MM delta list, Parsing Error: Error { input: \"\", code: Digit }\n",
      "> failed to get modbase info for record 0f5a1ec8-5cdd-4087-98b0-d445eaa123b1, Bad Input: invalid MM delta list, Parsing Error: Error { input: \"\", code: Digit }\n",
      "> failed to get modbase info for record 3458e350-1380-4f92-8849-014fd20e67ee, Bad Input: invalid MM delta list, Parsing Error: Error { input: \"\", code: Digit }\n",
      "> failed to get modbase info for record fb3a818d-817c-443b-8efd-23ca49b10bb2, Bad Input: invalid MM delta list, Parsing Error: Error { input: \"\", code: Digit }\n",
      "> failed to get modbase info for record 1e2cd7f6-8d43-4373-8947-45803436a74a, Bad Input: invalid MM delta list, Parsing Error: Error { input: \"\", code: Digit }\n",
      "> failed to get modbase info for record 8ac7e916-8d66-4f7c-a547-08802a1f275d, Bad Input: invalid MM delta list, Parsing Error: Error { input: \"\", code: Digit }\n",
      "> failed to get modbase info for record 6d9f34b4-91ee-4706-bd60-aa874a05b7f3, Bad Input: invalid MM delta list, Parsing Error: Error { input: \"\", code: Digit }\n",
      "> failed to get modbase info for record bbac9614-577a-47fb-96c4-bc2796ee94d0, Bad Input: invalid MM delta list, Parsing Error: Error { input: \"\", code: Digit }\n",
      "> failed to get modbase info for record b3ed5426-9026-429f-b47d-b518b2c28b05, Bad Input: invalid MM delta list, Parsing Error: Error { input: \"\", code: Digit }\n",
      "> failed to get modbase info for record 089840cc-18ed-488d-a2a6-d00a66b09663, Bad Input: invalid MM delta list, Parsing Error: Error { input: \"\", code: Digit }\n",
      "> failed to get modbase info for record 35e38306-2b23-4e54-a46a-ed5619d0f449, Bad Input: invalid MM delta list, Parsing Error: Error { input: \"\", code: Digit }\n",
      "> failed to get modbase info for record 73b43ade-d4a6-49df-8577-915f23d785ad, Bad Input: invalid MM delta list, Parsing Error: Error { input: \"\", code: Digit }\n",
      "> failed to get modbase info for record f913d3bb-6dca-4135-b755-49b919c58388, Bad Input: invalid MM delta list, Parsing Error: Error { input: \"\", code: Digit }\n",
      "> failed to get modbase info for record b3588ccd-9ee1-4a81-830e-5ad5c167846a, Bad Input: invalid MM delta list, Parsing Error: Error { input: \"\", code: Digit }\n",
      "> failed to get modbase info for record 46dbf550-0e0c-4c8c-98e1-70fdbf2aed9b, Bad Input: invalid MM delta list, Parsing Error: Error { input: \"\", code: Digit }\n",
      "> failed to get modbase info for record c6a898ff-966e-4f05-a94b-13dd544cce5a, Bad Input: invalid MM delta list, Parsing Error: Error { input: \"\", code: Digit }\n",
      "> failed to get modbase info for record 9287e6cf-d3fd-4a72-b4ed-d73271a254f3, Bad Input: invalid MM delta list, Parsing Error: Error { input: \"\", code: Digit }\n",
      "> failed to get modbase info for record 13cfbcfe-6d9c-4785-b08d-44e0a3d60c7d, Bad Input: invalid MM delta list, Parsing Error: Error { input: \"\", code: Digit }\n",
      "> failed to get modbase info for record 778a44aa-df63-40ea-9f55-64931640b009, Bad Input: invalid MM delta list, Parsing Error: Error { input: \"\", code: Digit }\n",
      "> failed to get modbase info for record 3a6680e1-39db-4057-a3b2-b7510d9e38aa, Bad Input: invalid MM delta list, Parsing Error: Error { input: \"\", code: Digit }\n",
      "> failed to get modbase info for record f9e1b57e-3d89-4ffb-8b27-2fa3b90db0c6, Bad Input: invalid MM delta list, Parsing Error: Error { input: \"\", code: Digit }\n",
      "> failed to get modbase info for record cc53b82e-3d3c-49e5-bf2c-df58ddfdc85f, Bad Input: invalid MM delta list, Parsing Error: Error { input: \"\", code: Digit }\n",
      "> failed to get modbase info for record 98c40c95-6eb6-4675-a9c3-904f6ef0ef47, Bad Input: invalid MM delta list, Parsing Error: Error { input: \"\", code: Digit }\n",
      "> failed to get modbase info for record ee47e075-b1ad-416f-ad01-eb6fee351b78, Bad Input: invalid MM delta list, Parsing Error: Error { input: \"\", code: Digit }\n",
      "> failed to get modbase info for record fa8f5732-87d6-4fec-82d8-6228b4aa7617, Bad Input: invalid MM delta list, Parsing Error: Error { input: \"\", code: Digit }\n",
      "> failed to get modbase info for record 254e9a18-a39e-467f-b244-481b371cc5c9, Bad Input: invalid MM delta list, Parsing Error: Error { input: \"\", code: Digit }\n",
      "> failed to get modbase info for record 189c8a9c-689b-4968-a781-ea474592e4ae, Bad Input: invalid MM delta list, Parsing Error: Error { input: \"\", code: Digit }\n",
      "> failed to get modbase info for record f7c59093-a969-4f96-bab6-8542951ff7eb, Bad Input: invalid MM delta list, Parsing Error: Error { input: \"\", code: Digit }\n",
      "> failed to get modbase info for record 57437f87-92e8-4501-a257-ba3ea995899a, Bad Input: invalid MM delta list, Parsing Error: Error { input: \"\", code: Digit }\n",
      "> failed to get modbase info for record 8c8d7cbe-dc98-49b4-8de1-7934e2b2d7cb, Bad Input: invalid MM delta list, Parsing Error: Error { input: \"\", code: Digit }\n",
      "> failed to get modbase info for record 750ce4f0-d6e9-4903-a7a7-3f15b36f5846, Bad Input: invalid MM delta list, Parsing Error: Error { input: \"\", code: Digit }\n",
      "> failed to get modbase info for record 612d6391-85e9-4ae0-ae83-ab66cb5ef0e4, Bad Input: invalid MM delta list, Parsing Error: Error { input: \"\", code: Digit }\n",
      "> failed to get modbase info for record 64cf4e1b-bc51-49f1-8b06-d2216891d353, Bad Input: invalid MM delta list, Parsing Error: Error { input: \"\", code: Digit }\n",
      "> failed to get modbase info for record 47cf6858-f3d5-4821-9954-ff7557ad2ca2, Bad Input: invalid MM delta list, Parsing Error: Error { input: \"\", code: Digit }\n",
      "> failed to get modbase info for record 3d298102-2fce-4f8c-8e86-4e6cf74d1f84, Bad Input: invalid MM delta list, Parsing Error: Error { input: \"\", code: Digit }\n",
      "> failed to get modbase info for record 0ee4b984-39f6-4486-9d3d-2059bd901358, Bad Input: invalid MM delta list, Parsing Error: Error { input: \"\", code: Digit }\n",
      "> failed to get modbase info for record 625dd0ed-6f27-4bdb-8e70-0fd6dfa8a0be, Bad Input: invalid MM delta list, Parsing Error: Error { input: \"\", code: Digit }\n",
      "> failed to get modbase info for record d78a0b2f-2960-4ee5-ad00-cd3cb3233c29, Bad Input: invalid MM delta list, Parsing Error: Error { input: \"\", code: Digit }\n",
      "> failed to get modbase info for record 945a4cb6-4437-460e-a027-43e8bb237c3c, Bad Input: invalid MM delta list, Parsing Error: Error { input: \"\", code: Digit }\n",
      "> failed to get modbase info for record bcce0ff2-83b2-42b7-9073-30e227c41379, Bad Input: invalid MM delta list, Parsing Error: Error { input: \"\", code: Digit }\n",
      "> failed to get modbase info for record abdb32e7-30b0-4f45-af93-08e0546d87c6, Bad Input: invalid MM delta list, Parsing Error: Error { input: \"\", code: Digit }\n",
      "> failed to get modbase info for record 44df2559-05db-4eac-91d1-69e1a2d0cafa, Bad Input: invalid MM delta list, Parsing Error: Error { input: \"\", code: Digit }\n",
      "> failed to get modbase info for record a90c1b2c-2c91-4f4c-9998-cd042eea6bbb, Bad Input: invalid MM delta list, Parsing Error: Error { input: \"\", code: Digit }\n",
      "> failed to get modbase info for record cdc1c21b-7274-4e6d-bd66-1d34e6f8e51e, Bad Input: invalid MM delta list, Parsing Error: Error { input: \"\", code: Digit }\n",
      "> failed to get modbase info for record aa36e51d-681a-4845-ba5a-08d1c9801307, Bad Input: invalid MM delta list, Parsing Error: Error { input: \"\", code: Digit }\n",
      "> failed to get modbase info for record 190681db-1f8e-4b84-9778-5961760acf42, Bad Input: invalid MM delta list, Parsing Error: Error { input: \"\", code: Digit }\n",
      "> failed to get modbase info for record 261310fe-7628-4b9a-adb4-69fcabddc7e2, Bad Input: invalid MM delta list, Parsing Error: Error { input: \"\", code: Digit }\n",
      "> failed to get modbase info for record dd9ddfbf-b09a-4b5d-be21-6b7dae6bd79f, Bad Input: invalid MM delta list, Parsing Error: Error { input: \"\", code: Digit }\n",
      "> failed to get modbase info for record 6b662d70-06df-4a5a-ae97-7508b5af1c75, Bad Input: invalid MM delta list, Parsing Error: Error { input: \"\", code: Digit }\n",
      "> failed to get modbase info for record e7a47f0b-90df-4670-8342-747c7cd18d0c, Bad Input: invalid MM delta list, Parsing Error: Error { input: \"\", code: Digit }\n",
      "> failed to get modbase info for record f26f5933-aadc-4082-984f-a6c6184bb530, Bad Input: invalid MM delta list, Parsing Error: Error { input: \"\", code: Digit }\n",
      "> failed to get modbase info for record d5cc33a3-5eb3-4757-9f96-78b55ad3ffa9, Bad Input: invalid MM delta list, Parsing Error: Error { input: \"\", code: Digit }\n",
      "> failed to get modbase info for record 5de4cad9-5afe-4f8f-9ac3-4e4d3ee836e0, Bad Input: invalid MM delta list, Parsing Error: Error { input: \"\", code: Digit }\n",
      "> failed to get modbase info for record e70f64cd-0861-4148-94b9-c7fdee34eb1d, Bad Input: invalid MM delta list, Parsing Error: Error { input: \"\", code: Digit }\n",
      "> failed to get modbase info for record dcf6506c-66ff-41cf-ba91-7799984fad2d, Bad Input: invalid MM delta list, Parsing Error: Error { input: \"\", code: Digit }\n",
      "> failed to get modbase info for record 6b515554-0038-4cd4-bcae-a1b52f851675, Bad Input: invalid MM delta list, Parsing Error: Error { input: \"\", code: Digit }\n",
      "> failed to get modbase info for record 621e3b40-a3a4-4d75-a866-1825e7f463fb, Bad Input: invalid MM delta list, Parsing Error: Error { input: \"\", code: Digit }\n",
      "> failed to get modbase info for record 75e433f3-eb6c-4c3b-83d4-42e61c74fcb3, Bad Input: invalid MM delta list, Parsing Error: Error { input: \"\", code: Digit }\n",
      "> failed to get modbase info for record a21f3349-3261-4dd0-9023-40e59a8aba56, Bad Input: invalid MM delta list, Parsing Error: Error { input: \"\", code: Digit }\n",
      "> failed to get modbase info for record 7352c948-fbf8-4c90-8dc7-c78bcf74cd19, Bad Input: invalid MM delta list, Parsing Error: Error { input: \"\", code: Digit }\n",
      "> failed to get modbase info for record 6d33d4d3-61f5-42db-b905-6db5759a187b, Bad Input: invalid MM delta list, Parsing Error: Error { input: \"\", code: Digit }\n",
      "> failed to get modbase info for record 4a7ddcab-0e44-46d8-9ef6-6f36f7688ee5, Bad Input: invalid MM delta list, Parsing Error: Error { input: \"\", code: Digit }\n",
      "> failed to get modbase info for record 37a1f1be-ac0c-4ad2-86ba-1db30e3241a0, Bad Input: invalid MM delta list, Parsing Error: Error { input: \"\", code: Digit }\n",
      "> failed to get modbase info for record 02e98975-8a8c-4d9c-866b-23aa1c716167, Bad Input: invalid MM delta list, Parsing Error: Error { input: \"\", code: Digit }\n",
      "> failed to get modbase info for record c5ca3b81-4fc7-40f8-8e2d-9ab32cc2fd54, Bad Input: invalid MM delta list, Parsing Error: Error { input: \"\", code: Digit }\n",
      "> failed to get modbase info for record 12af11ce-df09-40d2-89cf-add99c5f95ca, Bad Input: invalid MM delta list, Parsing Error: Error { input: \"\", code: Digit }\n",
      "> failed to get modbase info for record 9d46b592-f495-45e7-a8ef-f923d51d785f, Bad Input: invalid MM delta list, Parsing Error: Error { input: \"\", code: Digit }\n",
      "> failed to get modbase info for record f3902e5e-d24e-419b-9e38-be0deba6b642, Bad Input: invalid MM delta list, Parsing Error: Error { input: \"\", code: Digit }\n",
      "> failed to get modbase info for record 6ddaede1-8005-4a90-95aa-003ed9355832, Bad Input: invalid MM delta list, Parsing Error: Error { input: \"\", code: Digit }\n",
      "> failed to get modbase info for record 9ba362d7-155e-4e05-8c0c-6549557cd3d1, Bad Input: invalid MM delta list, Parsing Error: Error { input: \"\", code: Digit }\n",
      "> failed to get modbase info for record 5941b443-8bb1-4599-a3c8-db1b6e902de1, Bad Input: invalid MM delta list, Parsing Error: Error { input: \"\", code: Digit }\n",
      "> failed to get modbase info for record c07da4dc-6aea-4f5a-a7b7-d22e621d894c, Bad Input: invalid MM delta list, Parsing Error: Error { input: \"\", code: Digit }\n",
      "> failed to get modbase info for record c1fdc5bd-3176-46be-81e9-3271972406c5, Bad Input: invalid MM delta list, Parsing Error: Error { input: \"\", code: Digit }\n",
      "> failed to get modbase info for record 236637aa-d8fb-4d2d-903b-a4397bf93310, Bad Input: invalid MM delta list, Parsing Error: Error { input: \"\", code: Digit }\n",
      "> failed to get modbase info for record 77aba27b-651f-4e3f-8a06-a280609154e9, Bad Input: invalid MM delta list, Parsing Error: Error { input: \"\", code: Digit }\n",
      "> failed to get modbase info for record 21c0ce6d-1faa-4340-913b-ae93edb523b8, Bad Input: invalid MM delta list, Parsing Error: Error { input: \"\", code: Digit }\n",
      "> failed to get modbase info for record 0c7f356b-a5de-496f-a196-cbd789b68b3c, Bad Input: invalid MM delta list, Parsing Error: Error { input: \"\", code: Digit }\n",
      "> failed to get modbase info for record 9fc94891-1b71-4646-9a57-f4241fb5ae9a, Bad Input: invalid MM delta list, Parsing Error: Error { input: \"\", code: Digit }\n",
      "> failed to get modbase info for record 76325559-b9f3-4711-a1cb-2df0d7d9cdfb, Bad Input: invalid MM delta list, Parsing Error: Error { input: \"\", code: Digit }\n",
      "> failed to get modbase info for record b51149e8-1f03-4d51-a704-5fe2e6c299aa, Bad Input: invalid MM delta list, Parsing Error: Error { input: \"\", code: Digit }\n",
      "> failed to get modbase info for record c7435fa1-a608-4e7e-9947-b48ea4d1b89a, Bad Input: invalid MM delta list, Parsing Error: Error { input: \"\", code: Digit }\n",
      "> failed to get modbase info for record 47cf1b06-6a2c-4246-86da-f919895e491f, Bad Input: invalid MM delta list, Parsing Error: Error { input: \"\", code: Digit }\n",
      "> failed to get modbase info for record 6fdc6baf-e8e5-4ac9-a770-9888c5316d53, Bad Input: invalid MM delta list, Parsing Error: Error { input: \"\", code: Digit }\n",
      "> failed to get modbase info for record ab59d64b-69c0-4c73-b449-0cca506c9a55, Bad Input: invalid MM delta list, Parsing Error: Error { input: \"\", code: Digit }\n",
      "> failed to get modbase info for record 129bcbb2-6903-49c8-aaab-29b527277f96, Bad Input: invalid MM delta list, Parsing Error: Error { input: \"\", code: Digit }\n",
      "> failed to get modbase info for record 9d22d905-7c86-45b7-9f57-0eac843f08eb, Bad Input: invalid MM delta list, Parsing Error: Error { input: \"\", code: Digit }\n",
      "> failed to get modbase info for record 474787f5-383a-4062-9061-38dfc44a70ea, Bad Input: invalid MM delta list, Parsing Error: Error { input: \"\", code: Digit }\n",
      "> failed to get modbase info for record 3c290f37-82b7-4d7a-ba7b-c946a25ff2f0, Bad Input: invalid MM delta list, Parsing Error: Error { input: \"\", code: Digit }\n",
      "> failed to get modbase info for record 4c9dd0e7-9807-4344-9f2e-5b1b1b765728, Bad Input: invalid MM delta list, Parsing Error: Error { input: \"\", code: Digit }\n",
      "> failed to get modbase info for record 6ac06350-f249-46c9-9217-8f1de68d895e, Bad Input: invalid MM delta list, Parsing Error: Error { input: \"\", code: Digit }\n",
      "> failed to get modbase info for record decdee78-9fa3-4f96-935d-0141aaef3cfe, Bad Input: invalid MM delta list, Parsing Error: Error { input: \"\", code: Digit }\n",
      "> failed to get modbase info for record 097d3b21-41d4-414e-a138-4ed443eb05aa, Bad Input: invalid MM delta list, Parsing Error: Error { input: \"\", code: Digit }\n",
      "> failed to get modbase info for record 3f62c33f-8dc7-4066-9b09-86c02d673f47, Bad Input: invalid MM delta list, Parsing Error: Error { input: \"\", code: Digit }\n",
      "> failed to get modbase info for record 1e1798ff-e2da-43e2-a9a1-4b9556ed0c38, Bad Input: invalid MM delta list, Parsing Error: Error { input: \"\", code: Digit }\n",
      "> failed to get modbase info for record 5e460960-2ae0-48f3-9ee1-66f4c5d5daf6, Bad Input: invalid MM delta list, Parsing Error: Error { input: \"\", code: Digit }\n",
      "> failed to get modbase info for record 9534bbb9-c46d-40a1-81ec-33034f6c5890, Bad Input: invalid MM delta list, Parsing Error: Error { input: \"\", code: Digit }\n",
      "> failed to get modbase info for record ea0b96a4-a280-44d3-9926-8e1c829fcb4d, Bad Input: invalid MM delta list, Parsing Error: Error { input: \"\", code: Digit }\n",
      "> failed to get modbase info for record 7b2f33e1-eb98-4337-b981-2953b8fd11b9, Bad Input: invalid MM delta list, Parsing Error: Error { input: \"\", code: Digit }\n",
      "> failed to get modbase info for record 62fa31d3-bdeb-4b94-bce4-058281e3ce60, Bad Input: invalid MM delta list, Parsing Error: Error { input: \"\", code: Digit }\n",
      "> failed to get modbase info for record 5fde9aa4-6e97-4251-8fba-b35671e79375, Bad Input: invalid MM delta list, Parsing Error: Error { input: \"\", code: Digit }\n",
      "> failed to get modbase info for record d257b4d5-39c5-44ad-a413-f90ad2e8f766, Bad Input: invalid MM delta list, Parsing Error: Error { input: \"\", code: Digit }\n",
      "> failed to get modbase info for record b0ff3af6-1c42-4ae2-a09d-70619ef4977c, Bad Input: invalid MM delta list, Parsing Error: Error { input: \"\", code: Digit }\n",
      "> failed to get modbase info for record 39c19b45-1cf8-4ad0-80ac-64ebff055561, Bad Input: invalid MM delta list, Parsing Error: Error { input: \"\", code: Digit }\n",
      "> failed to get modbase info for record 773ae185-9d06-418a-8633-c5eb04c9f937, Bad Input: invalid MM delta list, Parsing Error: Error { input: \"\", code: Digit }\n",
      "> failed to get modbase info for record 86ac5c84-73b1-4870-b0ff-4c583e3ecf62, Bad Input: invalid MM delta list, Parsing Error: Error { input: \"\", code: Digit }\n",
      "> failed to get modbase info for record 4759315f-3c69-4865-b66c-3dfa2b438a87, Bad Input: invalid MM delta list, Parsing Error: Error { input: \"\", code: Digit }\n",
      "> failed to get modbase info for record 0d580387-2828-4fa1-a4af-fd5bdf56da01, Bad Input: invalid MM delta list, Parsing Error: Error { input: \"\", code: Digit }\n",
      "> failed to get modbase info for record a8e41f0e-b6be-455a-9b26-c4e03a970f01, Bad Input: invalid MM delta list, Parsing Error: Error { input: \"\", code: Digit }\n",
      "> failed to get modbase info for record 409986b1-680e-4eb0-861a-82f640f3b103, Bad Input: invalid MM delta list, Parsing Error: Error { input: \"\", code: Digit }\n",
      "> failed to get modbase info for record a6b632a9-dfaa-4cff-816e-d7bffc335739, Bad Input: invalid MM delta list, Parsing Error: Error { input: \"\", code: Digit }\n",
      "> failed to get modbase info for record c5734bc6-111b-4d54-b780-660f04b0da18, Bad Input: invalid MM delta list, Parsing Error: Error { input: \"\", code: Digit }\n",
      "> failed to get modbase info for record 8fc9a5a2-300e-4c39-9cae-1802359c052f, Bad Input: invalid MM delta list, Parsing Error: Error { input: \"\", code: Digit }\n",
      "> failed to get modbase info for record 6b2bc6db-18ac-4b29-ab30-551ef1e3cf66, Bad Input: invalid MM delta list, Parsing Error: Error { input: \"\", code: Digit }\n",
      "> failed to get modbase info for record 443ddba1-d96c-4c8d-8228-42c0e4f4ed06, Bad Input: invalid MM delta list, Parsing Error: Error { input: \"\", code: Digit }\n",
      "> failed to get modbase info for record 360de123-4a09-4f03-a1d3-5ac9d6156eff, Bad Input: invalid MM delta list, Parsing Error: Error { input: \"\", code: Digit }\n",
      "> failed to get modbase info for record b43720d9-e9f6-408c-afeb-8400c1ba5d14, Bad Input: invalid MM delta list, Parsing Error: Error { input: \"\", code: Digit }\n",
      "> failed to get modbase info for record 4775dda4-6526-4d78-8c2d-f8ef19c29e0d, Bad Input: invalid MM delta list, Parsing Error: Error { input: \"\", code: Digit }\n",
      "> failed to get modbase info for record 4fa220fe-68a9-434d-a086-adaddf38c272, Bad Input: invalid MM delta list, Parsing Error: Error { input: \"\", code: Digit }\n",
      "> failed to get modbase info for record 08a9a5be-56e9-4cf1-8ce7-aacc797faab0, Bad Input: invalid MM delta list, Parsing Error: Error { input: \"\", code: Digit }\n",
      "> failed to get modbase info for record 8d8ca561-2fec-478a-8329-a80e15542a48, Bad Input: invalid MM delta list, Parsing Error: Error { input: \"\", code: Digit }\n",
      "> failed to get modbase info for record d80faf07-fdcc-4351-8ab6-a1c2441761fd, Bad Input: invalid MM delta list, Parsing Error: Error { input: \"\", code: Digit }\n",
      "> failed to get modbase info for record f13eae9d-f36e-44d0-a4b9-cbe1e93847eb, Bad Input: invalid MM delta list, Parsing Error: Error { input: \"\", code: Digit }\n",
      "> failed to get modbase info for record deed3fc5-fde4-414d-bda9-3d8ed228d2f9, Bad Input: invalid MM delta list, Parsing Error: Error { input: \"\", code: Digit }\n",
      "> failed to get modbase info for record 9d0dd8fa-dd8e-4f8e-a7ec-68a7c58eec3e, Bad Input: invalid MM delta list, Parsing Error: Error { input: \"\", code: Digit }\n",
      "> failed to get modbase info for record 8b37cd4a-3253-4cbd-ade8-46a4b187ff52, Bad Input: invalid MM delta list, Parsing Error: Error { input: \"\", code: Digit }\n",
      "> failed to get modbase info for record c537edb4-2699-4432-8835-46f3d0c80f5c, Bad Input: invalid MM delta list, Parsing Error: Error { input: \"\", code: Digit }\n",
      "> failed to get modbase info for record 2ed4187b-172a-49ee-9893-112c3ec48b08, Bad Input: invalid MM delta list, Parsing Error: Error { input: \"\", code: Digit }\n",
      "> failed to get modbase info for record d6c91a1b-cc27-4faa-9703-c60c409e177e, Bad Input: invalid MM delta list, Parsing Error: Error { input: \"\", code: Digit }\n",
      "> failed to get modbase info for record 73702a8c-7d75-4adb-bb91-092d2fe08f87, Bad Input: invalid MM delta list, Parsing Error: Error { input: \"\", code: Digit }\n",
      "> failed to get modbase info for record 6bd0d274-a4f5-4ffe-a332-6c8238593f0a, Bad Input: invalid MM delta list, Parsing Error: Error { input: \"\", code: Digit }\n",
      "> failed to get modbase info for record 6010accb-d704-4bca-b179-3723b6e68a11, Bad Input: invalid MM delta list, Parsing Error: Error { input: \"\", code: Digit }\n",
      "> failed to get modbase info for record 7021a29f-b414-485a-a9b8-62c40e1c8516, Bad Input: invalid MM delta list, Parsing Error: Error { input: \"\", code: Digit }\n",
      "> failed to get modbase info for record 8cff16d3-6707-440a-9040-d07a95dcbc9a, Bad Input: invalid MM delta list, Parsing Error: Error { input: \"\", code: Digit }\n",
      "> failed to get modbase info for record 11bcbedb-42af-4530-add6-f04ecaa4292c, Bad Input: invalid MM delta list, Parsing Error: Error { input: \"\", code: Digit }\n",
      "> failed to get modbase info for record d687caef-896e-43d7-9dbc-675816124663, Bad Input: invalid MM delta list, Parsing Error: Error { input: \"\", code: Digit }\n",
      "> failed to get modbase info for record 0727145c-41ed-4239-82fa-605f6c2b447e, Bad Input: invalid MM delta list, Parsing Error: Error { input: \"\", code: Digit }\n",
      "> failed to get modbase info for record dcf5c4fc-ea8b-405c-b99a-15751e87a10d, Bad Input: invalid MM delta list, Parsing Error: Error { input: \"\", code: Digit }\n",
      "> failed to get modbase info for record 97121aae-1706-4fb7-9814-1d7cadfe76d0, Bad Input: invalid MM delta list, Parsing Error: Error { input: \"\", code: Digit }\n",
      "> failed to get modbase info for record e017cd44-2e7f-49c1-b560-801aa6bb9761, Bad Input: invalid MM delta list, Parsing Error: Error { input: \"\", code: Digit }\n",
      "> failed to get modbase info for record d2366327-1c9d-48c6-97d0-1a0abb7bb666, Bad Input: invalid MM delta list, Parsing Error: Error { input: \"\", code: Digit }\n",
      "> failed to get modbase info for record e845b15f-ed1d-4e56-af26-da88c527c993, Bad Input: invalid MM delta list, Parsing Error: Error { input: \"\", code: Digit }\n",
      "> failed to get modbase info for record 5232751f-cb45-493a-9c32-556e8ab4fc89, Bad Input: invalid MM delta list, Parsing Error: Error { input: \"\", code: Digit }\n",
      "> Threshold of 0.6621094 for base C is low. Consider increasing the filter-percentile or specifying a higher threshold.\n",
      "> Done, processed 616974 rows. Processed ~10727 reads and skipped ~125 reads.\n"
     ]
    }
   ],
   "source": [
    "%%bash\n",
    "\n",
    "ref_genome_fa=\"/home/michalula/data/ref_genomes/t2t_v2_0/chm13v2.0.fa\"\n",
    "# ref= \"/home/michalula/data/ref_genomes/to_t2t_v1_1/chm13.draft_v1.1.fasta\"\n",
    "\n",
    "threads=32\n",
    "\n",
    "\n",
    "CROFF_day28_bam=\"/home/michalula/data/cas9_nanopore/data/20250721_nCATs_Tcells_CROFF_Day28/mergered_outputs/5mCG/to_t2t_v2_0/sort_align_t2t_v2_0_trim_20250721_Day28_CROFF_T_cells_minion_merged_flowcells_output.dna_r9.4.1_e8_sup@v3.3.5mCG.bam\"\n",
    "pileup_CROFF_day28_bam=\"/home/michalula/data/cas9_nanopore/data/20250721_nCATs_Tcells_CROFF_Day28/mergered_outputs/5mCG/to_t2t_v2_0/pileup_CROFF_Day28_Tcells_20250721.bam\"\n",
    "# \"/home/michalula/data/cas9_nanopore/data/20250721_nCATs_Tcells_CROFF_Day28/mergered_outputs/pileup_sort_merge_sort_align_t2t_v1_1_trim_20250721_nCATs_Tcells_CROFF_Day28_minion_run2_day8.dna_r9.4.1_e8_sup@v3.3.5mCG.bam\"\n",
    "\n",
    "# norm=normal_sample.bam\n",
    "# norm_pileup=normal_pileup.bed\n",
    "\n",
    "modkit pileup ${CROFF_day28_bam} ${pileup_CROFF_day28_bam} \\\n",
    "  --cpg \\\n",
    "  --ref ${ref_genome_fa} \\\n",
    "  --threads ${threads} \\\n",
    "  --log-filepath log.txt\n",
    "\n",
    "bgzip -k ${pileup_CROFF_day28_bam}\n",
    "tabix -p bed ${pileup_CROFF_day28_bam}.gz\n"
   ]
  },
  {
   "cell_type": "markdown",
   "id": "0e59607f",
   "metadata": {},
   "source": [
    "<!>\n",
    "> Threshold of 0.6621094 for base C is low. Consider increasing the filter-percentile or specifying a higher threshold.\n",
    "> Done, processed 616974 rows. Processed ~10727 reads and skipped ~125 reads."
   ]
  },
  {
   "cell_type": "code",
   "execution_count": 13,
   "id": "fabeeaa1",
   "metadata": {},
   "outputs": [
    {
     "name": "stderr",
     "output_type": "stream",
     "text": [
      "mkdir: cannot create directory ‘/home/michalula/data/cas9_nanopore/data/20250721_nCATs_Tcells_UNEDITED_Day28/merged_outputs/5mCG/to_t2t_v2_0/pileup’: File exists\n",
      "> calculated chunk size: 48, interval size 100000, processing 4800000 positions concurrently\n",
      "> filtering to only CpG motifs\n",
      "> attempting to sample 10042 reads\n",
      "> failed to get modbase info for record 02866349-9f01-4302-9a1c-708042ab1756, Bad Input: invalid MM delta list, Parsing Error: Error { input: \"\", code: Digit }\n",
      "> failed to get modbase info for record 81342b67-3ffb-432f-967c-cbd4f5f6fd23, Bad Input: invalid MM delta list, Parsing Error: Error { input: \"\", code: Digit }\n",
      "> failed to get modbase info for record c6a4eb69-74f6-4cc7-a0b2-a818bef21c3a, Bad Input: invalid MM delta list, Parsing Error: Error { input: \"\", code: Digit }\n",
      "> failed to get modbase info for record d64f46b8-658e-44ca-a77d-f3ad558b0a1e, Bad Input: invalid MM delta list, Parsing Error: Error { input: \"\", code: Digit }\n",
      "> failed to get modbase info for record f5ec4f2e-355c-4e07-a439-71b74a60109f, Bad Input: invalid MM delta list, Parsing Error: Error { input: \"\", code: Digit }\n",
      "> failed to get modbase info for record 04d90c73-5027-40e1-aa06-7884fdbe50d4, Bad Input: invalid MM delta list, Parsing Error: Error { input: \"\", code: Digit }\n",
      "> failed to get modbase info for record 2b00e0c6-0f10-4529-92d2-8a78677e500b, Bad Input: invalid MM delta list, Parsing Error: Error { input: \"\", code: Digit }\n",
      "> failed to get modbase info for record 18598aef-c5f2-4b4d-ad1b-9548fdece5e8, Bad Input: invalid MM delta list, Parsing Error: Error { input: \"\", code: Digit }\n",
      "> failed to get modbase info for record 90143ed1-de6f-467e-bce7-806c4533892e, Bad Input: invalid MM delta list, Parsing Error: Error { input: \"\", code: Digit }\n",
      "> failed to get modbase info for record 43cd2c92-5991-4818-88b8-d2e508b5fb73, Bad Input: invalid MM delta list, Parsing Error: Error { input: \"\", code: Digit }\n",
      "> failed to get modbase info for record 85e799ec-6159-4bb9-bc9f-0b8122e6c3be, Bad Input: invalid MM delta list, Parsing Error: Error { input: \"\", code: Digit }\n",
      "> failed to get modbase info for record 431b2940-8de7-4d77-b215-4138fb593f88, Bad Input: invalid MM delta list, Parsing Error: Error { input: \"\", code: Digit }\n",
      "> failed to get modbase info for record 50ddaf48-6bd4-4329-a28b-cfd5ba1df7e4, Bad Input: invalid MM delta list, Parsing Error: Error { input: \"\", code: Digit }\n",
      "> failed to get modbase info for record d93875b8-870a-4a16-8f9f-4135776c0d68, Bad Input: invalid MM delta list, Parsing Error: Error { input: \"\", code: Digit }\n",
      "> failed to get modbase info for record c80fe139-6ae4-45b6-ba2b-2af6d61f71e3, Bad Input: invalid MM delta list, Parsing Error: Error { input: \"\", code: Digit }\n",
      "> failed to get modbase info for record bb595193-45fa-4662-b4ea-c0f63f1479ed, Bad Input: invalid MM delta list, Parsing Error: Error { input: \"\", code: Digit }\n",
      "> failed to get modbase info for record 0adaa275-d4af-461b-acb7-83b925347930, Bad Input: invalid MM delta list, Parsing Error: Error { input: \"\", code: Digit }\n",
      "> failed to get modbase info for record 38a9c91a-c998-4d97-9b54-cb4f5954ded1, Bad Input: invalid MM delta list, Parsing Error: Error { input: \"\", code: Digit }\n",
      "> failed to get modbase info for record fba67fbb-47dc-4a3d-a415-f10b69c698a6, Bad Input: invalid MM delta list, Parsing Error: Error { input: \"\", code: Digit }\n",
      "> failed to get modbase info for record 03c6bad0-2a0b-4886-b9b8-5ad97bb6763e, Bad Input: invalid MM delta list, Parsing Error: Error { input: \"\", code: Digit }\n",
      "> failed to get modbase info for record 4449cc2e-918c-45b0-ac12-b58880cf4ccd, Bad Input: invalid MM delta list, Parsing Error: Error { input: \"\", code: Digit }\n",
      "> failed to get modbase info for record 94e72f1c-cdb1-4563-9f31-7860145fd0b5, Bad Input: invalid MM delta list, Parsing Error: Error { input: \"\", code: Digit }\n",
      "> failed to get modbase info for record 954ce772-7e0b-4ec5-bf8f-92a7389ee498, Bad Input: invalid MM delta list, Parsing Error: Error { input: \"\", code: Digit }\n",
      "> failed to get modbase info for record e02e1bf1-a9bf-42c2-b0a7-f04b5b4d125f, Bad Input: invalid MM delta list, Parsing Error: Error { input: \"\", code: Digit }\n",
      "> failed to get modbase info for record ad068dad-ce6c-407f-8f85-5c201a7097c3, Bad Input: invalid MM delta list, Parsing Error: Error { input: \"\", code: Digit }\n",
      "> failed to get modbase info for record 9450f590-1b57-4cf6-a116-de1cc55b778a, Bad Input: invalid MM delta list, Parsing Error: Error { input: \"\", code: Digit }\n",
      "> failed to get modbase info for record 5806cff7-42fc-40bc-919e-79c864135f7d, Bad Input: invalid MM delta list, Parsing Error: Error { input: \"\", code: Digit }\n",
      "> failed to get modbase info for record ba15c667-48f1-4cef-b140-5cdbd8e62478, Bad Input: invalid MM delta list, Parsing Error: Error { input: \"\", code: Digit }\n",
      "> failed to get modbase info for record 2a90b1e8-7482-428d-8f0a-c0d22f09fc54, Bad Input: invalid MM delta list, Parsing Error: Error { input: \"\", code: Digit }\n",
      "> failed to get modbase info for record c98c8415-93d7-484b-a1ed-4ad29dd81334, Bad Input: invalid MM delta list, Parsing Error: Error { input: \"\", code: Digit }\n",
      "> failed to get modbase info for record 7228de08-8527-440c-b13f-063d71b3c798, Bad Input: invalid MM delta list, Parsing Error: Error { input: \"\", code: Digit }\n",
      "> failed to get modbase info for record 1dc7d29b-0cf5-4fa9-99ef-9f0af7e984d6, Bad Input: invalid MM delta list, Parsing Error: Error { input: \"\", code: Digit }\n",
      "> failed to get modbase info for record f74388b3-c8da-43c3-a1af-22bba1f5a6f5, Bad Input: invalid MM delta list, Parsing Error: Error { input: \"\", code: Digit }\n",
      "> failed to get modbase info for record 709fa0ac-1363-422a-9171-acca957141d7, Bad Input: invalid MM delta list, Parsing Error: Error { input: \"\", code: Digit }\n",
      "> failed to get modbase info for record 6d969ab2-7bc0-4c04-bd4f-6d09e63887e4, Bad Input: invalid MM delta list, Parsing Error: Error { input: \"\", code: Digit }\n",
      "> failed to get modbase info for record f51911d7-140e-4513-ba8a-47c72c910f9c, Bad Input: invalid MM delta list, Parsing Error: Error { input: \"\", code: Digit }\n",
      "> failed to get modbase info for record 08c2a7de-fe9d-44cc-949b-383bb240b5f6, Bad Input: invalid MM delta list, Parsing Error: Error { input: \"\", code: Digit }\n",
      "> failed to get modbase info for record ff5f5011-cf61-4ed7-a742-539d2ccbf9fb, Bad Input: invalid MM delta list, Parsing Error: Error { input: \"\", code: Digit }\n",
      "> failed to get modbase info for record bbbda2c1-575a-4d63-87e6-de0b2df8893a, Bad Input: invalid MM delta list, Parsing Error: Error { input: \"\", code: Digit }\n",
      "> failed to get modbase info for record 429265e1-5f50-4181-b3af-375a13427540, Bad Input: invalid MM delta list, Parsing Error: Error { input: \"\", code: Digit }\n",
      "> failed to get modbase info for record 0842f7b7-89da-419a-a54f-027c471feb65, Bad Input: invalid MM delta list, Parsing Error: Error { input: \"\", code: Digit }\n",
      "> failed to get modbase info for record 893e2f64-6e05-44f2-b284-bfe54e6713ee, Bad Input: invalid MM delta list, Parsing Error: Error { input: \"\", code: Digit }\n",
      "> failed to get modbase info for record e9df7ca8-dab5-4819-ad3f-e475fffc079a, Bad Input: invalid MM delta list, Parsing Error: Error { input: \"\", code: Digit }\n",
      "> failed to get modbase info for record 6a6a312f-cfd1-4288-b3a2-9df130b4f64f, Bad Input: invalid MM delta list, Parsing Error: Error { input: \"\", code: Digit }\n",
      "> failed to get modbase info for record b0891369-3621-4672-a9ba-1ce2aba286a0, Bad Input: invalid MM delta list, Parsing Error: Error { input: \"\", code: Digit }\n",
      "> failed to get modbase info for record efab7f56-eed5-4077-b04e-1039bce8726d, Bad Input: invalid MM delta list, Parsing Error: Error { input: \"\", code: Digit }\n",
      "> failed to get modbase info for record 7a0aa124-88ea-4052-bb3a-06df7789bcdb, Bad Input: invalid MM delta list, Parsing Error: Error { input: \"\", code: Digit }\n",
      "> failed to get modbase info for record 2efe9a2d-0f61-42d8-99b4-ccfe58abe2e1, Bad Input: invalid MM delta list, Parsing Error: Error { input: \"\", code: Digit }\n",
      "> failed to get modbase info for record 1ac5e8ce-ce3a-4723-9ed2-1b26baf4f900, Bad Input: invalid MM delta list, Parsing Error: Error { input: \"\", code: Digit }\n",
      "> failed to get modbase info for record 38115b92-f112-4b01-ba13-9e85703b4ddd, Bad Input: invalid MM delta list, Parsing Error: Error { input: \"\", code: Digit }\n",
      "> failed to get modbase info for record 61c84fc7-8419-401e-ab86-a4f5b09c6484, Bad Input: invalid MM delta list, Parsing Error: Error { input: \"\", code: Digit }\n",
      "> failed to get modbase info for record 26e1d06d-264b-43e3-a434-c3520551b6a0, Bad Input: invalid MM delta list, Parsing Error: Error { input: \"\", code: Digit }\n",
      "> failed to get modbase info for record 759a3305-a0c8-4bac-8005-998fd47f306c, Bad Input: invalid MM delta list, Parsing Error: Error { input: \"\", code: Digit }\n",
      "> failed to get modbase info for record 8b941085-db9f-4179-ae5c-421022d319fb, Bad Input: invalid MM delta list, Parsing Error: Error { input: \"\", code: Digit }\n",
      "> failed to get modbase info for record 481c466a-4451-4cec-b645-74345ad12651, Bad Input: invalid MM delta list, Parsing Error: Error { input: \"\", code: Digit }\n",
      "> failed to get modbase info for record 76f63c00-94c0-4bb5-9edf-c324cccdf9a2, Bad Input: invalid MM delta list, Parsing Error: Error { input: \"\", code: Digit }\n",
      "> failed to get modbase info for record 52b10b19-6248-4540-90a5-210a56efa802, Bad Input: invalid MM delta list, Parsing Error: Error { input: \"\", code: Digit }\n",
      "> failed to get modbase info for record dbf3e640-f05c-44cd-9253-7765dbd8bf78, Bad Input: invalid MM delta list, Parsing Error: Error { input: \"\", code: Digit }\n",
      "> failed to get modbase info for record 33f6e8ad-674b-41ad-a606-cc78554759d5, Bad Input: invalid MM delta list, Parsing Error: Error { input: \"\", code: Digit }\n",
      "> failed to get modbase info for record 507f5d39-40d1-44fc-9dac-9b14bb816d85, Bad Input: invalid MM delta list, Parsing Error: Error { input: \"\", code: Digit }\n",
      "> failed to get modbase info for record e75c479d-9bd1-41b9-a791-847592ed67d4, Bad Input: invalid MM delta list, Parsing Error: Error { input: \"\", code: Digit }\n",
      "> failed to get modbase info for record 2d9db948-9dc6-4ac1-8dde-d42a08357f43, Bad Input: invalid MM delta list, Parsing Error: Error { input: \"\", code: Digit }\n",
      "> failed to get modbase info for record d31a4938-c00e-47b9-8b7f-7b2ae397b472, Bad Input: invalid MM delta list, Parsing Error: Error { input: \"\", code: Digit }\n",
      "> failed to get modbase info for record 7f4a4a08-4395-4834-bd07-fcf8e677d80e, Bad Input: invalid MM delta list, Parsing Error: Error { input: \"\", code: Digit }\n",
      "> failed to get modbase info for record 9b1170b5-a4c1-4c53-b79e-f4536149ea58, Bad Input: invalid MM delta list, Parsing Error: Error { input: \"\", code: Digit }\n",
      "> failed to get modbase info for record ebe878d6-ad63-40c7-a5cd-1dce14b6e732, Bad Input: invalid MM delta list, Parsing Error: Error { input: \"\", code: Digit }\n",
      "> failed to get modbase info for record 2898c84f-8f03-43cb-8a89-c2415c379120, Bad Input: invalid MM delta list, Parsing Error: Error { input: \"\", code: Digit }\n",
      "> failed to get modbase info for record 9246a514-aa4b-4497-a398-a54c6f738a67, Bad Input: invalid MM delta list, Parsing Error: Error { input: \"\", code: Digit }\n",
      "> failed to get modbase info for record e77655e5-3b7a-4d99-aafc-90ab15a6c08e, Bad Input: invalid MM delta list, Parsing Error: Error { input: \"\", code: Digit }\n",
      "> Threshold of 0.6621094 for base C is low. Consider increasing the filter-percentile or specifying a higher threshold.\n",
      "> Done, processed 867290 rows. Processed ~12804 reads and skipped ~688 reads.\n"
     ]
    }
   ],
   "source": [
    "%%bash\n",
    "\n",
    "mkdir \"/home/michalula/data/cas9_nanopore/data/20250721_nCATs_Tcells_UNEDITED_Day28/merged_outputs/5mCG/to_t2t_v2_0/pileup\"\n",
    "# pileup_dir_path=\"/home/michalula/data/cas9_nanopore/data/20250721_nCATs_Tcells_UNEDITED_Day28/merged_outputs/5mCG/to_t2t_v2_0/pileup\"\n",
    "# mkdir ${pileup_dir_path}\n",
    "\n",
    "Unedit_day28_bam=\"/home/michalula/data/cas9_nanopore/data/20250721_nCATs_Tcells_UNEDITED_Day28/merged_outputs/5mCG/to_t2t_v2_0/sort_align_t2t_v2_0_trim_20250721_nCATs_Tcells_UNEDITED_Day28_minion_merged_flowcells_output.dna_r9.4.1_e8_sup@v3.3.5mCG.bam\"\n",
    "# pileup_Unedit_day28_bam=\"/home/michalula/data/cas9_nanopore/data/20250721_nCATs_Tcells_UNEDITED_Day28/merged_outputs/pileup_sorted_align_t2t_v1_1_trim_20250721_nCATs_Tcells_UNEDITED_Day28_minion_merged.dna_r9.4.1_e8_sup@v3.3.5mCG.bam\"\n",
    "# pileup_Unedit_day28_bam=${pileup_dir_path}\"/pileup_Unedit_Day28_Tcells_20250721.bam\"\n",
    "pileup_Unedit_day28_bam=\"/home/michalula/data/cas9_nanopore/data/20250721_nCATs_Tcells_UNEDITED_Day28/merged_outputs/5mCG/to_t2t_v2_0/pileup/pileup_Unedit_Day28_Tcells_20250721.bam\"\n",
    "\n",
    "# \"/home/michalula/data/cas9_nanopore/data/20250721_nCATs_Tcells_UNEDITED_Day28/merged_outputs/pileup_sorted_align_t2t_v1_1_trim_20250721_nCATs_Tcells_UNEDITED_Day28_minion_merged.dna_r9.4.1_e8_sup.5mCG.bam\"\n",
    "  \n",
    "ref_genome_fa=\"/home/michalula/data/ref_genomes/t2t_v2_0/chm13v2.0.fa\"\n",
    "# ref=\"/home/michalula/data/ref_genomes/to_t2t_v1_1/chm13.draft_v1.1.fasta\"\n",
    "\n",
    "threads=32\n",
    " \n",
    "\n",
    "modkit pileup ${Unedit_day28_bam} ${pileup_Unedit_day28_bam} \\\n",
    "  --cpg \\\n",
    "  --ref ${ref_genome_fa} \\\n",
    "  --threads ${threads} \\\n",
    "  --log-filepath log.txt\n",
    "\n",
    "bgzip -k ${pileup_Unedit_day28_bam}\n",
    "tabix -p bed ${pileup_Unedit_day28_bam}.gz\n",
    "\n",
    "# modkit pileup ${Unedit_day28_bam} ${pileup_Unedit_day28_bam} \\\n",
    "#   --cpg \\\n",
    "#   --ref ${ref} \\\n",
    "#   --threads ${threads} \\\n",
    "#   --log-filepath log.txt\n",
    "\n",
    "# bgzip -k ${pileup_Unedit_day28_bam}\n",
    "# tabix -p bed ${pileup_Unedit_day28_bam}.gz"
   ]
  },
  {
   "cell_type": "code",
   "execution_count": null,
   "id": "0e760268",
   "metadata": {},
   "outputs": [],
   "source": [
    "# %%bash\n",
    "\n",
    "# Unedit_day28_bam=\"/home/michalula/data/cas9_nanopore/data/20250721_nCATs_Tcells_UNEDITED_Day28/merged_outputs/sorted_align_t2t_v1_1_trim_20250721_nCATs_Tcells_UNEDITED_Day28_minion_merged.dna_r9.4.1_e8_sup@v3.3.5mCG.bam\"\n",
    "# # pileup_Unedit_day28_bam=\"/home/michalula/data/cas9_nanopore/data/20250721_nCATs_Tcells_UNEDITED_Day28/merged_outputs/pileup_sorted_align_t2t_v1_1_trim_20250721_nCATs_Tcells_UNEDITED_Day28_minion_merged.dna_r9.4.1_e8_sup@v3.3.5mCG.bam\"\n",
    "# pileup_Unedit_day28_bam=\"/home/michalula/data/cas9_nanopore/data/20250721_nCATs_Tcells_UNEDITED_Day28/merged_outputs/pileup_sorted_align_t2t_v1_1_trim_20250721_nCATs_Tcells_UNEDITED_Day28_minion_merged.dna_r9.4.1_e8_sup.5mCG.bam\"\n",
    "  \n",
    "# ref=\"/home/michalula/data/ref_genomes/to_t2t_v1_1/chm13.draft_v1.1.fasta\"\n",
    "# threads=32\n",
    " \n",
    "# modkit pileup ${Unedit_day28_bam} ${pileup_Unedit_day28_bam} \\\n",
    "#   --cpg \\\n",
    "#   --ref ${ref} \\\n",
    "#   --threads ${threads} \\\n",
    "#   --log-filepath log.txt\n",
    "\n",
    "# bgzip -k ${pileup_Unedit_day28_bam}\n",
    "# tabix -p bed ${pileup_Unedit_day28_bam}.gz"
   ]
  },
  {
   "cell_type": "code",
   "execution_count": null,
   "id": "ef2b0fc6",
   "metadata": {},
   "outputs": [],
   "source": [
    "# %%bash\n",
    "\n",
    "# Unedit_day28_bam=\"/home/michalula/data/cas9_nanopore/data/20250721_nCATs_Tcells_UNEDITED_Day28/merged_outputs/sorted_align_t2t_v1_1_trim_20250721_nCATs_Tcells_UNEDITED_Day28_minion_merged.dna_r9.4.1_e8_sup@v3.3.5mCG.bam\"\n",
    "# # pileup_Unedit_day28_bam=\"/home/michalula/data/cas9_nanopore/data/20250721_nCATs_Tcells_UNEDITED_Day28/merged_outputs/pileup_sorted_align_t2t_v1_1_trim_20250721_nCATs_Tcells_UNEDITED_Day28_minion_merged.dna_r9.4.1_e8_sup@v3.3.5mCG.bam\"\n",
    "# pileup_Unedit_day28_bam=\"/home/michalula/data/cas9_nanopore/data/20250721_nCATs_Tcells_UNEDITED_Day28/merged_outputs/pileup_sorted_align_t2t_v1_1_trim_20250721_nCATs_Tcells_UNEDITED_Day28_minion_merged.dna_r9.4.1_e8_sup.5mCG.bam\"\n",
    "  \n",
    "# ref=\"/home/michalula/data/ref_genomes/to_t2t_v1_1/chm13.draft_v1.1.fasta\"\n",
    "# threads=32\n",
    " \n",
    "# modkit pileup ${Unedit_day28_bam} ${pileup_Unedit_day28_bam} \\\n",
    "#   --cpg \\\n",
    "#   --ref ${ref} \\\n",
    "#   --threads ${threads} \\\n",
    "#   --log-filepath log.txt\n",
    "\n",
    "# bgzip -k ${pileup_Unedit_day28_bam}\n",
    "# tabix -p bed ${pileup_Unedit_day28_bam}.gz"
   ]
  },
  {
   "cell_type": "code",
   "execution_count": null,
   "id": "cb665980",
   "metadata": {},
   "outputs": [],
   "source": [
    "# %%bash\n",
    "# # pileup and compression can also be done in one step\n",
    "\n",
    "# ref=\"/home/michalula/data/ref_genomes/to_t2t_v1_1/chm13.draft_v1.1.fasta\"\n",
    "# threads=32\n",
    "\n",
    "# Unedit_day28_bam=\"/home/michalula/data/cas9_nanopore/data/20250721_nCATs_Tcells_UNEDITED_Day28/merged_outputs/sorted_align_t2t_v1_1_trim_20250721_nCATs_Tcells_UNEDITED_Day28_minion_merged.dna_r9.4.1_e8_sup@v3.3.5mCG.bam\"\n",
    "# pileup_Unedit_day28_bam_gz=\"/home/michalula/data/cas9_nanopore/data/20250721_nCATs_Tcells_UNEDITED_Day28/merged_outputs/pileup_sorted_align_t2t_v1_1_trim_20250721_nCATs_Tcells_UNEDITED_Day28_minion_merged.dna_r9.4.1_e8_sup@v3.3.5mCG.bam.gz\"\n",
    " \n",
    "# # tumor=tumor_sample.bam\n",
    "# # tumor_pileup=tumor_pileup.bed.gz\n",
    "\n",
    "# # modkit pileup ${Unedit_day28_bam} - \\\n",
    "# #   --cpg \\\n",
    "# #   --ref ${ref} \\\n",
    "# #   --threads ${threads} \\\n",
    "# #   --log-filepath log.txt | ${bgzip} -c > ${pileup_Unedit_day28_bam}\n",
    "\n",
    "# # tabix -p bed ${pileup_Unedit_day28_bam}"
   ]
  },
  {
   "cell_type": "markdown",
   "id": "a8471d1d",
   "metadata": {},
   "source": [
    "3. Detecting differential modification at single base positions\n",
    "The modkit dmr pair command has the ability to score individual bases (e.g. differentially methylated CpGs). To run single-base analysis on one or more paired samples, simply omit the --regions (-r) option when running modkit dmr pair. When performing single-base analysis the likelihood ratio score and a MAP-based p-value are available. For details on the likelihood ratio score and the MAP-based p-value, see the scoring details section. For example the above command becomes:\n",
    "\n",
    "dmr_result=single_base_haplotype_dmr.bed\n",
    "\n",
    "modkit dmr pair \\\n",
    "  -a ${hp1_pileup}.gz \\\n",
    "  -b ${hp2_pileup}.gz \\\n",
    "  -o ${dmr_result} \\\n",
    "  --ref ${ref} \\\n",
    "  --base C \\\n",
    "  --threads ${threads} \\\n",
    "  --log-filepath dmr.log"
   ]
  },
  {
   "cell_type": "code",
   "execution_count": 2,
   "id": "c5017afc",
   "metadata": {},
   "outputs": [
    {
     "name": "stdout",
     "output_type": "stream",
     "text": [
      "merge_bams.bash\n",
      "merged_sort_align_t2t_v1_1_trim_20250721_nCATs_Tcells_UNEDITED_Day28_minion_merged.dna_r9.4.1_e8_sup@v3.3.5mCG.bam\n",
      "pileup_sorted_align_t2t_v1_1_trim_20250721_nCATs_Tcells_UNEDITED_Day28_minion_merged.dna_r9.4.1_e8_sup.5mCG.bam\n",
      "pileup_sorted_align_t2t_v1_1_trim_20250721_nCATs_Tcells_UNEDITED_Day28_minion_merged.dna_r9.4.1_e8_sup.5mCG.bam.gz\n",
      "pileup_sorted_align_t2t_v1_1_trim_20250721_nCATs_Tcells_UNEDITED_Day28_minion_merged.dna_r9.4.1_e8_sup.5mCG.bam.gz.tbi\n",
      "pileup_sorted_align_t2t_v1_1_trim_20250721_nCATs_Tcells_UNEDITED_Day28_minion_merged.dna_r9.4.1_e8_sup@v3.3.5mCG.bam\n",
      "pileup_sorted_align_t2t_v1_1_trim_20250721_nCATs_Tcells_UNEDITED_Day28_minion_merged.dna_r9.4.1_e8_sup@v3.3.5mCG.bam.gz\n",
      "pileup_sorted_align_t2t_v1_1_trim_20250721_nCATs_Tcells_UNEDITED_Day28_minion_merged.dna_r9.4.1_e8_sup@v3.3.5mCG.bam.gz.tbi\n",
      "sorted_align_t2t_v1_1_trim_20250721_nCATs_Tcells_UNEDITED_Day28_minion_merged.dna_r9.4.1_e8_sup@v3.3.5mCG.bam\n",
      "sorted_align_t2t_v1_1_trim_20250721_nCATs_Tcells_UNEDITED_Day28_minion_merged.dna_r9.4.1_e8_sup@v3.3.5mCG.bam.bai\n"
     ]
    }
   ],
   "source": [
    "! ls \"/home/michalula/data/cas9_nanopore/data/20250721_nCATs_Tcells_UNEDITED_Day28/merged_outputs\""
   ]
  },
  {
   "cell_type": "code",
   "execution_count": 19,
   "id": "c7194df6",
   "metadata": {},
   "outputs": [
    {
     "name": "stdout",
     "output_type": "stream",
     "text": [
      "/home/michalula/data/cas9_nanopore/data/20250721_nCATs_Tcells_UNEDITED_Day28/merged_outputs/pileup_sorted_align_t2t_v1_1_trim_20250721_nCATs_Tcells_UNEDITED_Day28_minion_merged.dna_r9.4.1_e8_sup@v3.3.5mCG.bam.gz\n"
     ]
    }
   ],
   "source": [
    "! ls /home/michalula/data/cas9_nanopore/data/20250721_nCATs_Tcells_UNEDITED_Day28/merged_outputs/pileup_sorted_align_t2t_v1_1_trim_20250721_nCATs_Tcells_UNEDITED_Day28_minion_merged.dna_r9.4.1_e8_sup@v3.3.5mCG.bam.gz"
   ]
  },
  {
   "cell_type": "code",
   "execution_count": null,
   "id": "cd224848",
   "metadata": {},
   "outputs": [],
   "source": [
    "/home/michalula/data/cas9_nanopore/data/20250721_nCATs_Tcells_UNEDITED_Day28/merged_outputs/pileup_sorted_align_t2t_v1_1_trim_20250721_nCATs_Tcells_UNEDITED_Day28_minion_merged.dna_r9.4.1_e8_sup.5mCG.bam.gz"
   ]
  },
  {
   "cell_type": "code",
   "execution_count": 3,
   "id": "e96993dc",
   "metadata": {},
   "outputs": [
    {
     "name": "stdout",
     "output_type": "stream",
     "text": [
      "drwxrwxr-x 2 michalula michalula 4096 Jul 31 00:43 /home/michalula/data/cas9_nanopore/data/20250721_nCATs_Tcells_UNEDITED_Day28/merged_outputs\n",
      "-rw-rw-r-- 1 michalula michalula 5758746 Jul 31 00:43 /home/michalula/data/cas9_nanopore/data/20250721_nCATs_Tcells_UNEDITED_Day28/merged_outputs/pileup_sorted_align_t2t_v1_1_trim_20250721_nCATs_Tcells_UNEDITED_Day28_minion_merged.dna_r9.4.1_e8_sup.5mCG.bam.gz\n"
     ]
    }
   ],
   "source": [
    "    %%bash\n",
    "\n",
    "   ls -ld /home/michalula/data/cas9_nanopore/data/20250721_nCATs_Tcells_UNEDITED_Day28/merged_outputs\n",
    "   ls -l /home/michalula/data/cas9_nanopore/data/20250721_nCATs_Tcells_UNEDITED_Day28/merged_outputs/pileup_sorted_align_t2t_v1_1_trim_20250721_nCATs_Tcells_UNEDITED_Day28_minion_merged.dna_r9.4.1_e8_sup.5mCG.bam.gz"
   ]
  },
  {
   "cell_type": "code",
   "execution_count": null,
   "id": "656a1944",
   "metadata": {},
   "outputs": [],
   "source": [
    "%%bash\n",
    "\n",
    "   # chmod u+rw /home/michalula/data/cas9_nanopore/data/20250721_nCATs_Tcells_UNEDITED_Day28/merged_outputs/pileup_sorted_align_t2t_v1_1_trim_20250721_nCATs_Tcells_UNEDITED_Day28_minion_merged.dna_r9.4.1_e8_sup.5mCG.bam.gz\n",
    "   # chmod u+rwx /home/michalula/data/cas9_nanopore/data/20250721_nCATs_Tcells_UNEDITED_Day28/merged_outputs"
   ]
  },
  {
   "cell_type": "code",
   "execution_count": 27,
   "id": "265be99e",
   "metadata": {},
   "outputs": [],
   "source": [
    "%%bash\n",
    "\n",
    "   chmod u+rwx \"/home/michalula/data/cas9_nanopore/data/20250721_nCATs_Tcells_UNEDITED_Day28/merged_outputs/5mCG/to_t2t_v2_0/pileup/\"\n",
    "   chmod u+rwx \"/home/michalula/data/cas9_nanopore/data/20250721_nCATs_Tcells_CROFF_Day28/mergered_outputs/5mCG/to_t2t_v2_0/pileup_CROFF_Day28_Tcells_20250721.bam.gz\""
   ]
  },
  {
   "cell_type": "code",
   "execution_count": 28,
   "id": "75533b3c",
   "metadata": {},
   "outputs": [
    {
     "name": "stdout",
     "output_type": "stream",
     "text": [
      "drwxrwxr-x 4 michalula michalula 4096 Aug  1 01:35 /home/michalula/data/cas9_nanopore/data/20250721_nCATs_Tcells_UNEDITED_Day28/merged_outputs\n",
      "-rwxrw-r-- 1 michalula michalula 5354303 Sep 24 12:10 /home/michalula/data/cas9_nanopore/data/20250721_nCATs_Tcells_CROFF_Day28/mergered_outputs/5mCG/to_t2t_v2_0/pileup_CROFF_Day28_Tcells_20250721.bam.gz\n"
     ]
    }
   ],
   "source": [
    "%%bash\n",
    "\n",
    "ls -ld /home/michalula/data/cas9_nanopore/data/20250721_nCATs_Tcells_UNEDITED_Day28/merged_outputs\n",
    "ls -ld \"/home/michalula/data/cas9_nanopore/data/20250721_nCATs_Tcells_CROFF_Day28/mergered_outputs/5mCG/to_t2t_v2_0/pileup_CROFF_Day28_Tcells_20250721.bam.gz\""
   ]
  },
  {
   "cell_type": "code",
   "execution_count": 30,
   "id": "995c730a",
   "metadata": {},
   "outputs": [],
   "source": [
    "# ls /home/michalula/data/cas9_nanopore/data/20250721_nCATs_Tcells_UNEDITED_Day28/merged_outputs/pileup_sorted_align_t2t_v1_1_trim_20250721_nCATs_Tcells_UNEDITED_Day28_minion_merged.dna_r9.4.1_e8_sup.5mCG.bam.gz"
   ]
  },
  {
   "cell_type": "code",
   "execution_count": null,
   "id": "89aad00a",
   "metadata": {},
   "outputs": [
    {
     "name": "stdout",
     "output_type": "stream",
     "text": [
      "/home/michalula/data/cas9_nanopore/data/20250721_nCATs_Tcells_UNEDITED_Day28/merged_outputs/5mCG/to_t2t_v2_0/pileup/pileup_Unedit_Day28_Tcells_20250721.bam.gz\n",
      "-rw-rw-r-- 1 michalula michalula 7514010 Sep 24 12:17 /home/michalula/data/cas9_nanopore/data/20250721_nCATs_Tcells_UNEDITED_Day28/merged_outputs/5mCG/to_t2t_v2_0/pileup/pileup_Unedit_Day28_Tcells_20250721.bam.gz\n"
     ]
    },
    {
     "name": "stderr",
     "output_type": "stream",
     "text": [
      "> loading sites from input 'a' bedMethyl\n",
      "> loaded 867290 sites\n",
      "> loading 48 sites at a time\n",
      "> 111264 regions processed successfully and 756026 regions failed\n"
     ]
    }
   ],
   "source": [
    " %%bash\n",
    " \n",
    " # 3. Detecting differential modification at single base positions\n",
    "# The modkit dmr pair command has the ability to score individual bases (e.g. differentially methylated CpGs). To run single-base analysis on one or more paired samples, simply omit the --regions (-r) option when running modkit dmr pair. When performing single-base analysis the likelihood ratio score and a MAP-based p-value are available. For details on the likelihood ratio score and the MAP-based p-value, see the scoring details section. For example the above command becomes:\n",
    "\n",
    "dmr_result=\"/home/michalula/code/epiCausality/epiCode/differential_methyl/modkit_output/single_base_day28_CRoff_vs_Unedit_dmr_20250924.bed\"\n",
    "\n",
    "# pileup_Unedit_day28_bam=\"/home/michalula/data/cas9_nanopore/data/20250721_nCATs_Tcells_UNEDITED_Day28/merged_outputs/pileup_sorted_align_t2t_v1_1_trim_20250721_nCATs_Tcells_UNEDITED_Day28_minion_merged.dna_r9.4.1_e8_sup@v3.3.5mCG.bam\"\n",
    "# removed the @ from the file name\n",
    "# pileup_Unedit_day28_bam=\"/home/michalula/data/cas9_nanopore/data/20250721_nCATs_Tcells_UNEDITED_Day28/merged_outputs/pileup_sorted_align_t2t_v1_1_trim_20250721_nCATs_Tcells_UNEDITED_Day28_minion_merged.dna_r9.4.1_e8_sup.5mCG.bam\"\n",
    "# pileup_Unedit_day28_bam=\"/home/michalula/code/epiCausality/epiCode/differential_methyl/pileups/t2t_v1_1/pileup_Unedit_Day28_Tcells_20250721.bam\"\n",
    "pileup_Unedit_day28_bam=\"/home/michalula/data/cas9_nanopore/data/20250721_nCATs_Tcells_UNEDITED_Day28/merged_outputs/5mCG/to_t2t_v2_0/pileup/pileup_Unedit_Day28_Tcells_20250721.bam\"\n",
    "\n",
    "echo \"${pileup_Unedit_day28_bam}.gz\"\n",
    "ls -l \"${pileup_Unedit_day28_bam}.gz\"\n",
    "# \"/home/michalula/data/cas9_nanopore/data/20250721_nCATs_Tcells_UNEDITED_Day28/merged_outputs/pileup_sorted_align_t2t_v1_1_trim_20250721_nCATs_Tcells_UNEDITED_Day28_minion_merged.dna_r9.4.1_e8_sup.5mCG.bam\"\n",
    "# pileup_Unedit_day28_bam_gz=\"/home/michalula/data/cas9_nanopore/data/20250721_nCATs_Tcells_UNEDITED_Day28/merged_outputs/pileup_sorted_align_t2t_v1_1_trim_20250721_nCATs_Tcells_UNEDITED_Day28_minion_merged.dna_r9.4.1_e8_sup.5mCG.bam.gz\"\n",
    "  \n",
    "# pileup_CROFF_day28_bam=\"/home/michalula/data/cas9_nanopore/data/20250721_nCATs_Tcells_CROFF_Day28/mergered_outputs/pileup_sort_merge_sort_align_t2t_v1_1_trim_20250721_nCATs_Tcells_CROFF_Day28_minion_run2_day8.dna_r9.4.1_e8_sup@v3.3.5mCG.bam\"\n",
    "# pileup_CROFF_day28_bam=\"/home/michalula/code/epiCausality/epiCode/differential_methyl/pileups/t2t_v1_1/pileup_CROFF_Day28_Tcells_20250721.bam\"\n",
    "pileup_CROFF_day28_bam=\"/home/michalula/data/cas9_nanopore/data/20250721_nCATs_Tcells_CROFF_Day28/mergered_outputs/5mCG/to_t2t_v2_0/pileup_CROFF_Day28_Tcells_20250721.bam\"\n",
    "\n",
    "ref_genome_fa=\"/home/michalula/data/ref_genomes/t2t_v2_0/chm13v2.0.fa\"\n",
    "# ref=\"/home/michalula/data/ref_genomes/to_t2t_v1_1/chm13.draft_v1.1.fasta\"\n",
    "threads=32\n",
    " \n",
    "cd '/home/michalula/code/epiCausality/epiCode/differential_methyl'\n",
    "\n",
    "modkit dmr pair \\\n",
    "  -a ${pileup_Unedit_day28_bam}.gz \\\n",
    "  -b ${pileup_CROFF_day28_bam}.gz \\\n",
    "  -o ${dmr_result} \\\n",
    "  --ref ${ref_genome_fa} \\\n",
    "  --base C \\\n",
    "  --threads ${threads} \\\n",
    "  --log-filepath dmr.log\n"
   ]
  },
  {
   "cell_type": "code",
   "execution_count": 4,
   "id": "883a8380",
   "metadata": {},
   "outputs": [
    {
     "name": "stdout",
     "output_type": "stream",
     "text": [
      "-rw-rw-r-- 1 michalula michalula 7.8M Sep 24 12:23 /home/michalula/code/epiCausality/epiCode/differential_methyl/modkit_output/single_base_day28_CRoff_vs_Unedit_dmr_20250924.bed\n"
     ]
    }
   ],
   "source": [
    "%%bash\n",
    "\n",
    "dmr_result=\"/home/michalula/code/epiCausality/epiCode/differential_methyl/modkit_output/single_base_day28_CRoff_vs_Unedit_dmr_20250924.bed\"\n",
    "\n",
    "ls -lah $dmr_result\n",
    "# cat $dmr_result"
   ]
  },
  {
   "cell_type": "code",
   "execution_count": 32,
   "id": "c4d28b71",
   "metadata": {},
   "outputs": [
    {
     "data": {
      "text/plain": [
       "'/home/michalula/code/epiCausality/epiCode/differential_methyl'"
      ]
     },
     "execution_count": 32,
     "metadata": {},
     "output_type": "execute_result"
    }
   ],
   "source": [
    "pwd"
   ]
  },
  {
   "cell_type": "code",
   "execution_count": null,
   "id": "e5d982ec",
   "metadata": {},
   "outputs": [],
   "source": []
  },
  {
   "cell_type": "code",
   "execution_count": null,
   "id": "ac23c593",
   "metadata": {},
   "outputs": [],
   "source": []
  },
  {
   "cell_type": "code",
   "execution_count": null,
   "id": "99e6932b",
   "metadata": {},
   "outputs": [],
   "source": []
  },
  {
   "cell_type": "code",
   "execution_count": null,
   "id": "80bab4cb",
   "metadata": {},
   "outputs": [],
   "source": []
  },
  {
   "cell_type": "code",
   "execution_count": null,
   "id": "b22581c3",
   "metadata": {},
   "outputs": [],
   "source": []
  },
  {
   "cell_type": "code",
   "execution_count": null,
   "id": "8161b9b9",
   "metadata": {},
   "outputs": [],
   "source": []
  },
  {
   "cell_type": "code",
   "execution_count": null,
   "id": "bcc7233f",
   "metadata": {},
   "outputs": [],
   "source": []
  },
  {
   "cell_type": "code",
   "execution_count": null,
   "id": "685f5f69",
   "metadata": {},
   "outputs": [],
   "source": []
  },
  {
   "cell_type": "code",
   "execution_count": null,
   "id": "7e8f943b",
   "metadata": {},
   "outputs": [],
   "source": []
  },
  {
   "cell_type": "code",
   "execution_count": null,
   "id": "14e94be9",
   "metadata": {},
   "outputs": [],
   "source": []
  },
  {
   "cell_type": "code",
   "execution_count": null,
   "id": "d9e7119c",
   "metadata": {},
   "outputs": [],
   "source": []
  },
  {
   "cell_type": "code",
   "execution_count": null,
   "id": "dc784641",
   "metadata": {},
   "outputs": [],
   "source": []
  },
  {
   "cell_type": "code",
   "execution_count": null,
   "id": "7f98cf24",
   "metadata": {},
   "outputs": [],
   "source": []
  }
 ],
 "metadata": {
  "kernelspec": {
   "display_name": "dimelo_v2_modkit_parsing",
   "language": "python",
   "name": "python3"
  },
  "language_info": {
   "codemirror_mode": {
    "name": "ipython",
    "version": 3
   },
   "file_extension": ".py",
   "mimetype": "text/x-python",
   "name": "python",
   "nbconvert_exporter": "python",
   "pygments_lexer": "ipython3",
   "version": "3.11.9"
  }
 },
 "nbformat": 4,
 "nbformat_minor": 5
}
