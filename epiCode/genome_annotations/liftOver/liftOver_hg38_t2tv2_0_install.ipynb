{
 "cells": [
  {
   "cell_type": "markdown",
   "metadata": {},
   "source": [
    "# Liftover coordinates\n",
    "\n",
    "### 1. Install LiftOver (if not already installed)\n"
   ]
  },
  {
   "cell_type": "code",
   "execution_count": null,
   "metadata": {},
   "outputs": [],
   "source": [
    "# ! mkdir -p /home/michalula/software/liftOver\n",
    "# ! wget -O /home/michalula/software/liftOver/liftOver http://hgdownload.soe.ucsc.edu/admin/exe/linux.x86_64/liftOver\n",
    "# ! chmod +x /home/michalula/software/liftOver/liftOver\n",
    "# ! export PATH=\"$PATH:/home/michalula/software/liftOver\"\n",
    "# ! source ~/.bashrc   # or ~/.zshrc\n",
    "# ! head ~/.bashrc "
   ]
  },
  {
   "cell_type": "markdown",
   "metadata": {},
   "source": [
    "### 2. Get the chain file: hg38 to T2T-CHM13 v2.0 chain file:\n"
   ]
  },
  {
   "cell_type": "code",
   "execution_count": null,
   "metadata": {},
   "outputs": [
    {
     "name": "stdout",
     "output_type": "stream",
     "text": [
      "gzip: /home/michalula/data/ref_genomes/liftOver/hg38ToHs1.over.chain.gz: No such file or directory\n"
     ]
    }
   ],
   "source": [
    "# As of now, UCSC does not officially support t2t-v2.0. However, the UCSC LiftOver chain file from hg38 to CHM13v2.0 is available from the CHM13 GitHub or NCBI FTP.\n",
    "\n",
    "# Download it like this:\n",
    "# ! wget -O /home/michalula/data/ref_genomes/liftOver/hg38ToHs1.over.chain.gz http://hgdownload.soe.ucsc.edu/goldenPath/hg38/liftOver/hg38ToHs1.over.chain.gz\n",
    "\n",
    "# ! wget -O /home/michalula/data/ref_genomes/liftOver/hg38.chm13v2.chain.gz  https://s3.amazonaws.com/nanopore-human-wgs/chm13/liftover/hg38.chm13v2.chain.gz\n",
    "# ! gunzip /home/michalula/data/ref_genomes/liftOver/hg38ToHs1.over.chain\n",
    "# /home/michalula/data/ref_genomes/liftOver/hg38ToHs1.over.chain\n"
   ]
  },
  {
   "cell_type": "markdown",
   "metadata": {},
   "source": [
    "# 3. Prepare your BED file (hg38 coordinates)\n",
    "\n",
    "Make sure your input file is in BED format, e.g.:\n",
    "\n",
    "chr1    10000   10100\n",
    "\n",
    "chr2    20000   20100\n",
    "\n",
    "<!-- Save as input_hg38.bed to /home/michalula/code/epiCausality/epiCode/genome_annotations/bed_files/hg38/hg38_liftover_test_input.bed -->"
   ]
  },
  {
   "cell_type": "markdown",
   "metadata": {},
   "source": [
    "## LiftOver \n",
    "### from hg38 to T2T version2.0"
   ]
  },
  {
   "cell_type": "code",
   "execution_count": 2,
   "metadata": {},
   "outputs": [],
   "source": [
    "# liftOver input_hg38.bed hg38.chm13v2.chain output_chm13v2.bed unmapped.bed\n"
   ]
  },
  {
   "cell_type": "code",
   "execution_count": null,
   "metadata": {},
   "outputs": [],
   "source": [
    "%%bash\n",
    "/home/michalula/software/liftOver/liftOver \\\n",
    "    /home/michalula/code/epiCausality/epiCode/genome_annotations/bed_files/hg38/hg38_liftover_test_input.bed \\\n",
    "    /home/michalula/data/ref_genomes/liftOver/hg38ToHs1.over.chain  \\\n",
    "    /home/michalula/code/epiCausality/epiCode/genome_annotations/bed_files/hg38/output_to_chm13v2.bed \\\n",
    "    /home/michalula/code/epiCausality/epiCode/genome_annotations/bed_files/hg38/output_to_unmapped.bed"
   ]
  },
  {
   "cell_type": "markdown",
   "metadata": {},
   "source": [
    "Convert Hg38: chr1:207321614-207321733 to T2T version 2.0\n"
   ]
  },
  {
   "cell_type": "code",
   "execution_count": 1,
   "metadata": {},
   "outputs": [
    {
     "name": "stderr",
     "output_type": "stream",
     "text": [
      "Reading liftover chains\n",
      "Mapping coordinates\n"
     ]
    }
   ],
   "source": [
    "%%bash\n",
    "/home/michalula/software/liftOver/liftOver \\\n",
    "    /home/michalula/code/epiCausality/epiCode/genome_annotations/bed_files/hg38/hg38_CD55_Tss_180bps_chr1:207321614-207321733.bed \\\n",
    "    /home/michalula/data/ref_genomes/liftOver/hg38ToHs1.over.chain  \\\n",
    "    /home/michalula/code/epiCausality/epiCode/genome_annotations/bed_files/t2t_v2_0/t2t_from_hg38_CD55_Tss_180bps_chr1:207321614-207321733.bed \\\n",
    "    /home/michalula/code/epiCausality/epiCode/genome_annotations/bed_files/hg38/unmapped_t2t_from_hg38_CD55_Tss_180bps_chr1:207321614-207321733.bed"
   ]
  },
  {
   "cell_type": "code",
   "execution_count": null,
   "metadata": {},
   "outputs": [
    {
     "name": "stderr",
     "output_type": "stream",
     "text": [
      "Reading liftover chains\n",
      "Mapping coordinates\n"
     ]
    }
   ],
   "source": []
  },
  {
   "cell_type": "markdown",
   "metadata": {},
   "source": [
    "### from T2T version2.0 to hg38"
   ]
  },
  {
   "cell_type": "code",
   "execution_count": null,
   "metadata": {},
   "outputs": [
    {
     "name": "stdout",
     "output_type": "stream",
     "text": [
      "--2025-03-31 05:56:00--  http://hgdownload.soe.ucsc.edu/goldenPath/hs1/liftOver/hs1ToHg38.over.chain.gz\n",
      "Resolving hgdownload.soe.ucsc.edu (hgdownload.soe.ucsc.edu)... 128.114.119.163\n",
      "Connecting to hgdownload.soe.ucsc.edu (hgdownload.soe.ucsc.edu)|128.114.119.163|:80... connected.\n",
      "HTTP request sent, awaiting response... 200 OK\n",
      "Length: 2882482 (2.7M) [application/x-gzip]\n",
      "Saving to: ‘/home/michalula/data/ref_genomes/liftOver/hs1ToHg38.over.chain.gz’\n",
      "\n",
      "/home/michalula/dat 100%[===================>]   2.75M  2.03MB/s    in 1.4s    \n",
      "\n",
      "2025-03-31 05:56:01 (2.03 MB/s) - ‘/home/michalula/data/ref_genomes/liftOver/hs1ToHg38.over.chain.gz’ saved [2882482/2882482]\n",
      "\n"
     ]
    }
   ],
   "source": [
    "# 1. Download the reverse chain file (T2T → hg38)\n",
    "# ! wget -O /home/michalula/data/ref_genomes/liftOver/hs1ToHg38.over.chain.gz http://hgdownload.soe.ucsc.edu/goldenPath/hs1/liftOver/hs1ToHg38.over.chain.gz"
   ]
  },
  {
   "cell_type": "code",
   "execution_count": 1,
   "metadata": {},
   "outputs": [
    {
     "name": "stderr",
     "output_type": "stream",
     "text": [
      "Reading liftover chains\n",
      "Mapping coordinates\n"
     ]
    }
   ],
   "source": [
    "%%bash\n",
    "\n",
    "/home/michalula/software/liftOver/liftOver \\\n",
    "    /home/michalula/code/epiCausality/epiCode/genome_annotations/bed_files/t2t_v2_0/t2tv2_test_input.bed \\\n",
    "    /home/michalula/data/ref_genomes/liftOver/hs1ToHg38.over.chain.gz \\\n",
    "    /home/michalula/code/epiCausality/epiCode/genome_annotations/bed_files/t2t_v2_0/output_hg38_fromt2tv2_test.bed \\\n",
    "     /home/michalula/code/epiCausality/epiCode/genome_annotations/bed_files/t2t_v2_0/unmapped_hg38_fromt2tv2_test.bed "
   ]
  },
  {
   "cell_type": "code",
   "execution_count": null,
   "metadata": {},
   "outputs": [],
   "source": []
  }
 ],
 "metadata": {
  "kernelspec": {
   "display_name": "dimelo_v2_modkit_parsing",
   "language": "python",
   "name": "python3"
  },
  "language_info": {
   "codemirror_mode": {
    "name": "ipython",
    "version": 3
   },
   "file_extension": ".py",
   "mimetype": "text/x-python",
   "name": "python",
   "nbconvert_exporter": "python",
   "pygments_lexer": "ipython3",
   "version": "3.11.9"
  }
 },
 "nbformat": 4,
 "nbformat_minor": 2
}
