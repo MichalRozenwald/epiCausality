{
 "cells": [
  {
   "cell_type": "markdown",
   "metadata": {},
   "source": [
    "### Annotation Selection of the hg38 genome"
   ]
  },
  {
   "cell_type": "markdown",
   "metadata": {},
   "source": [
    "##### Before you begin, please make sure you have the proper files downloaded"
   ]
  },
  {
   "cell_type": "code",
   "execution_count": 12,
   "metadata": {},
   "outputs": [],
   "source": [
    "#Download link for gencode annotation file (gff3): https://www.gencodegenes.org/human/release_38.html\n",
    "##Make sure to download the \"comprehensive gene annotation file\" in the gff3 format\n",
    "\n",
    "# ! wget https://ftp.ebi.ac.uk/pub/databases/gencode/Gencode_human/release_38/gencode.v38.annotation.gff3.gz\n",
    "\n",
    "#Download link for hg38 archetype motif file: https://www.vierstra.org/resources/motif_clustering\n",
    "##Download the hg38 archetype scan file alongside its tabix file\n",
    "# ! wget https://resources.altius.org/~jvierstra/projects/motif-clustering/releases/v1.0/hg38.all_motifs.v1.0.bed.gz\n",
    "# ! wget https://resources.altius.org/~jvierstra/projects/motif-clustering/releases/v1.0/hg38.all_motifs.v1.0.bed.gz.tbi"
   ]
  },
  {
   "cell_type": "code",
   "execution_count": 1,
   "metadata": {},
   "outputs": [],
   "source": [
    "import pandas as pd\n",
    "import numpy as np\n",
    "import gffutils\n",
    "import pysam"
   ]
  },
  {
   "cell_type": "markdown",
   "metadata": {},
   "source": [
    "##### If this is your first time importing the gff3 database, run this command"
   ]
  },
  {
   "cell_type": "code",
   "execution_count": 2,
   "metadata": {},
   "outputs": [],
   "source": [
    "#This can take a long time, so only run this once (remove the #)\n",
    "\n",
    "gencode_hg38_annotation_gff3 = '/home/michalula/code/Ella/data/hg38/gencode.v38.annotation.gff3'\n",
    "gencode_hg38_annotation_path = '/home/michalula/code/Ella/data/hg38/gencode.v38.annotation.gff3db.db'\n",
    "\n",
    "\n",
    "# db = gffutils.create_db(gencode_hg38_annotation_gff3, dbfn=gencode_hg38_annotation_path, \n",
    "#                         force=True, keep_order=True, \n",
    "#                         merge_strategy='create_unique', sort_attribute_values=True) \n",
    "\n",
    "#replace gff3 with your gff3 file, dbfn can be whichever name you want to store the transposed file as\n"
   ]
  },
  {
   "cell_type": "markdown",
   "metadata": {},
   "source": [
    "##### Feature the selected database "
   ]
  },
  {
   "cell_type": "code",
   "execution_count": 3,
   "metadata": {},
   "outputs": [
    {
     "data": {
      "text/plain": [
       "<gffutils.interface.FeatureDB at 0x7112d0006d10>"
      ]
     },
     "execution_count": 3,
     "metadata": {},
     "output_type": "execute_result"
    }
   ],
   "source": [
    "db = gffutils.FeatureDB(gencode_hg38_annotation_path, keep_order=True)\n",
    "db"
   ]
  },
  {
   "cell_type": "markdown",
   "metadata": {},
   "source": [
    "##### Select the desired range"
   ]
  },
  {
   "cell_type": "code",
   "execution_count": 4,
   "metadata": {},
   "outputs": [],
   "source": [
    "chr = 'chr1' #Replace with wanted chromosome location\n",
    "start = 207320867 #Replace with start coordinate\n",
    "stop = 207320897 #Replace with end coordinate\n",
    "slct = db.region(region=(chr, start, stop), completely_within=False)\n"
   ]
  },
  {
   "cell_type": "markdown",
   "metadata": {},
   "source": [
    "##### Iterate through the region and transpose it to a dictionary"
   ]
  },
  {
   "cell_type": "code",
   "execution_count": 5,
   "metadata": {},
   "outputs": [],
   "source": [
    "records = []\n",
    "for gene in slct:\n",
    "    records.append({\n",
    "        \"seqid\": gene.seqid,\n",
    "        \"source\": gene.source,\n",
    "        \"featuretype\": gene.featuretype,\n",
    "        \"start\": gene.start,\n",
    "        \"end\": gene.end,\n",
    "        \"strand\": gene.strand,\n",
    "        \"score\": gene.score,\n",
    "        \"attributes\": gene.attributes  # Attributes as a dictionary (will be expanded later)\n",
    "    })"
   ]
  },
  {
   "cell_type": "markdown",
   "metadata": {},
   "source": [
    "##### Next, lets integrate the cell-specific regulatory elements into this database:"
   ]
  },
  {
   "cell_type": "code",
   "execution_count": 6,
   "metadata": {},
   "outputs": [],
   "source": [
    "input_file = '/home/michalula/code/Ella/data/hg38/hg38.all_motifs.v1.0.bed.gz'\n",
    "# 'hg38.archetype_motifs.v1.0.bed.gz' #Replace with the RE file\n",
    "tabix = pysam.TabixFile(input_file)\n",
    "source_name = 'atlas' #replace with reference cell type\n",
    "#It may say that the index file is older than the data file, you can ignore this for now"
   ]
  },
  {
   "cell_type": "code",
   "execution_count": 7,
   "metadata": {},
   "outputs": [],
   "source": [
    "#Create dictionary using the input selection\n",
    "for row in tabix.fetch(chr,start,stop):\n",
    "    assets = row.split()\n",
    "    records.append({\n",
    "        \"seqid\": assets.pop(0),\n",
    "        \"source\": source_name,\n",
    "        \"start\": int(assets.pop(0)),\n",
    "        \"end\": int(assets.pop(0)),\n",
    "        \"featuretype\": 'RE',\n",
    "        \"strand\": assets.pop(2),\n",
    "        \"attributes\": ({\"ID\": assets.pop(2), \"matchscore\": float(assets.pop(1)), \"cluster\":assets.pop(0)})  # Attributes as a dictionary (will be expanded later)\n",
    "    })"
   ]
  },
  {
   "cell_type": "markdown",
   "metadata": {},
   "source": [
    "##### Expand out the attributes and format the dictionary as a database"
   ]
  },
  {
   "cell_type": "code",
   "execution_count": 8,
   "metadata": {},
   "outputs": [
    {
     "data": {
      "text/html": [
       "<div>\n",
       "<style scoped>\n",
       "    .dataframe tbody tr th:only-of-type {\n",
       "        vertical-align: middle;\n",
       "    }\n",
       "\n",
       "    .dataframe tbody tr th {\n",
       "        vertical-align: top;\n",
       "    }\n",
       "\n",
       "    .dataframe thead th {\n",
       "        text-align: right;\n",
       "    }\n",
       "</style>\n",
       "<table border=\"1\" class=\"dataframe\">\n",
       "  <thead>\n",
       "    <tr style=\"text-align: right;\">\n",
       "      <th></th>\n",
       "      <th>seqid</th>\n",
       "      <th>source</th>\n",
       "      <th>start</th>\n",
       "      <th>end</th>\n",
       "      <th>featuretype</th>\n",
       "      <th>strand</th>\n",
       "      <th>ID</th>\n",
       "      <th>matchscore</th>\n",
       "      <th>cluster</th>\n",
       "    </tr>\n",
       "  </thead>\n",
       "  <tbody>\n",
       "    <tr>\n",
       "      <th>0</th>\n",
       "      <td>chr1</td>\n",
       "      <td>atlas</td>\n",
       "      <td>207320851</td>\n",
       "      <td>207320873</td>\n",
       "      <td>RE</td>\n",
       "      <td>-</td>\n",
       "      <td>TTATCCCACCCCACACCGCCCC</td>\n",
       "      <td>6.553981</td>\n",
       "      <td>ZN467_HUMAN.H11MO.0.C</td>\n",
       "    </tr>\n",
       "    <tr>\n",
       "      <th>1</th>\n",
       "      <td>chr1</td>\n",
       "      <td>atlas</td>\n",
       "      <td>207320852</td>\n",
       "      <td>207320871</td>\n",
       "      <td>RE</td>\n",
       "      <td>-</td>\n",
       "      <td>TATCCCACCCCACACCGCC</td>\n",
       "      <td>6.545304</td>\n",
       "      <td>ZBT17_MOUSE.H11MO.0.A</td>\n",
       "    </tr>\n",
       "    <tr>\n",
       "      <th>2</th>\n",
       "      <td>chr1</td>\n",
       "      <td>atlas</td>\n",
       "      <td>207320852</td>\n",
       "      <td>207320874</td>\n",
       "      <td>RE</td>\n",
       "      <td>-</td>\n",
       "      <td>TATCCCACCCCACACCGCCCCG</td>\n",
       "      <td>7.514327</td>\n",
       "      <td>MAZ_HUMAN.H11MO.0.A</td>\n",
       "    </tr>\n",
       "    <tr>\n",
       "      <th>3</th>\n",
       "      <td>chr1</td>\n",
       "      <td>atlas</td>\n",
       "      <td>207320852</td>\n",
       "      <td>207320874</td>\n",
       "      <td>RE</td>\n",
       "      <td>-</td>\n",
       "      <td>TATCCCACCCCACACCGCCCCG</td>\n",
       "      <td>7.514327</td>\n",
       "      <td>MAZ_MOUSE.H11MO.0.A</td>\n",
       "    </tr>\n",
       "    <tr>\n",
       "      <th>4</th>\n",
       "      <td>chr1</td>\n",
       "      <td>atlas</td>\n",
       "      <td>207320853</td>\n",
       "      <td>207320868</td>\n",
       "      <td>RE</td>\n",
       "      <td>-</td>\n",
       "      <td>ATCCCACCCCACACC</td>\n",
       "      <td>7.347797</td>\n",
       "      <td>KLF5_MOUSE.H11MO.0.A</td>\n",
       "    </tr>\n",
       "    <tr>\n",
       "      <th>...</th>\n",
       "      <td>...</td>\n",
       "      <td>...</td>\n",
       "      <td>...</td>\n",
       "      <td>...</td>\n",
       "      <td>...</td>\n",
       "      <td>...</td>\n",
       "      <td>...</td>\n",
       "      <td>...</td>\n",
       "      <td>...</td>\n",
       "    </tr>\n",
       "    <tr>\n",
       "      <th>233</th>\n",
       "      <td>chr1</td>\n",
       "      <td>atlas</td>\n",
       "      <td>207320895</td>\n",
       "      <td>207320910</td>\n",
       "      <td>RE</td>\n",
       "      <td>+</td>\n",
       "      <td>CACACACACACACAC</td>\n",
       "      <td>3.897705</td>\n",
       "      <td>ZSCAN4_C2H2_1</td>\n",
       "    </tr>\n",
       "    <tr>\n",
       "      <th>234</th>\n",
       "      <td>chr1</td>\n",
       "      <td>atlas</td>\n",
       "      <td>207320895</td>\n",
       "      <td>207320910</td>\n",
       "      <td>RE</td>\n",
       "      <td>+</td>\n",
       "      <td>CACACACACACACAC</td>\n",
       "      <td>3.897705</td>\n",
       "      <td>ZSCAN4_MA1155.1</td>\n",
       "    </tr>\n",
       "    <tr>\n",
       "      <th>235</th>\n",
       "      <td>chr1</td>\n",
       "      <td>atlas</td>\n",
       "      <td>207320895</td>\n",
       "      <td>207320915</td>\n",
       "      <td>RE</td>\n",
       "      <td>+</td>\n",
       "      <td>CACACACACACACACACACA</td>\n",
       "      <td>7.015447</td>\n",
       "      <td>RREB1_MA0073.1</td>\n",
       "    </tr>\n",
       "    <tr>\n",
       "      <th>236</th>\n",
       "      <td>chr1</td>\n",
       "      <td>atlas</td>\n",
       "      <td>207320896</td>\n",
       "      <td>207320909</td>\n",
       "      <td>RE</td>\n",
       "      <td>+</td>\n",
       "      <td>ACACACACACACA</td>\n",
       "      <td>8.408510</td>\n",
       "      <td>KLF9_MA1107.1</td>\n",
       "    </tr>\n",
       "    <tr>\n",
       "      <th>237</th>\n",
       "      <td>chr1</td>\n",
       "      <td>atlas</td>\n",
       "      <td>207320896</td>\n",
       "      <td>207320914</td>\n",
       "      <td>RE</td>\n",
       "      <td>-</td>\n",
       "      <td>ACACACACACACACACAC</td>\n",
       "      <td>7.849581</td>\n",
       "      <td>EGR2_HUMAN.H11MO.0.A</td>\n",
       "    </tr>\n",
       "  </tbody>\n",
       "</table>\n",
       "<p>238 rows × 9 columns</p>\n",
       "</div>"
      ],
      "text/plain": [
       "    seqid source      start        end featuretype strand  \\\n",
       "0    chr1  atlas  207320851  207320873          RE      -   \n",
       "1    chr1  atlas  207320852  207320871          RE      -   \n",
       "2    chr1  atlas  207320852  207320874          RE      -   \n",
       "3    chr1  atlas  207320852  207320874          RE      -   \n",
       "4    chr1  atlas  207320853  207320868          RE      -   \n",
       "..    ...    ...        ...        ...         ...    ...   \n",
       "233  chr1  atlas  207320895  207320910          RE      +   \n",
       "234  chr1  atlas  207320895  207320910          RE      +   \n",
       "235  chr1  atlas  207320895  207320915          RE      +   \n",
       "236  chr1  atlas  207320896  207320909          RE      +   \n",
       "237  chr1  atlas  207320896  207320914          RE      -   \n",
       "\n",
       "                         ID  matchscore                cluster  \n",
       "0    TTATCCCACCCCACACCGCCCC    6.553981  ZN467_HUMAN.H11MO.0.C  \n",
       "1       TATCCCACCCCACACCGCC    6.545304  ZBT17_MOUSE.H11MO.0.A  \n",
       "2    TATCCCACCCCACACCGCCCCG    7.514327    MAZ_HUMAN.H11MO.0.A  \n",
       "3    TATCCCACCCCACACCGCCCCG    7.514327    MAZ_MOUSE.H11MO.0.A  \n",
       "4           ATCCCACCCCACACC    7.347797   KLF5_MOUSE.H11MO.0.A  \n",
       "..                      ...         ...                    ...  \n",
       "233         CACACACACACACAC    3.897705          ZSCAN4_C2H2_1  \n",
       "234         CACACACACACACAC    3.897705        ZSCAN4_MA1155.1  \n",
       "235    CACACACACACACACACACA    7.015447         RREB1_MA0073.1  \n",
       "236           ACACACACACACA    8.408510          KLF9_MA1107.1  \n",
       "237      ACACACACACACACACAC    7.849581   EGR2_HUMAN.H11MO.0.A  \n",
       "\n",
       "[238 rows x 9 columns]"
      ]
     },
     "metadata": {},
     "output_type": "display_data"
    }
   ],
   "source": [
    "df = pd.DataFrame(records)\n",
    "attributes_df = df[\"attributes\"].apply(pd.Series)\n",
    "df = pd.concat([df.drop(columns=[\"attributes\"]), attributes_df], axis=1)\n",
    "\n",
    "display(df)"
   ]
  },
  {
   "cell_type": "markdown",
   "metadata": {},
   "source": [
    "##### Expand out the single list attributes as strings"
   ]
  },
  {
   "cell_type": "code",
   "execution_count": 9,
   "metadata": {},
   "outputs": [
    {
     "data": {
      "text/html": [
       "<div>\n",
       "<style scoped>\n",
       "    .dataframe tbody tr th:only-of-type {\n",
       "        vertical-align: middle;\n",
       "    }\n",
       "\n",
       "    .dataframe tbody tr th {\n",
       "        vertical-align: top;\n",
       "    }\n",
       "\n",
       "    .dataframe thead th {\n",
       "        text-align: right;\n",
       "    }\n",
       "</style>\n",
       "<table border=\"1\" class=\"dataframe\">\n",
       "  <thead>\n",
       "    <tr style=\"text-align: right;\">\n",
       "      <th></th>\n",
       "      <th>seqid</th>\n",
       "      <th>source</th>\n",
       "      <th>start</th>\n",
       "      <th>end</th>\n",
       "      <th>featuretype</th>\n",
       "      <th>strand</th>\n",
       "      <th>ID</th>\n",
       "      <th>matchscore</th>\n",
       "      <th>cluster</th>\n",
       "    </tr>\n",
       "  </thead>\n",
       "  <tbody>\n",
       "    <tr>\n",
       "      <th>0</th>\n",
       "      <td>chr1</td>\n",
       "      <td>atlas</td>\n",
       "      <td>207320851</td>\n",
       "      <td>207320873</td>\n",
       "      <td>RE</td>\n",
       "      <td>-</td>\n",
       "      <td>TTATCCCACCCCACACCGCCCC</td>\n",
       "      <td>6.553981</td>\n",
       "      <td>ZN467_HUMAN.H11MO.0.C</td>\n",
       "    </tr>\n",
       "    <tr>\n",
       "      <th>1</th>\n",
       "      <td>chr1</td>\n",
       "      <td>atlas</td>\n",
       "      <td>207320852</td>\n",
       "      <td>207320871</td>\n",
       "      <td>RE</td>\n",
       "      <td>-</td>\n",
       "      <td>TATCCCACCCCACACCGCC</td>\n",
       "      <td>6.545304</td>\n",
       "      <td>ZBT17_MOUSE.H11MO.0.A</td>\n",
       "    </tr>\n",
       "    <tr>\n",
       "      <th>2</th>\n",
       "      <td>chr1</td>\n",
       "      <td>atlas</td>\n",
       "      <td>207320852</td>\n",
       "      <td>207320874</td>\n",
       "      <td>RE</td>\n",
       "      <td>-</td>\n",
       "      <td>TATCCCACCCCACACCGCCCCG</td>\n",
       "      <td>7.514327</td>\n",
       "      <td>MAZ_HUMAN.H11MO.0.A</td>\n",
       "    </tr>\n",
       "    <tr>\n",
       "      <th>3</th>\n",
       "      <td>chr1</td>\n",
       "      <td>atlas</td>\n",
       "      <td>207320852</td>\n",
       "      <td>207320874</td>\n",
       "      <td>RE</td>\n",
       "      <td>-</td>\n",
       "      <td>TATCCCACCCCACACCGCCCCG</td>\n",
       "      <td>7.514327</td>\n",
       "      <td>MAZ_MOUSE.H11MO.0.A</td>\n",
       "    </tr>\n",
       "    <tr>\n",
       "      <th>4</th>\n",
       "      <td>chr1</td>\n",
       "      <td>atlas</td>\n",
       "      <td>207320853</td>\n",
       "      <td>207320868</td>\n",
       "      <td>RE</td>\n",
       "      <td>-</td>\n",
       "      <td>ATCCCACCCCACACC</td>\n",
       "      <td>7.347797</td>\n",
       "      <td>KLF5_MOUSE.H11MO.0.A</td>\n",
       "    </tr>\n",
       "    <tr>\n",
       "      <th>...</th>\n",
       "      <td>...</td>\n",
       "      <td>...</td>\n",
       "      <td>...</td>\n",
       "      <td>...</td>\n",
       "      <td>...</td>\n",
       "      <td>...</td>\n",
       "      <td>...</td>\n",
       "      <td>...</td>\n",
       "      <td>...</td>\n",
       "    </tr>\n",
       "    <tr>\n",
       "      <th>233</th>\n",
       "      <td>chr1</td>\n",
       "      <td>atlas</td>\n",
       "      <td>207320895</td>\n",
       "      <td>207320910</td>\n",
       "      <td>RE</td>\n",
       "      <td>+</td>\n",
       "      <td>CACACACACACACAC</td>\n",
       "      <td>3.897705</td>\n",
       "      <td>ZSCAN4_C2H2_1</td>\n",
       "    </tr>\n",
       "    <tr>\n",
       "      <th>234</th>\n",
       "      <td>chr1</td>\n",
       "      <td>atlas</td>\n",
       "      <td>207320895</td>\n",
       "      <td>207320910</td>\n",
       "      <td>RE</td>\n",
       "      <td>+</td>\n",
       "      <td>CACACACACACACAC</td>\n",
       "      <td>3.897705</td>\n",
       "      <td>ZSCAN4_MA1155.1</td>\n",
       "    </tr>\n",
       "    <tr>\n",
       "      <th>235</th>\n",
       "      <td>chr1</td>\n",
       "      <td>atlas</td>\n",
       "      <td>207320895</td>\n",
       "      <td>207320915</td>\n",
       "      <td>RE</td>\n",
       "      <td>+</td>\n",
       "      <td>CACACACACACACACACACA</td>\n",
       "      <td>7.015447</td>\n",
       "      <td>RREB1_MA0073.1</td>\n",
       "    </tr>\n",
       "    <tr>\n",
       "      <th>236</th>\n",
       "      <td>chr1</td>\n",
       "      <td>atlas</td>\n",
       "      <td>207320896</td>\n",
       "      <td>207320909</td>\n",
       "      <td>RE</td>\n",
       "      <td>+</td>\n",
       "      <td>ACACACACACACA</td>\n",
       "      <td>8.408510</td>\n",
       "      <td>KLF9_MA1107.1</td>\n",
       "    </tr>\n",
       "    <tr>\n",
       "      <th>237</th>\n",
       "      <td>chr1</td>\n",
       "      <td>atlas</td>\n",
       "      <td>207320896</td>\n",
       "      <td>207320914</td>\n",
       "      <td>RE</td>\n",
       "      <td>-</td>\n",
       "      <td>ACACACACACACACACAC</td>\n",
       "      <td>7.849581</td>\n",
       "      <td>EGR2_HUMAN.H11MO.0.A</td>\n",
       "    </tr>\n",
       "  </tbody>\n",
       "</table>\n",
       "<p>238 rows × 9 columns</p>\n",
       "</div>"
      ],
      "text/plain": [
       "    seqid source      start        end featuretype strand  \\\n",
       "0    chr1  atlas  207320851  207320873          RE      -   \n",
       "1    chr1  atlas  207320852  207320871          RE      -   \n",
       "2    chr1  atlas  207320852  207320874          RE      -   \n",
       "3    chr1  atlas  207320852  207320874          RE      -   \n",
       "4    chr1  atlas  207320853  207320868          RE      -   \n",
       "..    ...    ...        ...        ...         ...    ...   \n",
       "233  chr1  atlas  207320895  207320910          RE      +   \n",
       "234  chr1  atlas  207320895  207320910          RE      +   \n",
       "235  chr1  atlas  207320895  207320915          RE      +   \n",
       "236  chr1  atlas  207320896  207320909          RE      +   \n",
       "237  chr1  atlas  207320896  207320914          RE      -   \n",
       "\n",
       "                         ID  matchscore                cluster  \n",
       "0    TTATCCCACCCCACACCGCCCC    6.553981  ZN467_HUMAN.H11MO.0.C  \n",
       "1       TATCCCACCCCACACCGCC    6.545304  ZBT17_MOUSE.H11MO.0.A  \n",
       "2    TATCCCACCCCACACCGCCCCG    7.514327    MAZ_HUMAN.H11MO.0.A  \n",
       "3    TATCCCACCCCACACCGCCCCG    7.514327    MAZ_MOUSE.H11MO.0.A  \n",
       "4           ATCCCACCCCACACC    7.347797   KLF5_MOUSE.H11MO.0.A  \n",
       "..                      ...         ...                    ...  \n",
       "233         CACACACACACACAC    3.897705          ZSCAN4_C2H2_1  \n",
       "234         CACACACACACACAC    3.897705        ZSCAN4_MA1155.1  \n",
       "235    CACACACACACACACACACA    7.015447         RREB1_MA0073.1  \n",
       "236           ACACACACACACA    8.408510          KLF9_MA1107.1  \n",
       "237      ACACACACACACACACAC    7.849581   EGR2_HUMAN.H11MO.0.A  \n",
       "\n",
       "[238 rows x 9 columns]"
      ]
     },
     "metadata": {},
     "output_type": "display_data"
    }
   ],
   "source": [
    "for col in df.columns:\n",
    "    df[col] = df[col].apply(lambda x: x[0] if isinstance(x, list) and len(x) == 1 else x)\n",
    "\n",
    "display(df)"
   ]
  },
  {
   "cell_type": "markdown",
   "metadata": {},
   "source": [
    "##### Use the following code to find an RE from the human genome browser"
   ]
  },
  {
   "cell_type": "code",
   "execution_count": 10,
   "metadata": {},
   "outputs": [
    {
     "name": "stderr",
     "output_type": "stream",
     "text": [
      "/tmp/ipykernel_115465/968643798.py:3: SettingWithCopyWarning: \n",
      "A value is trying to be set on a copy of a slice from a DataFrame\n",
      "\n",
      "See the caveats in the documentation: https://pandas.pydata.org/pandas-docs/stable/user_guide/indexing.html#returning-a-view-versus-a-copy\n",
      "  lst_of_id.dropna(how='all', axis=1, inplace=True)\n"
     ]
    },
    {
     "data": {
      "text/html": [
       "<div>\n",
       "<style scoped>\n",
       "    .dataframe tbody tr th:only-of-type {\n",
       "        vertical-align: middle;\n",
       "    }\n",
       "\n",
       "    .dataframe tbody tr th {\n",
       "        vertical-align: top;\n",
       "    }\n",
       "\n",
       "    .dataframe thead th {\n",
       "        text-align: right;\n",
       "    }\n",
       "</style>\n",
       "<table border=\"1\" class=\"dataframe\">\n",
       "  <thead>\n",
       "    <tr style=\"text-align: right;\">\n",
       "      <th></th>\n",
       "      <th>seqid</th>\n",
       "      <th>source</th>\n",
       "      <th>start</th>\n",
       "      <th>end</th>\n",
       "      <th>featuretype</th>\n",
       "      <th>strand</th>\n",
       "      <th>ID</th>\n",
       "      <th>matchscore</th>\n",
       "      <th>cluster</th>\n",
       "    </tr>\n",
       "  </thead>\n",
       "  <tbody>\n",
       "    <tr>\n",
       "      <th>223</th>\n",
       "      <td>chr1</td>\n",
       "      <td>atlas</td>\n",
       "      <td>207320891</td>\n",
       "      <td>207320906</td>\n",
       "      <td>RE</td>\n",
       "      <td>+</td>\n",
       "      <td>CGCACACACACACAC</td>\n",
       "      <td>6.055805</td>\n",
       "      <td>ZSCAN4_C2H2_1</td>\n",
       "    </tr>\n",
       "    <tr>\n",
       "      <th>228</th>\n",
       "      <td>chr1</td>\n",
       "      <td>atlas</td>\n",
       "      <td>207320893</td>\n",
       "      <td>207320908</td>\n",
       "      <td>RE</td>\n",
       "      <td>+</td>\n",
       "      <td>CACACACACACACAC</td>\n",
       "      <td>3.897705</td>\n",
       "      <td>ZSCAN4_C2H2_1</td>\n",
       "    </tr>\n",
       "    <tr>\n",
       "      <th>233</th>\n",
       "      <td>chr1</td>\n",
       "      <td>atlas</td>\n",
       "      <td>207320895</td>\n",
       "      <td>207320910</td>\n",
       "      <td>RE</td>\n",
       "      <td>+</td>\n",
       "      <td>CACACACACACACAC</td>\n",
       "      <td>3.897705</td>\n",
       "      <td>ZSCAN4_C2H2_1</td>\n",
       "    </tr>\n",
       "  </tbody>\n",
       "</table>\n",
       "</div>"
      ],
      "text/plain": [
       "    seqid source      start        end featuretype strand               ID  \\\n",
       "223  chr1  atlas  207320891  207320906          RE      +  CGCACACACACACAC   \n",
       "228  chr1  atlas  207320893  207320908          RE      +  CACACACACACACAC   \n",
       "233  chr1  atlas  207320895  207320910          RE      +  CACACACACACACAC   \n",
       "\n",
       "     matchscore        cluster  \n",
       "223    6.055805  ZSCAN4_C2H2_1  \n",
       "228    3.897705  ZSCAN4_C2H2_1  \n",
       "233    3.897705  ZSCAN4_C2H2_1  "
      ]
     },
     "execution_count": 10,
     "metadata": {},
     "output_type": "execute_result"
    }
   ],
   "source": [
    "# lst_of_id = df[df[\"ID\"] cluster== 'ZSCAN4_C2H2_1'] # 'ZFX_MOUSE.H11MO.0.B'] ##Replace with the RE ID\n",
    "lst_of_id = df[df[\"cluster\"] == 'ZSCAN4_C2H2_1'] # 'ZFX_MOUSE.H11MO.0.B'] ##Replace with the RE ID\n",
    "lst_of_id.dropna(how='all', axis=1, inplace=True)\n",
    "lst_of_id"
   ]
  },
  {
   "cell_type": "code",
   "execution_count": 11,
   "metadata": {},
   "outputs": [
    {
     "data": {
      "text/html": [
       "<div>\n",
       "<style scoped>\n",
       "    .dataframe tbody tr th:only-of-type {\n",
       "        vertical-align: middle;\n",
       "    }\n",
       "\n",
       "    .dataframe tbody tr th {\n",
       "        vertical-align: top;\n",
       "    }\n",
       "\n",
       "    .dataframe thead th {\n",
       "        text-align: right;\n",
       "    }\n",
       "</style>\n",
       "<table border=\"1\" class=\"dataframe\">\n",
       "  <thead>\n",
       "    <tr style=\"text-align: right;\">\n",
       "      <th></th>\n",
       "      <th>seqid</th>\n",
       "      <th>source</th>\n",
       "      <th>start</th>\n",
       "      <th>end</th>\n",
       "      <th>featuretype</th>\n",
       "      <th>strand</th>\n",
       "      <th>ID</th>\n",
       "      <th>matchscore</th>\n",
       "      <th>cluster</th>\n",
       "    </tr>\n",
       "  </thead>\n",
       "  <tbody>\n",
       "  </tbody>\n",
       "</table>\n",
       "</div>"
      ],
      "text/plain": [
       "Empty DataFrame\n",
       "Columns: [seqid, source, start, end, featuretype, strand, ID, matchscore, cluster]\n",
       "Index: []"
      ]
     },
     "execution_count": 11,
     "metadata": {},
     "output_type": "execute_result"
    }
   ],
   "source": [
    "lst_of_id[lst_of_id['matchscore'] == 6.055805] #  7.7766] ###Replace with matchscore"
   ]
  },
  {
   "cell_type": "markdown",
   "metadata": {},
   "source": [
    "# Liftover coordinates\n",
    "\n",
    "### 1. Install LiftOver (if not already installed)\n"
   ]
  },
  {
   "cell_type": "code",
   "execution_count": null,
   "metadata": {},
   "outputs": [],
   "source": [
    "# ! mkdir -p /home/michalula/software/liftOver\n",
    "# ! wget -O /home/michalula/software/liftOver/liftOver http://hgdownload.soe.ucsc.edu/admin/exe/linux.x86_64/liftOver\n",
    "# ! chmod +x /home/michalula/software/liftOver/liftOver\n",
    "# ! export PATH=\"$PATH:/home/michalula/software/liftOver\"\n",
    "# ! source ~/.bashrc   # or ~/.zshrc\n",
    "# ! head ~/.bashrc "
   ]
  },
  {
   "cell_type": "markdown",
   "metadata": {},
   "source": [
    "### 2. Get the chain file: hg38 to T2T-CHM13 v2.0 chain file:\n"
   ]
  },
  {
   "cell_type": "code",
   "execution_count": null,
   "metadata": {},
   "outputs": [
    {
     "name": "stdout",
     "output_type": "stream",
     "text": [
      "gzip: /home/michalula/data/ref_genomes/liftOver/hg38ToHs1.over.chain.gz: No such file or directory\n"
     ]
    }
   ],
   "source": [
    "# As of now, UCSC does not officially support t2t-v2.0. However, the UCSC LiftOver chain file from hg38 to CHM13v2.0 is available from the CHM13 GitHub or NCBI FTP.\n",
    "\n",
    "# Download it like this:\n",
    "# ! wget -O /home/michalula/data/ref_genomes/liftOver/hg38ToHs1.over.chain.gz http://hgdownload.soe.ucsc.edu/goldenPath/hg38/liftOver/hg38ToHs1.over.chain.gz\n",
    "\n",
    "# ! wget -O /home/michalula/data/ref_genomes/liftOver/hg38.chm13v2.chain.gz  https://s3.amazonaws.com/nanopore-human-wgs/chm13/liftover/hg38.chm13v2.chain.gz\n",
    "# ! gunzip /home/michalula/data/ref_genomes/liftOver/hg38ToHs1.over.chain\n",
    "# /home/michalula/data/ref_genomes/liftOver/hg38ToHs1.over.chain\n"
   ]
  },
  {
   "cell_type": "markdown",
   "metadata": {},
   "source": [
    "# 3. Prepare your BED file (hg38 coordinates)\n",
    "Make sure your input file is in BED format, e.g.:\n",
    "chr1    10000   10100\n",
    "chr2    20000   20100\n",
    "<!-- Save as input_hg38.bed to /home/michalula/code/epiCausality/epiCode/genome_annotations/bed_files/hg38/hg38_liftover_test_input.bed -->"
   ]
  },
  {
   "cell_type": "markdown",
   "metadata": {},
   "source": [
    "## LiftOver \n",
    "### from hg38 to T2T version2.0"
   ]
  },
  {
   "cell_type": "code",
   "execution_count": 31,
   "metadata": {},
   "outputs": [
    {
     "name": "stdout",
     "output_type": "stream",
     "text": [
      "Reading liftover chains\n",
      "Mapping coordinates\n"
     ]
    }
   ],
   "source": [
    "# liftOver input_hg38.bed hg38.chm13v2.chain output_chm13v2.bed unmapped.bed\n",
    "! /home/michalula/software/liftOver/liftOver /home/michalula/code/epiCausality/epiCode/genome_annotations/bed_files/hg38/hg38_liftover_test_input.bed /home/michalula/data/ref_genomes/liftOver/hg38ToHs1.over.chain  /home/michalula/code/epiCausality/epiCode/genome_annotations/bed_files/hg38/output_to_chm13v2.bed /home/michalula/code/epiCausality/epiCode/genome_annotations/bed_files/hg38/output_to_unmapped.bed"
   ]
  },
  {
   "cell_type": "markdown",
   "metadata": {},
   "source": [
    "### from T2T version2.0 to hg38"
   ]
  },
  {
   "cell_type": "code",
   "execution_count": 32,
   "metadata": {},
   "outputs": [
    {
     "name": "stdout",
     "output_type": "stream",
     "text": [
      "--2025-03-31 05:56:00--  http://hgdownload.soe.ucsc.edu/goldenPath/hs1/liftOver/hs1ToHg38.over.chain.gz\n",
      "Resolving hgdownload.soe.ucsc.edu (hgdownload.soe.ucsc.edu)... 128.114.119.163\n",
      "Connecting to hgdownload.soe.ucsc.edu (hgdownload.soe.ucsc.edu)|128.114.119.163|:80... connected.\n",
      "HTTP request sent, awaiting response... 200 OK\n",
      "Length: 2882482 (2.7M) [application/x-gzip]\n",
      "Saving to: ‘/home/michalula/data/ref_genomes/liftOver/hs1ToHg38.over.chain.gz’\n",
      "\n",
      "/home/michalula/dat 100%[===================>]   2.75M  2.03MB/s    in 1.4s    \n",
      "\n",
      "2025-03-31 05:56:01 (2.03 MB/s) - ‘/home/michalula/data/ref_genomes/liftOver/hs1ToHg38.over.chain.gz’ saved [2882482/2882482]\n",
      "\n"
     ]
    }
   ],
   "source": [
    "# 1. Download the reverse chain file (T2T → hg38)\n",
    "! wget -O /home/michalula/data/ref_genomes/liftOver/hs1ToHg38.over.chain.gz http://hgdownload.soe.ucsc.edu/goldenPath/hs1/liftOver/hs1ToHg38.over.chain.gz"
   ]
  },
  {
   "cell_type": "code",
   "execution_count": 34,
   "metadata": {},
   "outputs": [
    {
     "name": "stderr",
     "output_type": "stream",
     "text": [
      "Reading liftover chains\n",
      "Mapping coordinates\n"
     ]
    }
   ],
   "source": [
    "%%bash\n",
    "\n",
    "/home/michalula/software/liftOver/liftOver \\\n",
    "    /home/michalula/code/epiCausality/epiCode/genome_annotations/bed_files/t2t_v2_0/t2tv2_test_input.bed \\\n",
    "    /home/michalula/data/ref_genomes/liftOver/hs1ToHg38.over.chain.gz \\\n",
    "    /home/michalula/code/epiCausality/epiCode/genome_annotations/bed_files/t2t_v2_0/output_hg38_fromt2tv2_test.bed \\\n",
    "     /home/michalula/code/epiCausality/epiCode/genome_annotations/bed_files/t2t_v2_0/unmapped_hg38_fromt2tv2_test.bed "
   ]
  },
  {
   "cell_type": "code",
   "execution_count": null,
   "metadata": {},
   "outputs": [],
   "source": []
  }
 ],
 "metadata": {
  "kernelspec": {
   "display_name": "dimelo_v2_modkit_parsing",
   "language": "python",
   "name": "python3"
  },
  "language_info": {
   "codemirror_mode": {
    "name": "ipython",
    "version": 3
   },
   "file_extension": ".py",
   "mimetype": "text/x-python",
   "name": "python",
   "nbconvert_exporter": "python",
   "pygments_lexer": "ipython3",
   "version": "3.11.9"
  }
 },
 "nbformat": 4,
 "nbformat_minor": 2
}
