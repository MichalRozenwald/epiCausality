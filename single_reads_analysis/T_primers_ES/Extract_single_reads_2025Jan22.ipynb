{
 "cells": [
  {
   "cell_type": "markdown",
   "metadata": {},
   "source": [
    "# Extract single reads"
   ]
  },
  {
   "cell_type": "markdown",
   "metadata": {},
   "source": [
    "Date: 23 Jan 2025\n",
    "\n",
    "Using https://github.com/MichalRozenwald/epiCausality/blob/main/Extract_single_reads_%26_LR_2024Apr16.ipynb \n",
    "and https://github.com/MichalRozenwald/epiCausality/blob/main/gm12878_deepCTCF_updated_extract_reads.ipynb "
   ]
  },
  {
   "cell_type": "code",
   "execution_count": 13,
   "metadata": {},
   "outputs": [
    {
     "name": "stdout",
     "output_type": "stream",
     "text": [
      "modkit found with expected version 0.2.4\n",
      "System: Linux\n",
      "Release: 6.8.0-51-generic\n",
      "Version: #52~22.04.1-Ubuntu SMP PREEMPT_DYNAMIC Mon Dec  9 15:00:52 UTC 2\n",
      "Processor: x86_64\n",
      "3.11.9 | packaged by conda-forge | (main, Apr 19 2024, 18:36:13) [GCC 12.3.0]\n"
     ]
    }
   ],
   "source": [
    "from dimelo import parse_bam, plot_enrichment_profile, plot_reads, load_processed, utils\n",
    "import pysam\n",
    "import platform\n",
    "\n",
    "import matplotlib.pyplot as plt\n",
    "from pathlib import Path\n",
    "import seaborn as sns\n",
    "from matplotlib.axes import Axes\n",
    "import numpy as np\n",
    "import pandas as pd\n",
    "\n",
    "print('System:',platform.system())\n",
    "print('Release:',platform.release())\n",
    "print('Version:',platform.version())\n",
    "print('Processor:',platform.processor())\n",
    "\n",
    "#  Pyton version\n",
    "import sys\n",
    "print(sys.version)\n",
    "     "
   ]
  },
  {
   "cell_type": "code",
   "execution_count": 14,
   "metadata": {},
   "outputs": [
    {
     "data": {
      "text/plain": [
       "PosixPath('/home/michalula/data/ref_genomes/to_t2t_v1_1/chm13.draft_v1.1.fasta')"
      ]
     },
     "execution_count": 14,
     "metadata": {},
     "output_type": "execute_result"
    }
   ],
   "source": [
    "ref_genome_v1_1_file = Path('/home/michalula/data/ref_genomes/to_t2t_v1_1/chm13.draft_v1.1.fasta') #'./test/output/chm13.draft_v1.1.fasta')\n",
    "ref_genome_v1_1_file"
   ]
  },
  {
   "cell_type": "code",
   "execution_count": 15,
   "metadata": {},
   "outputs": [
    {
     "data": {
      "text/plain": [
       "PosixPath('dimelo_v2_output')"
      ]
     },
     "execution_count": 15,
     "metadata": {},
     "output_type": "execute_result"
    }
   ],
   "source": [
    "output_dir = Path(\"./dimelo_v2_output\")\n",
    "# Path('/content/drive/MyDrive/Michal Rozenwald/data/CD55/cas9_12ef_101923_misha/dimelo_new_package') # './test/output')\n",
    "\n",
    "output_dir.mkdir(exist_ok=True)\n",
    "output_dir"
   ]
  },
  {
   "cell_type": "code",
   "execution_count": 16,
   "metadata": {},
   "outputs": [
    {
     "name": "stdout",
     "output_type": "stream",
     "text": [
      "align_t2t_v1_1_trim_20241226_MR_nCATs_TPrES_CROFF90prD6_P2R9.dna_r9.4.1_e8_sup@v3.3.5mCG.bam\n",
      "chr1_sort_align_t2t_v1_1_trim_20241226_MR_nCATs_TPrES_CROFF90prD6_P2R9.dna_r9.4.1_e8_sup@v3.3.5mCG.bam\n",
      "chr1_sort_align_t2t_v1_1_trim_20241226_MR_nCATs_TPrES_CROFF90prD6_P2R9.dna_r9.4.1_e8_sup@v3.3.5mCG.bam.bai\n",
      "sort_align_t2t_v1_1_trim_20241226_MR_nCATs_TPrES_CROFF90prD6_P2R9.dna_r9.4.1_e8_sup@v3.3.5mCG.bam\n",
      "sort_align_t2t_v1_1_trim_20241226_MR_nCATs_TPrES_CROFF90prD6_P2R9.dna_r9.4.1_e8_sup@v3.3.5mCG.bam.bai\n",
      "summary_sort_align_t2t_v1_1_trim_20241226_MR_nCATs_TPrES_CROFF90prD6_P2R9.dna_r9.4.1_e8_sup@v3.3.5mCG.tsv\n"
     ]
    }
   ],
   "source": [
    "! ls \"/home/michalula/data/cas9_nanopore/data/20241226_MR_nCATs_TPrES_CROFF90prD6_P2R9/pod5_converted_basecall/5mCG/to_t2t_v1_1/\""
   ]
  },
  {
   "cell_type": "code",
   "execution_count": 17,
   "metadata": {},
   "outputs": [],
   "source": [
    "unedited_bam_path = \"/home/michalula/data/cas9_nanopore/data/20241226_MR_nCATs_TcellsPrES_unedit_P2R9/passed_fast5/5mCG/to_t2t_v1_1/sort_align_trim_20241226_MR_nCATs_TcellsPrES_unedit_P2R9_passed.dna_r9.4.1_e8_sup@v3.3.5mCG.bam\"\n"
   ]
  },
  {
   "cell_type": "code",
   "execution_count": null,
   "metadata": {},
   "outputs": [],
   "source": []
  },
  {
   "cell_type": "code",
   "execution_count": 37,
   "metadata": {},
   "outputs": [],
   "source": [
    "\n",
    "# bam_path = unedited_bam_path\n",
    "# threshold_mC=0.99\n",
    "\n",
    "# t2t_v1_1_cd55_30bps = 'chr1:206586162-206586192'\n",
    "# window_size = None # 4000\n",
    "# # window_size = 4000\n",
    "\n",
    "# outname = f'cd55_window{window_size}'\n",
    "# num_cores = 32\n",
    "\n",
    "# cas9  = parse_bam.extract(\n",
    "#     input_file=bam_path, # ctcf_bam_file_updated\n",
    "#     output_name='cas9_12ef_101923_extract_chr1_206586162_206586192_ws4000_thresh09', # _ws4000 'ctcf_demo_extract',\n",
    "#     ref_genome=ref_genome_v1_1_file, # ref_genome_file,\n",
    "#     output_directory=output_dir,\n",
    "#     regions =t2t_v1_1_cd55_30bps, # [cd55_interest_target_regions], # ctcf_target_regions,ctcf_off_target_regions],\n",
    "#     motifs=['CG,0'], # ['A,0','CG,0'],\n",
    "#     thresh=threshold_mC,  # 0.75, # 190,\n",
    "#     window_size=window_size, # None,\n",
    "#     # cores = 1, # uncomment this line if your process appears to be terminating early (reduces memory usage)\n",
    "#     # quiet = True,\n",
    "#     # cleanup = False,\n",
    "#     # log=True,\n",
    "# )\n",
    "\n",
    "# unedited_failed_extract_file_ws4000, uunedited_failed_extract_regions_ws4000 = cas9\n",
    "# unedited_failed_extract_file_ws4000\n",
    "\n",
    "# plot_reads.plot_reads(\n",
    "#     unedited_failed_extract_file_ws4000, # cas9,\n",
    "#     \"chr1:206586162-206586192\", # bed_region,\n",
    "#     ['CG,0'],\n",
    "#     window_size = window_size,\n",
    "#     sort_by = ['shuffle','strand'], # ['strand'], # ['shuffle','strand'],\n",
    "#     # sort_by = ['shuffle', 'strand', 'region_start'], # ['shuffle','strand'],\n",
    "#     s=1)\n",
    "# plt.xlabel('bp relative to CD55 differential methylated region (t2t v1.1 chr1:206586177)')\n",
    "# # plt.title('cas9_12ef_101923_misha_mod_mappings.retagged.sorted_mC_only.bam CpG extraction')\n",
    "\n",
    " \n"
   ]
  },
  {
   "cell_type": "code",
   "execution_count": 22,
   "metadata": {},
   "outputs": [
    {
     "name": "stdout",
     "output_type": "stream",
     "text": [
      "No specified number of cores requested. 24 available on machine, allocating all.\n",
      "Modification threshold of 0.99 will be treated as coming from range 0-1.\n"
     ]
    },
    {
     "data": {
      "application/vnd.jupyter.widget-view+json": {
       "model_id": "1cae1e1cefa143a2b0c9542b09a3b203",
       "version_major": 2,
       "version_minor": 0
      },
      "text/plain": [
       "          | Step 1: Identify motif locations in chm13.draft_v1.1.fasta   0% | 00:00"
      ]
     },
     "metadata": {},
     "output_type": "display_data"
    },
    {
     "data": {
      "application/vnd.jupyter.widget-view+json": {
       "model_id": "ecbbb42757564558af686796c394c32d",
       "version_major": 2,
       "version_minor": 0
      },
      "text/plain": [
       "          | Step 2: Parse regions in sort_align_trim_20241226_MR_nCATs_TcellsPrES_unedit_P2R9_passed.dna_r9.4.…"
      ]
     },
     "metadata": {},
     "output_type": "display_data"
    },
    {
     "data": {
      "application/vnd.jupyter.widget-view+json": {
       "model_id": "efc735448dc34cb9bb500bd291e48259",
       "version_major": 2,
       "version_minor": 0
      },
      "text/plain": [
       "          |    0%"
      ]
     },
     "metadata": {},
     "output_type": "display_data"
    },
    {
     "data": {
      "application/vnd.jupyter.widget-view+json": {
       "model_id": "558b9256155a412994608b762a13d90a",
       "version_major": 2,
       "version_minor": 0
      },
      "text/plain": [
       "          | Transferring 2925 from reads.CG,0.txt into reads.combined_basemods.h5, new size 2925   0% | 00:00<…"
      ]
     },
     "metadata": {},
     "output_type": "display_data"
    },
    {
     "data": {
      "image/png": "[encoded data removed]",
      "text/plain": [
       "<Figure size 640x480 with 1 Axes>"
      ]
     },
     "metadata": {},
     "output_type": "display_data"
    }
   ],
   "source": [
    "def extract_from_bam(bam_path, ref_genome_file, output_dir, \n",
    "                    window_size=None, threshold_mC=0.99, num_cores=32,\n",
    "                    regions = 'chr1:206586162-206586192',\n",
    "                    output_name='cas9_12ef_101923_extract_chr1_206586162_206586192_wsNone_thresh09',):\n",
    "    \"\"\"\n",
    "    Processes a BAM file using the parse_bam.extract function and plots the extracted reads.\n",
    "\n",
    "    Parameters:\n",
    "        bam_path (str): Path to the input BAM file.\n",
    "        ref_genome_file (str): Path to the reference genome file.\n",
    "        output_dir (str): Directory to store output files.\n",
    "        window_size (int, optional): Window size for extraction. Defaults to None.\n",
    "        threshold_mC (float, optional): Threshold for methylation. Defaults to 0.99.\n",
    "        num_cores (int, optional): Number of cores for processing. Defaults to 32.\n",
    "\n",
    "    Returns:\n",
    "        extract_file, extract_regions\n",
    "    \"\"\"\n",
    "\n",
    "    extract_file, extract_regions  = parse_bam.extract(\n",
    "        input_file=bam_path,\n",
    "        output_name=output_name,\n",
    "        ref_genome=ref_genome_file,\n",
    "        output_directory=output_dir,\n",
    "        regions=regions,\n",
    "        motifs=['CG,0'],\n",
    "        thresh=threshold_mC,\n",
    "        window_size=window_size,\n",
    "    )\n",
    "\n",
    "    plot_reads.plot_reads(\n",
    "        extract_file,\n",
    "        t2t_v1_1_cd55_30bps,\n",
    "        ['CG,0'],\n",
    "        window_size=window_size,\n",
    "        sort_by=['shuffle', 'strand'],\n",
    "        s=1\n",
    "    )\n",
    "\n",
    "    plt.xlabel('bp relative to CD55 differential methylated region' + str(regions) )\n",
    "    plt.show()\n",
    "\n",
    "    return(extract_file, extract_regions )\n",
    "\n",
    "\n",
    "# Example usage\n",
    "bam_path = unedited_bam_path\n",
    "threshold_mC=0.99\n",
    "\n",
    "t2t_v1_1_cd55_30bps = 'chr1:206586162-206586192'\n",
    "window_size = None # 4000\n",
    "# window_size = 4000\n",
    "\n",
    "outname = f'cd55_window{window_size}'\n",
    "num_cores = 32\n",
    "\n",
    "\n",
    "extract_file, extract_regions = extract_from_bam(\n",
    "    bam_path=unedited_bam_path,\n",
    "    ref_genome_file=ref_genome_v1_1_file,\n",
    "    output_dir=output_dir,\n",
    "    window_size=window_size, # 4000,\n",
    "    threshold_mC=threshold_mC, #0.99\n",
    "    regions = 'chr1:206586162-206586192',\n",
    "    output_name='cas9_12ef_101923_extract_chr1_206586162_206586192_wsNone_thresh09',\n",
    ")\n"
   ]
  },
  {
   "cell_type": "code",
   "execution_count": 24,
   "metadata": {},
   "outputs": [
    {
     "name": "stdout",
     "output_type": "stream",
     "text": [
      "No specified number of cores requested. 24 available on machine, allocating all.\n",
      "Modification threshold of 0.75 will be treated as coming from range 0-1.\n"
     ]
    },
    {
     "data": {
      "application/vnd.jupyter.widget-view+json": {
       "model_id": "2863addd4f854da6aea632288e4744d6",
       "version_major": 2,
       "version_minor": 0
      },
      "text/plain": [
       "          | Step 1: Identify motif locations in chm13.draft_v1.1.fasta   0% | 00:00"
      ]
     },
     "metadata": {},
     "output_type": "display_data"
    },
    {
     "data": {
      "application/vnd.jupyter.widget-view+json": {
       "model_id": "6cfdf86e912e4660901947d682013e1a",
       "version_major": 2,
       "version_minor": 0
      },
      "text/plain": [
       "          | Step 2: Parse regions in sort_align_trim_20241226_MR_nCATs_TcellsPrES_unedit_P2R9_passed.dna_r9.4.…"
      ]
     },
     "metadata": {},
     "output_type": "display_data"
    },
    {
     "data": {
      "application/vnd.jupyter.widget-view+json": {
       "model_id": "06a4c4812f1241a4a8fa9f375f7f89ba",
       "version_major": 2,
       "version_minor": 0
      },
      "text/plain": [
       "          |    0%"
      ]
     },
     "metadata": {},
     "output_type": "display_data"
    },
    {
     "data": {
      "application/vnd.jupyter.widget-view+json": {
       "model_id": "2026728b1b65482b8e71ac878daf0b59",
       "version_major": 2,
       "version_minor": 0
      },
      "text/plain": [
       "          | Transferring 2925 from reads.CG,0.txt into reads.combined_basemods.h5, new size 2925   0% | 00:00<…"
      ]
     },
     "metadata": {},
     "output_type": "display_data"
    },
    {
     "data": {
      "image/png": "[encoded data removed]",
      "text/plain": [
       "<Figure size 640x480 with 1 Axes>"
      ]
     },
     "metadata": {},
     "output_type": "display_data"
    },
    {
     "data": {
      "text/plain": [
       "(PosixPath('dimelo_v2_output/cas9_12ef_101923_extract_chr1_206586162_206586192_wsNone_thresh09/reads.combined_basemods.h5'),\n",
       " PosixPath('dimelo_v2_output/cas9_12ef_101923_extract_chr1_206586162_206586192_wsNone_thresh09/regions.processed.bed'))"
      ]
     },
     "execution_count": 24,
     "metadata": {},
     "output_type": "execute_result"
    }
   ],
   "source": [
    "\n",
    "extract_from_bam(\n",
    "    bam_path=unedited_bam_path,\n",
    "    ref_genome_file=ref_genome_v1_1_file,\n",
    "    output_dir=output_dir,\n",
    "    window_size=window_size, # 4000,\n",
    "    threshold_mC= 0.75, # threshold_mC, #0.99\n",
    "    regions = 'chr1:206586162-206586192',\n",
    "    output_name='cas9_12ef_101923_extract_chr1_206586162_206586192_wsNone_thresh09',\n",
    ")"
   ]
  },
  {
   "cell_type": "code",
   "execution_count": 27,
   "metadata": {},
   "outputs": [
    {
     "data": {
      "text/plain": [
       "(PosixPath('dimelo_v2_output/cas9_12ef_101923_extract_chr1_206586162_206586192_wsNone_thresh09/reads.combined_basemods.h5'),\n",
       " PosixPath('dimelo_v2_output/cas9_12ef_101923_extract_chr1_206586162_206586192_wsNone_thresh09/regions.processed.bed'))"
      ]
     },
     "execution_count": 27,
     "metadata": {},
     "output_type": "execute_result"
    }
   ],
   "source": [
    "extract_file, extract_regions,"
   ]
  },
  {
   "cell_type": "code",
   "execution_count": 11,
   "metadata": {},
   "outputs": [
    {
     "name": "stdout",
     "output_type": "stream",
     "text": [
      "Collecting biopython\n",
      "  Downloading biopython-1.85-cp311-cp311-manylinux_2_17_x86_64.manylinux2014_x86_64.whl.metadata (13 kB)\n",
      "Requirement already satisfied: numpy in /home/michalula/miniconda3/envs/dimelo_v2_modkit_parsing/lib/python3.11/site-packages (from biopython) (2.1.3)\n",
      "Downloading biopython-1.85-cp311-cp311-manylinux_2_17_x86_64.manylinux2014_x86_64.whl (3.3 MB)\n",
      "\u001b[2K   \u001b[90m━━━━━━━━━━━━━━━━━━━━━━━━━━━━━━━━━━━━━━━━\u001b[0m \u001b[32m3.3/3.3 MB\u001b[0m \u001b[31m100.9 MB/s\u001b[0m eta \u001b[36m0:00:00\u001b[0m\n",
      "\u001b[?25hInstalling collected packages: biopython\n",
      "Successfully installed biopython-1.85\n"
     ]
    }
   ],
   "source": [
    "# ! python3 -m pip install biopython"
   ]
  },
  {
   "cell_type": "code",
   "execution_count": 25,
   "metadata": {},
   "outputs": [
    {
     "ename": "ValueError",
     "evalue": "too many values to unpack (expected 4)",
     "output_type": "error",
     "traceback": [
      "\u001b[0;31m---------------------------------------------------------------------------\u001b[0m",
      "\u001b[0;31mValueError\u001b[0m                                Traceback (most recent call last)",
      "Cell \u001b[0;32mIn[25], line 62\u001b[0m\n\u001b[1;32m     57\u001b[0m \u001b[38;5;66;03m# Example usage\u001b[39;00m\n\u001b[1;32m     58\u001b[0m \u001b[38;5;66;03m# extract_file = 'path/to/extract_file.txt'\u001b[39;00m\n\u001b[1;32m     59\u001b[0m \u001b[38;5;66;03m# extract_regions = 'path/to/extract_regions.txt'\u001b[39;00m\n\u001b[1;32m     60\u001b[0m ref_genome_file \u001b[38;5;241m=\u001b[39m ref_genome_v1_1_file \u001b[38;5;66;03m# 'path/to/ref_genome.fasta'\u001b[39;00m\n\u001b[0;32m---> 62\u001b[0m padded_reads, padded_reads_df \u001b[38;5;241m=\u001b[39m \u001b[43mprocess_extracted_reads\u001b[49m\u001b[43m(\u001b[49m\u001b[43mextract_file\u001b[49m\u001b[43m,\u001b[49m\u001b[43m \u001b[49m\u001b[43mextract_regions\u001b[49m\u001b[43m,\u001b[49m\u001b[43m \u001b[49m\u001b[43mref_genome_file\u001b[49m\u001b[43m)\u001b[49m\n",
      "Cell \u001b[0;32mIn[25], line 29\u001b[0m, in \u001b[0;36mprocess_extracted_reads\u001b[0;34m(extract_file, extract_regions, ref_genome_file, padding)\u001b[0m\n\u001b[1;32m     27\u001b[0m \u001b[38;5;28;01mwith\u001b[39;00m \u001b[38;5;28mopen\u001b[39m(extract_regions, \u001b[38;5;124m'\u001b[39m\u001b[38;5;124mr\u001b[39m\u001b[38;5;124m'\u001b[39m) \u001b[38;5;28;01mas\u001b[39;00m regions_file:\n\u001b[1;32m     28\u001b[0m     \u001b[38;5;28;01mfor\u001b[39;00m line \u001b[38;5;129;01min\u001b[39;00m regions_file:\n\u001b[0;32m---> 29\u001b[0m         chrom, start, end, region_id \u001b[38;5;241m=\u001b[39m line\u001b[38;5;241m.\u001b[39mstrip()\u001b[38;5;241m.\u001b[39msplit()\n\u001b[1;32m     30\u001b[0m         start, end \u001b[38;5;241m=\u001b[39m \u001b[38;5;28mint\u001b[39m(start), \u001b[38;5;28mint\u001b[39m(end)\n\u001b[1;32m     32\u001b[0m         \u001b[38;5;66;03m# Apply padding\u001b[39;00m\n",
      "\u001b[0;31mValueError\u001b[0m: too many values to unpack (expected 4)"
     ]
    }
   ],
   "source": [
    "from Bio import SeqIO\n",
    "from collections import defaultdict\n",
    "import os\n",
    "\n",
    "def process_extracted_reads(extract_file, extract_regions, ref_genome_file, padding=100):\n",
    "    \"\"\"\n",
    "    Processes extracted reads to generate padded reads and a DataFrame.\n",
    "\n",
    "    Parameters:\n",
    "        extract_file (str): Path to the extracted reads file.\n",
    "        extract_regions (str): Path to the extracted regions file.\n",
    "        ref_genome_file (str): Path to the reference genome file.\n",
    "        padding (int): Number of base pairs to pad around each region.\n",
    "\n",
    "    Returns:\n",
    "        padded_reads (dict): Dictionary with region identifiers as keys and padded read sequences as values.\n",
    "        padded_reads_df (pd.DataFrame): DataFrame containing details of the padded reads.\n",
    "    \"\"\"\n",
    "    # Load reference genome\n",
    "    ref_genome = SeqIO.to_dict(SeqIO.parse(ref_genome_file, \"fasta\"))\n",
    "\n",
    "    # Initialize containers\n",
    "    padded_reads = {}\n",
    "    padded_reads_data = []\n",
    "\n",
    "    # Process each region\n",
    "    with open(extract_regions, 'r') as regions_file:\n",
    "        for line in regions_file:\n",
    "            chrom, start, end, region_id = line.strip().split()\n",
    "            start, end = int(start), int(end)\n",
    "\n",
    "            # Apply padding\n",
    "            padded_start = max(0, start - padding)\n",
    "            padded_end = end + padding\n",
    "\n",
    "            # Extract sequence\n",
    "            if chrom in ref_genome:\n",
    "                sequence = ref_genome[chrom].seq[padded_start:padded_end]\n",
    "                padded_reads[region_id] = str(sequence)\n",
    "                padded_reads_data.append({\n",
    "                    'RegionID': region_id,\n",
    "                    'Chromosome': chrom,\n",
    "                    'Start': start,\n",
    "                    'End': end,\n",
    "                    'PaddedStart': padded_start,\n",
    "                    'PaddedEnd': padded_end,\n",
    "                    'Sequence': str(sequence)\n",
    "                })\n",
    "            else:\n",
    "                print(f\"Chromosome {chrom} not found in reference genome.\")\n",
    "\n",
    "    # Create DataFrame\n",
    "    padded_reads_df = pd.DataFrame(padded_reads_data)\n",
    "\n",
    "    return padded_reads, padded_reads_df\n",
    "\n",
    "# Example usage\n",
    "# extract_file = 'path/to/extract_file.txt'\n",
    "# extract_regions = 'path/to/extract_regions.txt'\n",
    "ref_genome_file = ref_genome_v1_1_file # 'path/to/ref_genome.fasta'\n",
    "\n",
    "padded_reads, padded_reads_df = process_extracted_reads(extract_file, extract_regions, ref_genome_file)"
   ]
  },
  {
   "cell_type": "markdown",
   "metadata": {},
   "source": []
  },
  {
   "cell_type": "code",
   "execution_count": 26,
   "metadata": {},
   "outputs": [
    {
     "ename": "NameError",
     "evalue": "name 'padded_reads' is not defined",
     "output_type": "error",
     "traceback": [
      "\u001b[0;31m---------------------------------------------------------------------------\u001b[0m",
      "\u001b[0;31mNameError\u001b[0m                                 Traceback (most recent call last)",
      "Cell \u001b[0;32mIn[26], line 1\u001b[0m\n\u001b[0;32m----> 1\u001b[0m \u001b[43mpadded_reads\u001b[49m, padded_reads_df\n",
      "\u001b[0;31mNameError\u001b[0m: name 'padded_reads' is not defined"
     ]
    }
   ],
   "source": [
    "padded_reads, padded_reads_df"
   ]
  },
  {
   "cell_type": "code",
   "execution_count": null,
   "metadata": {},
   "outputs": [],
   "source": []
  }
 ],
 "metadata": {
  "kernelspec": {
   "display_name": "Python dimelo_v2_modkit_parsing",
   "language": "python",
   "name": "dimelo_v2_modkit_parsing"
  },
  "language_info": {
   "codemirror_mode": {
    "name": "ipython",
    "version": 3
   },
   "file_extension": ".py",
   "mimetype": "text/x-python",
   "name": "python",
   "nbconvert_exporter": "python",
   "pygments_lexer": "ipython3",
   "version": "3.11.9"
  }
 },
 "nbformat": 4,
 "nbformat_minor": 2
}
