{
 "cells": [
  {
   "cell_type": "markdown",
   "metadata": {},
   "source": [
    "# Extract single reads"
   ]
  },
  {
   "cell_type": "markdown",
   "metadata": {},
   "source": [
    "Date: 23 Jan 2025"
   ]
  },
  {
   "cell_type": "code",
   "execution_count": 11,
   "metadata": {},
   "outputs": [
    {
     "name": "stdout",
     "output_type": "stream",
     "text": [
      "System: Linux\n",
      "Release: 6.8.0-51-generic\n",
      "Version: #52~22.04.1-Ubuntu SMP PREEMPT_DYNAMIC Mon Dec  9 15:00:52 UTC 2\n",
      "Processor: x86_64\n",
      "3.11.9 | packaged by conda-forge | (main, Apr 19 2024, 18:36:13) [GCC 12.3.0]\n"
     ]
    }
   ],
   "source": [
    "from dimelo import parse_bam, plot_enrichment_profile, plot_reads, load_processed, utils\n",
    "import pysam\n",
    "import platform\n",
    "\n",
    "import matplotlib.pyplot as plt\n",
    "from pathlib import Path\n",
    "import seaborn as sns\n",
    "from matplotlib.axes import Axes\n",
    "import numpy as np\n",
    "import pandas as pd\n",
    "\n",
    "print('System:',platform.system())\n",
    "print('Release:',platform.release())\n",
    "print('Version:',platform.version())\n",
    "print('Processor:',platform.processor())\n",
    "\n",
    "#  Pyton version\n",
    "import sys\n",
    "print(sys.version)\n",
    "     "
   ]
  },
  {
   "cell_type": "code",
   "execution_count": 12,
   "metadata": {},
   "outputs": [
    {
     "data": {
      "text/plain": [
       "PosixPath('/home/michalula/data/ref_genomes/to_t2t_v1_1/chm13.draft_v1.1.fasta')"
      ]
     },
     "execution_count": 12,
     "metadata": {},
     "output_type": "execute_result"
    }
   ],
   "source": [
    "ref_genome_v1_1_file = Path('/home/michalula/data/ref_genomes/to_t2t_v1_1/chm13.draft_v1.1.fasta') #'./test/output/chm13.draft_v1.1.fasta')\n",
    "ref_genome_v1_1_file"
   ]
  },
  {
   "cell_type": "code",
   "execution_count": 13,
   "metadata": {},
   "outputs": [
    {
     "data": {
      "text/plain": [
       "PosixPath('dimelo_v2_output')"
      ]
     },
     "execution_count": 13,
     "metadata": {},
     "output_type": "execute_result"
    }
   ],
   "source": [
    "output_dir = Path(\"./dimelo_v2_output\")\n",
    "# Path('/content/drive/MyDrive/Michal Rozenwald/data/CD55/cas9_12ef_101923_misha/dimelo_new_package') # './test/output')\n",
    "\n",
    "output_dir.mkdir(exist_ok=True)\n",
    "output_dir"
   ]
  },
  {
   "cell_type": "code",
   "execution_count": 14,
   "metadata": {},
   "outputs": [
    {
     "name": "stdout",
     "output_type": "stream",
     "text": [
      "align_t2t_v1_1_trim_20241226_MR_nCATs_TPrES_CROFF90prD6_P2R9.dna_r9.4.1_e8_sup@v3.3.5mCG.bam\n",
      "chr1_sort_align_t2t_v1_1_trim_20241226_MR_nCATs_TPrES_CROFF90prD6_P2R9.dna_r9.4.1_e8_sup@v3.3.5mCG.bam\n",
      "chr1_sort_align_t2t_v1_1_trim_20241226_MR_nCATs_TPrES_CROFF90prD6_P2R9.dna_r9.4.1_e8_sup@v3.3.5mCG.bam.bai\n",
      "sort_align_t2t_v1_1_trim_20241226_MR_nCATs_TPrES_CROFF90prD6_P2R9.dna_r9.4.1_e8_sup@v3.3.5mCG.bam\n",
      "sort_align_t2t_v1_1_trim_20241226_MR_nCATs_TPrES_CROFF90prD6_P2R9.dna_r9.4.1_e8_sup@v3.3.5mCG.bam.bai\n",
      "summary_sort_align_t2t_v1_1_trim_20241226_MR_nCATs_TPrES_CROFF90prD6_P2R9.dna_r9.4.1_e8_sup@v3.3.5mCG.tsv\n"
     ]
    }
   ],
   "source": [
    "! ls \"/home/michalula/data/cas9_nanopore/data/20241226_MR_nCATs_TPrES_CROFF90prD6_P2R9/pod5_converted_basecall/5mCG/to_t2t_v1_1/\""
   ]
  },
  {
   "cell_type": "code",
   "execution_count": 15,
   "metadata": {},
   "outputs": [],
   "source": [
    "unedited_bam_path = \"/home/michalula/data/cas9_nanopore/data/20241226_MR_nCATs_TcellsPrES_unedit_P2R9/passed_fast5/5mCG/to_t2t_v1_1/sort_align_trim_20241226_MR_nCATs_TcellsPrES_unedit_P2R9_passed.dna_r9.4.1_e8_sup@v3.3.5mCG.bam\"\n"
   ]
  },
  {
   "cell_type": "code",
   "execution_count": null,
   "metadata": {},
   "outputs": [],
   "source": []
  },
  {
   "cell_type": "code",
   "execution_count": 37,
   "metadata": {},
   "outputs": [],
   "source": [
    "\n",
    "# bam_path = unedited_bam_path\n",
    "# threshold_mC=0.99\n",
    "\n",
    "# t2t_v1_1_cd55_30bps = 'chr1:206586162-206586192'\n",
    "# window_size = None # 4000\n",
    "# # window_size = 4000\n",
    "\n",
    "# outname = f'cd55_window{window_size}'\n",
    "# num_cores = 32\n",
    "\n",
    "# cas9  = parse_bam.extract(\n",
    "#     input_file=bam_path, # ctcf_bam_file_updated\n",
    "#     output_name='cas9_12ef_101923_extract_chr1_206586162_206586192_ws4000_thresh09', # _ws4000 'ctcf_demo_extract',\n",
    "#     ref_genome=ref_genome_v1_1_file, # ref_genome_file,\n",
    "#     output_directory=output_dir,\n",
    "#     regions =t2t_v1_1_cd55_30bps, # [cd55_interest_target_regions], # ctcf_target_regions,ctcf_off_target_regions],\n",
    "#     motifs=['CG,0'], # ['A,0','CG,0'],\n",
    "#     thresh=threshold_mC,  # 0.75, # 190,\n",
    "#     window_size=window_size, # None,\n",
    "#     # cores = 1, # uncomment this line if your process appears to be terminating early (reduces memory usage)\n",
    "#     # quiet = True,\n",
    "#     # cleanup = False,\n",
    "#     # log=True,\n",
    "# )\n",
    "\n",
    "# unedited_failed_extract_file_ws4000, uunedited_failed_extract_regions_ws4000 = cas9\n",
    "# unedited_failed_extract_file_ws4000\n",
    "\n",
    "# plot_reads.plot_reads(\n",
    "#     unedited_failed_extract_file_ws4000, # cas9,\n",
    "#     \"chr1:206586162-206586192\", # bed_region,\n",
    "#     ['CG,0'],\n",
    "#     window_size = window_size,\n",
    "#     sort_by = ['shuffle','strand'], # ['strand'], # ['shuffle','strand'],\n",
    "#     # sort_by = ['shuffle', 'strand', 'region_start'], # ['shuffle','strand'],\n",
    "#     s=1)\n",
    "# plt.xlabel('bp relative to CD55 differential methylated region (t2t v1.1 chr1:206586177)')\n",
    "# # plt.title('cas9_12ef_101923_misha_mod_mappings.retagged.sorted_mC_only.bam CpG extraction')\n",
    "\n",
    " \n"
   ]
  },
  {
   "cell_type": "code",
   "execution_count": 38,
   "metadata": {},
   "outputs": [
    {
     "name": "stdout",
     "output_type": "stream",
     "text": [
      "No specified number of cores requested. 24 available on machine, allocating all.\n",
      "Modification threshold of 0.99 will be treated as coming from range 0-1.\n"
     ]
    },
    {
     "data": {
      "application/vnd.jupyter.widget-view+json": {
       "model_id": "6a091d48ea434f14970b84bb388f7c3c",
       "version_major": 2,
       "version_minor": 0
      },
      "text/plain": [
       "          | Step 1: Identify motif locations in chm13.draft_v1.1.fasta   0% | 00:00"
      ]
     },
     "metadata": {},
     "output_type": "display_data"
    },
    {
     "data": {
      "application/vnd.jupyter.widget-view+json": {
       "model_id": "4c6a600271c94c0e952f26d52cd3255d",
       "version_major": 2,
       "version_minor": 0
      },
      "text/plain": [
       "          | Step 2: Parse regions in sort_align_trim_20241226_MR_nCATs_TcellsPrES_unedit_P2R9_passed.dna_r9.4.…"
      ]
     },
     "metadata": {},
     "output_type": "display_data"
    },
    {
     "data": {
      "application/vnd.jupyter.widget-view+json": {
       "model_id": "7dde0ae6980f47948ffc8701afe587eb",
       "version_major": 2,
       "version_minor": 0
      },
      "text/plain": [
       "          |    0%"
      ]
     },
     "metadata": {},
     "output_type": "display_data"
    },
    {
     "data": {
      "application/vnd.jupyter.widget-view+json": {
       "model_id": "66ed5bda75014d99930c8b3faf7db903",
       "version_major": 2,
       "version_minor": 0
      },
      "text/plain": [
       "          | Transferring 2925 from reads.CG,0.txt into reads.combined_basemods.h5, new size 2925   0% | 00:00<…"
      ]
     },
     "metadata": {},
     "output_type": "display_data"
    },
    {
     "data": {
      "image/png": "[encoded data removed]",
      "text/plain": [
       "<Figure size 640x480 with 1 Axes>"
      ]
     },
     "metadata": {},
     "output_type": "display_data"
    },
    {
     "data": {
      "text/plain": [
       "(PosixPath('dimelo_v2_output/cas9_12ef_101923_extract_chr1_206586162_206586192_wsNone_thresh09/reads.combined_basemods.h5'),\n",
       " PosixPath('dimelo_v2_output/cas9_12ef_101923_extract_chr1_206586162_206586192_wsNone_thresh09/regions.processed.bed'))"
      ]
     },
     "execution_count": 38,
     "metadata": {},
     "output_type": "execute_result"
    }
   ],
   "source": [
    "def extract_from_bam(bam_path, ref_genome_file, output_dir, \n",
    "                    window_size=None, threshold_mC=0.99, num_cores=32,\n",
    "                    regions = 'chr1:206586162-206586192',\n",
    "                    output_name='cas9_12ef_101923_extract_chr1_206586162_206586192_wsNone_thresh09',):\n",
    "    \"\"\"\n",
    "    Processes a BAM file using the parse_bam.extract function and plots the extracted reads.\n",
    "\n",
    "    Parameters:\n",
    "        bam_path (str): Path to the input BAM file.\n",
    "        ref_genome_file (str): Path to the reference genome file.\n",
    "        output_dir (str): Directory to store output files.\n",
    "        window_size (int, optional): Window size for extraction. Defaults to None.\n",
    "        threshold_mC (float, optional): Threshold for methylation. Defaults to 0.99.\n",
    "        num_cores (int, optional): Number of cores for processing. Defaults to 32.\n",
    "\n",
    "    Returns:\n",
    "        extract_file, extract_regions\n",
    "    \"\"\"\n",
    "\n",
    "    extract_file, extract_regions  = parse_bam.extract(\n",
    "        input_file=bam_path,\n",
    "        output_name=output_name,\n",
    "        ref_genome=ref_genome_file,\n",
    "        output_directory=output_dir,\n",
    "        regions=regions,\n",
    "        motifs=['CG,0'],\n",
    "        thresh=threshold_mC,\n",
    "        window_size=window_size,\n",
    "    )\n",
    "\n",
    "    unedited_failed_extract_file_ws4000, unedited_failed_extract_regions_ws4000 = cas9\n",
    "\n",
    "    plot_reads.plot_reads(\n",
    "        extract_file,\n",
    "        t2t_v1_1_cd55_30bps,\n",
    "        ['CG,0'],\n",
    "        window_size=window_size,\n",
    "        sort_by=['shuffle', 'strand'],\n",
    "        s=1\n",
    "    )\n",
    "\n",
    "    plt.xlabel('bp relative to CD55 differential methylated region' + str(regions) )\n",
    "    plt.show()\n",
    "\n",
    "    return(extract_file, extract_regions )\n",
    "\n",
    "# Example usage\n",
    "extract_from_bam(\n",
    "    bam_path=unedited_bam_path,\n",
    "    ref_genome_file=ref_genome_v1_1_file,\n",
    "    output_dir=output_dir,\n",
    "    window_size=window_size, # 4000,\n",
    "    threshold_mC=threshold_mC, #0.99\n",
    "    regions = 'chr1:206586162-206586192',\n",
    "    output_name='cas9_12ef_101923_extract_chr1_206586162_206586192_wsNone_thresh09',\n",
    ")\n"
   ]
  },
  {
   "cell_type": "code",
   "execution_count": null,
   "metadata": {},
   "outputs": [],
   "source": [
    "\n",
    "extract_from_bam(\n",
    "    bam_path=unedited_bam_path,\n",
    "    ref_genome_file=ref_genome_v1_1_file,\n",
    "    output_dir=output_dir,\n",
    "    window_size=window_size, # 4000,\n",
    "    threshold_mC=threshold_mC, #0.99\n",
    "    regions = 'chr1:206586162-206586192',\n",
    "    output_name='cas9_12ef_101923_extract_chr1_206586162_206586192_wsNone_thresh09',\n",
    ")"
   ]
  }
 ],
 "metadata": {
  "kernelspec": {
   "display_name": "Python dimelo_v2_modkit_parsing",
   "language": "python",
   "name": "dimelo_v2_modkit_parsing"
  },
  "language_info": {
   "codemirror_mode": {
    "name": "ipython",
    "version": 3
   },
   "file_extension": ".py",
   "mimetype": "text/x-python",
   "name": "python",
   "nbconvert_exporter": "python",
   "pygments_lexer": "ipython3",
   "version": "3.11.9"
  }
 },
 "nbformat": 4,
 "nbformat_minor": 2
}
